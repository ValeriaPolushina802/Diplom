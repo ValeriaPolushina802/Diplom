{
  "nbformat": 4,
  "nbformat_minor": 0,
  "metadata": {
    "colab": {
      "name": "Промежуточная аттестация_Машинное обучение.ipynb",
      "provenance": []
    },
    "kernelspec": {
      "name": "python3",
      "display_name": "Python 3"
    },
    "language_info": {
      "name": "python"
    }
  },
  "cells": [
    {
      "cell_type": "code",
      "execution_count": 1,
      "metadata": {
        "colab": {
          "base_uri": "https://localhost:8080/"
        },
        "id": "1rCfcwo6D4mK",
        "outputId": "141fc223-974a-488b-ddc5-025790a664dd"
      },
      "outputs": [
        {
          "output_type": "stream",
          "name": "stdout",
          "text": [
            "Collecting pyspark\n",
            "  Downloading pyspark-3.2.1.tar.gz (281.4 MB)\n",
            "\u001b[K     |████████████████████████████████| 281.4 MB 33 kB/s \n",
            "\u001b[?25hCollecting py4j==0.10.9.3\n",
            "  Downloading py4j-0.10.9.3-py2.py3-none-any.whl (198 kB)\n",
            "\u001b[K     |████████████████████████████████| 198 kB 47.0 MB/s \n",
            "\u001b[?25hBuilding wheels for collected packages: pyspark\n",
            "  Building wheel for pyspark (setup.py) ... \u001b[?25l\u001b[?25hdone\n",
            "  Created wheel for pyspark: filename=pyspark-3.2.1-py2.py3-none-any.whl size=281853642 sha256=e97d509388d670000ee1cc5da94160e65d20ade5b69219fc18c65627ae296379\n",
            "  Stored in directory: /root/.cache/pip/wheels/9f/f5/07/7cd8017084dce4e93e84e92efd1e1d5334db05f2e83bcef74f\n",
            "Successfully built pyspark\n",
            "Installing collected packages: py4j, pyspark\n",
            "Successfully installed py4j-0.10.9.3 pyspark-3.2.1\n"
          ]
        }
      ],
      "source": [
        "!pip install pyspark"
      ]
    },
    {
      "cell_type": "code",
      "source": [
        "# загружаем библиотеки\n",
        "import pandas as pd\n",
        "import numpy as np\n",
        "\n",
        "from pyspark.sql.functions import *\n",
        "from pyspark.sql.types import DoubleType, IntegerType, DateType\n",
        "\n",
        "from pyspark.ml.feature import StringIndexer\n",
        "from pyspark.ml import Pipeline\n",
        "from pyspark.ml.feature import VectorAssembler\n",
        "from pyspark.ml.classification import LogisticRegression\n",
        "from pyspark.ml.evaluation import MulticlassClassificationEvaluator"
      ],
      "metadata": {
        "id": "B_714qgsE1Jr"
      },
      "execution_count": 2,
      "outputs": []
    },
    {
      "cell_type": "code",
      "source": [
        "from pyspark.context import SparkContext\n",
        "from pyspark.sql.session import SparkSession #to define a SparkSession\n",
        "\n",
        "sc = SparkContext('local') #spark_connection\n",
        "spark = SparkSession(sc) # open spark session"
      ],
      "metadata": {
        "id": "bP9s8MigE8cy"
      },
      "execution_count": 3,
      "outputs": []
    },
    {
      "cell_type": "markdown",
      "source": [
        "Пункт 1: Взять данные iris.csv\n",
        "Пункт 2: Загрузить в pyspark"
      ],
      "metadata": {
        "id": "LEE93yfuFA_G"
      }
    },
    {
      "cell_type": "code",
      "source": [
        "df = spark.read.format(\"com.databricks.spark.csv\").options(sep=\",\", header=True, quote=\"\").csv('iris.csv')\n",
        "df.show(5)"
      ],
      "metadata": {
        "colab": {
          "base_uri": "https://localhost:8080/"
        },
        "id": "0knOdZ0RFKKM",
        "outputId": "c352b4d5-fb0b-4ecb-e42b-5801d3d0da7c"
      },
      "execution_count": 4,
      "outputs": [
        {
          "output_type": "stream",
          "name": "stdout",
          "text": [
            "+-------------+---------------+----------------+---------------+------------+\n",
            "|\"sepal.length|\"\"sepal.width\"\"|\"\"petal.length\"\"|\"\"petal.width\"\"|\"\"variety\"\"\"|\n",
            "+-------------+---------------+----------------+---------------+------------+\n",
            "|         \"5.1|            3.5|             1.4|             .2| \"\"Setosa\"\"\"|\n",
            "|         \"4.9|              3|             1.4|             .2| \"\"Setosa\"\"\"|\n",
            "|         \"4.7|            3.2|             1.3|             .2| \"\"Setosa\"\"\"|\n",
            "|         \"4.6|            3.1|             1.5|             .2| \"\"Setosa\"\"\"|\n",
            "|           \"5|            3.6|             1.4|             .2| \"\"Setosa\"\"\"|\n",
            "+-------------+---------------+----------------+---------------+------------+\n",
            "only showing top 5 rows\n",
            "\n"
          ]
        }
      ]
    },
    {
      "cell_type": "code",
      "source": [
        "df.printSchema()"
      ],
      "metadata": {
        "colab": {
          "base_uri": "https://localhost:8080/"
        },
        "id": "TKHXGjwrFahX",
        "outputId": "195cf4af-43d2-4af1-f47c-d8381d990b99"
      },
      "execution_count": 5,
      "outputs": [
        {
          "output_type": "stream",
          "name": "stdout",
          "text": [
            "root\n",
            " |-- \"sepal.length: string (nullable = true)\n",
            " |-- \"\"sepal.width\"\": string (nullable = true)\n",
            " |-- \"\"petal.length\"\": string (nullable = true)\n",
            " |-- \"\"petal.width\"\": string (nullable = true)\n",
            " |-- \"\"variety\"\"\": string (nullable = true)\n",
            "\n"
          ]
        }
      ]
    },
    {
      "cell_type": "code",
      "source": [
        "newColumns = [\"sepal_length\",\"sepal_width\",\"petal_length\",\"petal_width\",\"variety\"]\n",
        "df_new = df.toDF(*newColumns)\n"
      ],
      "metadata": {
        "id": "zBYzAWkeFb0f"
      },
      "execution_count": 6,
      "outputs": []
    },
    {
      "cell_type": "code",
      "source": [
        "df_new = df_new.withColumn(\"sepal_length\", regexp_replace(col(\"sepal_length\"), '\"', \"\"))\\\n",
        "    .withColumn(\"variety\", regexp_replace(col(\"variety\"), '\"', \"\"))"
      ],
      "metadata": {
        "id": "5tIUAGafFihq"
      },
      "execution_count": 7,
      "outputs": []
    },
    {
      "cell_type": "code",
      "source": [
        "df_new = df_new \\\n",
        "    .withColumn('sepal_length', col('sepal_length').cast(DoubleType())) \\\n",
        "    .withColumn('sepal_width', col('sepal_width').cast(DoubleType())) \\\n",
        "    .withColumn('petal_length', col('petal_length').cast(DoubleType())) \\\n",
        "    .withColumn('petal_width', col('petal_width').cast(DoubleType()))"
      ],
      "metadata": {
        "id": "WNUKjtdhFizM"
      },
      "execution_count": 8,
      "outputs": []
    },
    {
      "cell_type": "code",
      "source": [
        "df_new.show(5)"
      ],
      "metadata": {
        "colab": {
          "base_uri": "https://localhost:8080/"
        },
        "id": "IMgOOOt-FrMW",
        "outputId": "d71e7e57-c6d1-4c2a-9e90-fddbb68a46a9"
      },
      "execution_count": 9,
      "outputs": [
        {
          "output_type": "stream",
          "name": "stdout",
          "text": [
            "+------------+-----------+------------+-----------+-------+\n",
            "|sepal_length|sepal_width|petal_length|petal_width|variety|\n",
            "+------------+-----------+------------+-----------+-------+\n",
            "|         5.1|        3.5|         1.4|        0.2| Setosa|\n",
            "|         4.9|        3.0|         1.4|        0.2| Setosa|\n",
            "|         4.7|        3.2|         1.3|        0.2| Setosa|\n",
            "|         4.6|        3.1|         1.5|        0.2| Setosa|\n",
            "|         5.0|        3.6|         1.4|        0.2| Setosa|\n",
            "+------------+-----------+------------+-----------+-------+\n",
            "only showing top 5 rows\n",
            "\n"
          ]
        }
      ]
    },
    {
      "cell_type": "code",
      "source": [
        "df_new.printSchema()"
      ],
      "metadata": {
        "colab": {
          "base_uri": "https://localhost:8080/"
        },
        "id": "OF0Z3WB6FsuW",
        "outputId": "4c34ff58-2ec5-491c-b066-a1577af4cc3b"
      },
      "execution_count": 10,
      "outputs": [
        {
          "output_type": "stream",
          "name": "stdout",
          "text": [
            "root\n",
            " |-- sepal_length: double (nullable = true)\n",
            " |-- sepal_width: double (nullable = true)\n",
            " |-- petal_length: double (nullable = true)\n",
            " |-- petal_width: double (nullable = true)\n",
            " |-- variety: string (nullable = true)\n",
            "\n"
          ]
        }
      ]
    },
    {
      "cell_type": "code",
      "source": [
        "df_new.summary().show()"
      ],
      "metadata": {
        "colab": {
          "base_uri": "https://localhost:8080/"
        },
        "id": "oXAZy0KFFxH6",
        "outputId": "5c9a5f65-3600-4495-cd35-610e35396f62"
      },
      "execution_count": 11,
      "outputs": [
        {
          "output_type": "stream",
          "name": "stdout",
          "text": [
            "+-------+------------------+-------------------+------------------+------------------+---------+\n",
            "|summary|      sepal_length|        sepal_width|      petal_length|       petal_width|  variety|\n",
            "+-------+------------------+-------------------+------------------+------------------+---------+\n",
            "|  count|               150|                150|               150|               150|      150|\n",
            "|   mean| 5.843333333333335|  3.057333333333334|3.7580000000000027| 1.199333333333334|     null|\n",
            "| stddev|0.8280661279778637|0.43586628493669793|1.7652982332594662|0.7622376689603467|     null|\n",
            "|    min|               4.3|                2.0|               1.0|               0.1|   Setosa|\n",
            "|    25%|               5.1|                2.8|               1.6|               0.3|     null|\n",
            "|    50%|               5.8|                3.0|               4.3|               1.3|     null|\n",
            "|    75%|               6.4|                3.3|               5.1|               1.8|     null|\n",
            "|    max|               7.9|                4.4|               6.9|               2.5|Virginica|\n",
            "+-------+------------------+-------------------+------------------+------------------+---------+\n",
            "\n"
          ]
        }
      ]
    },
    {
      "cell_type": "markdown",
      "source": [
        "Пункт 3: При помощи VectorAssembler преобразовать все колонки с признаками в одну (использовать PipeLine)"
      ],
      "metadata": {
        "id": "ySApnjibF5vG"
      }
    },
    {
      "cell_type": "code",
      "source": [
        "pipeline = Pipeline(stages = \n",
        "[StringIndexer(inputCol='variety', outputCol='varietyInd'),\n",
        "  VectorAssembler(inputCols=[\"sepal_length\", \"sepal_width\", \"petal_length\", \"petal_width\"], outputCol='Features')])"
      ],
      "metadata": {
        "id": "UeA2AoDeF7r6"
      },
      "execution_count": 12,
      "outputs": []
    },
    {
      "cell_type": "code",
      "source": [
        "pipelineTrained = pipeline.fit(df_new)\n",
        "pipelineTrained.transform(df_new).show()"
      ],
      "metadata": {
        "colab": {
          "base_uri": "https://localhost:8080/"
        },
        "id": "SIR3sDJIGELR",
        "outputId": "f05aaac0-e794-4867-a5de-2e5a13fcf9dc"
      },
      "execution_count": 13,
      "outputs": [
        {
          "output_type": "stream",
          "name": "stdout",
          "text": [
            "+------------+-----------+------------+-----------+-------+----------+-----------------+\n",
            "|sepal_length|sepal_width|petal_length|petal_width|variety|varietyInd|         Features|\n",
            "+------------+-----------+------------+-----------+-------+----------+-----------------+\n",
            "|         5.1|        3.5|         1.4|        0.2| Setosa|       0.0|[5.1,3.5,1.4,0.2]|\n",
            "|         4.9|        3.0|         1.4|        0.2| Setosa|       0.0|[4.9,3.0,1.4,0.2]|\n",
            "|         4.7|        3.2|         1.3|        0.2| Setosa|       0.0|[4.7,3.2,1.3,0.2]|\n",
            "|         4.6|        3.1|         1.5|        0.2| Setosa|       0.0|[4.6,3.1,1.5,0.2]|\n",
            "|         5.0|        3.6|         1.4|        0.2| Setosa|       0.0|[5.0,3.6,1.4,0.2]|\n",
            "|         5.4|        3.9|         1.7|        0.4| Setosa|       0.0|[5.4,3.9,1.7,0.4]|\n",
            "|         4.6|        3.4|         1.4|        0.3| Setosa|       0.0|[4.6,3.4,1.4,0.3]|\n",
            "|         5.0|        3.4|         1.5|        0.2| Setosa|       0.0|[5.0,3.4,1.5,0.2]|\n",
            "|         4.4|        2.9|         1.4|        0.2| Setosa|       0.0|[4.4,2.9,1.4,0.2]|\n",
            "|         4.9|        3.1|         1.5|        0.1| Setosa|       0.0|[4.9,3.1,1.5,0.1]|\n",
            "|         5.4|        3.7|         1.5|        0.2| Setosa|       0.0|[5.4,3.7,1.5,0.2]|\n",
            "|         4.8|        3.4|         1.6|        0.2| Setosa|       0.0|[4.8,3.4,1.6,0.2]|\n",
            "|         4.8|        3.0|         1.4|        0.1| Setosa|       0.0|[4.8,3.0,1.4,0.1]|\n",
            "|         4.3|        3.0|         1.1|        0.1| Setosa|       0.0|[4.3,3.0,1.1,0.1]|\n",
            "|         5.8|        4.0|         1.2|        0.2| Setosa|       0.0|[5.8,4.0,1.2,0.2]|\n",
            "|         5.7|        4.4|         1.5|        0.4| Setosa|       0.0|[5.7,4.4,1.5,0.4]|\n",
            "|         5.4|        3.9|         1.3|        0.4| Setosa|       0.0|[5.4,3.9,1.3,0.4]|\n",
            "|         5.1|        3.5|         1.4|        0.3| Setosa|       0.0|[5.1,3.5,1.4,0.3]|\n",
            "|         5.7|        3.8|         1.7|        0.3| Setosa|       0.0|[5.7,3.8,1.7,0.3]|\n",
            "|         5.1|        3.8|         1.5|        0.3| Setosa|       0.0|[5.1,3.8,1.5,0.3]|\n",
            "+------------+-----------+------------+-----------+-------+----------+-----------------+\n",
            "only showing top 20 rows\n",
            "\n"
          ]
        }
      ]
    },
    {
      "cell_type": "code",
      "source": [
        "df_features = pipelineTrained.transform(df_new)"
      ],
      "metadata": {
        "id": "42xKbyh-GLUz"
      },
      "execution_count": 14,
      "outputs": []
    },
    {
      "cell_type": "markdown",
      "source": [
        "Пункт 4: Разбить данные на train и test"
      ],
      "metadata": {
        "id": "bY6P0K0HGPT0"
      }
    },
    {
      "cell_type": "code",
      "source": [
        "train, test = df_features.randomSplit([0.8, 0.2], seed=12345)\n",
        "train.show()"
      ],
      "metadata": {
        "colab": {
          "base_uri": "https://localhost:8080/"
        },
        "id": "DAq5xVy8GQ4z",
        "outputId": "84955118-6530-4b48-97c3-b681d2110b98"
      },
      "execution_count": 15,
      "outputs": [
        {
          "output_type": "stream",
          "name": "stdout",
          "text": [
            "+------------+-----------+------------+-----------+----------+----------+-----------------+\n",
            "|sepal_length|sepal_width|petal_length|petal_width|   variety|varietyInd|         Features|\n",
            "+------------+-----------+------------+-----------+----------+----------+-----------------+\n",
            "|         4.3|        3.0|         1.1|        0.1|    Setosa|       0.0|[4.3,3.0,1.1,0.1]|\n",
            "|         4.4|        2.9|         1.4|        0.2|    Setosa|       0.0|[4.4,2.9,1.4,0.2]|\n",
            "|         4.4|        3.0|         1.3|        0.2|    Setosa|       0.0|[4.4,3.0,1.3,0.2]|\n",
            "|         4.4|        3.2|         1.3|        0.2|    Setosa|       0.0|[4.4,3.2,1.3,0.2]|\n",
            "|         4.5|        2.3|         1.3|        0.3|    Setosa|       0.0|[4.5,2.3,1.3,0.3]|\n",
            "|         4.6|        3.1|         1.5|        0.2|    Setosa|       0.0|[4.6,3.1,1.5,0.2]|\n",
            "|         4.6|        3.4|         1.4|        0.3|    Setosa|       0.0|[4.6,3.4,1.4,0.3]|\n",
            "|         4.6|        3.6|         1.0|        0.2|    Setosa|       0.0|[4.6,3.6,1.0,0.2]|\n",
            "|         4.7|        3.2|         1.3|        0.2|    Setosa|       0.0|[4.7,3.2,1.3,0.2]|\n",
            "|         4.7|        3.2|         1.6|        0.2|    Setosa|       0.0|[4.7,3.2,1.6,0.2]|\n",
            "|         4.8|        3.0|         1.4|        0.1|    Setosa|       0.0|[4.8,3.0,1.4,0.1]|\n",
            "|         4.8|        3.0|         1.4|        0.3|    Setosa|       0.0|[4.8,3.0,1.4,0.3]|\n",
            "|         4.8|        3.1|         1.6|        0.2|    Setosa|       0.0|[4.8,3.1,1.6,0.2]|\n",
            "|         4.8|        3.4|         1.6|        0.2|    Setosa|       0.0|[4.8,3.4,1.6,0.2]|\n",
            "|         4.8|        3.4|         1.9|        0.2|    Setosa|       0.0|[4.8,3.4,1.9,0.2]|\n",
            "|         4.9|        2.4|         3.3|        1.0|Versicolor|       1.0|[4.9,2.4,3.3,1.0]|\n",
            "|         4.9|        2.5|         4.5|        1.7| Virginica|       2.0|[4.9,2.5,4.5,1.7]|\n",
            "|         4.9|        3.0|         1.4|        0.2|    Setosa|       0.0|[4.9,3.0,1.4,0.2]|\n",
            "|         4.9|        3.1|         1.5|        0.1|    Setosa|       0.0|[4.9,3.1,1.5,0.1]|\n",
            "|         4.9|        3.1|         1.5|        0.2|    Setosa|       0.0|[4.9,3.1,1.5,0.2]|\n",
            "+------------+-----------+------------+-----------+----------+----------+-----------------+\n",
            "only showing top 20 rows\n",
            "\n"
          ]
        }
      ]
    },
    {
      "cell_type": "code",
      "source": [
        "test.show()"
      ],
      "metadata": {
        "colab": {
          "base_uri": "https://localhost:8080/"
        },
        "id": "Fo2c51ZDGZEm",
        "outputId": "a232e207-2e2c-4981-bb6a-a596182f9a94"
      },
      "execution_count": 16,
      "outputs": [
        {
          "output_type": "stream",
          "name": "stdout",
          "text": [
            "+------------+-----------+------------+-----------+----------+----------+-----------------+\n",
            "|sepal_length|sepal_width|petal_length|petal_width|   variety|varietyInd|         Features|\n",
            "+------------+-----------+------------+-----------+----------+----------+-----------------+\n",
            "|         4.6|        3.2|         1.4|        0.2|    Setosa|       0.0|[4.6,3.2,1.4,0.2]|\n",
            "|         5.0|        3.0|         1.6|        0.2|    Setosa|       0.0|[5.0,3.0,1.6,0.2]|\n",
            "|         5.0|        3.2|         1.2|        0.2|    Setosa|       0.0|[5.0,3.2,1.2,0.2]|\n",
            "|         5.0|        3.5|         1.3|        0.3|    Setosa|       0.0|[5.0,3.5,1.3,0.3]|\n",
            "|         5.1|        3.5|         1.4|        0.3|    Setosa|       0.0|[5.1,3.5,1.4,0.3]|\n",
            "|         5.4|        3.4|         1.5|        0.4|    Setosa|       0.0|[5.4,3.4,1.5,0.4]|\n",
            "|         5.4|        3.9|         1.3|        0.4|    Setosa|       0.0|[5.4,3.9,1.3,0.4]|\n",
            "|         5.7|        2.8|         4.1|        1.3|Versicolor|       1.0|[5.7,2.8,4.1,1.3]|\n",
            "|         6.1|        2.9|         4.7|        1.4|Versicolor|       1.0|[6.1,2.9,4.7,1.4]|\n",
            "|         6.2|        2.2|         4.5|        1.5|Versicolor|       1.0|[6.2,2.2,4.5,1.5]|\n",
            "|         6.2|        3.4|         5.4|        2.3| Virginica|       2.0|[6.2,3.4,5.4,2.3]|\n",
            "|         6.4|        3.1|         5.5|        1.8| Virginica|       2.0|[6.4,3.1,5.5,1.8]|\n",
            "|         6.5|        3.0|         5.2|        2.0| Virginica|       2.0|[6.5,3.0,5.2,2.0]|\n",
            "|         6.5|        3.2|         5.1|        2.0| Virginica|       2.0|[6.5,3.2,5.1,2.0]|\n",
            "|         6.7|        2.5|         5.8|        1.8| Virginica|       2.0|[6.7,2.5,5.8,1.8]|\n",
            "|         6.7|        3.0|         5.2|        2.3| Virginica|       2.0|[6.7,3.0,5.2,2.3]|\n",
            "|         6.7|        3.1|         4.7|        1.5|Versicolor|       1.0|[6.7,3.1,4.7,1.5]|\n",
            "|         6.7|        3.3|         5.7|        2.5| Virginica|       2.0|[6.7,3.3,5.7,2.5]|\n",
            "|         6.9|        3.1|         4.9|        1.5|Versicolor|       1.0|[6.9,3.1,4.9,1.5]|\n",
            "|         6.9|        3.1|         5.4|        2.1| Virginica|       2.0|[6.9,3.1,5.4,2.1]|\n",
            "+------------+-----------+------------+-----------+----------+----------+-----------------+\n",
            "only showing top 20 rows\n",
            "\n"
          ]
        }
      ]
    },
    {
      "cell_type": "markdown",
      "source": [
        "Пункт 5: Создать модель логистической регресии и обучить ее"
      ],
      "metadata": {
        "id": "6NNgECuFGezI"
      }
    },
    {
      "cell_type": "code",
      "source": [
        "lr = LogisticRegression(featuresCol = 'Features', labelCol = 'varietyInd')\n",
        "lrModel = lr.fit(train)\n",
        "\n",
        "train_r = lrModel.transform(train)\n",
        "test_r = lrModel.transform(test)\n",
        "\n",
        "train_r.show()"
      ],
      "metadata": {
        "colab": {
          "base_uri": "https://localhost:8080/"
        },
        "id": "ubiOuGL8Ggp4",
        "outputId": "4539513c-89a4-422f-f5fa-93da2c52e512"
      },
      "execution_count": 20,
      "outputs": [
        {
          "output_type": "stream",
          "name": "stdout",
          "text": [
            "+------------+-----------+------------+-----------+----------+----------+-----------------+--------------------+--------------------+----------+\n",
            "|sepal_length|sepal_width|petal_length|petal_width|   variety|varietyInd|         Features|       rawPrediction|         probability|prediction|\n",
            "+------------+-----------+------------+-----------+----------+----------+-----------------+--------------------+--------------------+----------+\n",
            "|         4.3|        3.0|         1.1|        0.1|    Setosa|       0.0|[4.3,3.0,1.1,0.1]|[67.7027919587531...|[1.0,1.6424718354...|       0.0|\n",
            "|         4.4|        2.9|         1.4|        0.2|    Setosa|       0.0|[4.4,2.9,1.4,0.2]|[57.0087434717148...|[1.0,1.4036227809...|       0.0|\n",
            "|         4.4|        3.0|         1.3|        0.2|    Setosa|       0.0|[4.4,3.0,1.3,0.2]|[61.7475610236625...|[1.0,2.4772179810...|       0.0|\n",
            "|         4.4|        3.2|         1.3|        0.2|    Setosa|       0.0|[4.4,3.2,1.3,0.2]|[68.8060989728479...|[1.0,1.2455403381...|       0.0|\n",
            "|         4.5|        2.3|         1.3|        0.3|    Setosa|       0.0|[4.5,2.3,1.3,0.3]|[33.5065444211333...|[0.99999999999743...|       0.0|\n",
            "|         4.6|        3.1|         1.5|        0.2|    Setosa|       0.0|[4.6,3.1,1.5,0.2]|[61.0755416232729...|[1.0,5.0956843582...|       0.0|\n",
            "|         4.6|        3.4|         1.4|        0.3|    Setosa|       0.0|[4.6,3.4,1.4,0.3]|[70.2278589541617...|[1.0,9.9660365310...|       0.0|\n",
            "|         4.6|        3.6|         1.0|        0.2|    Setosa|       0.0|[4.6,3.6,1.0,0.2]|[84.7696293830116...|[1.0,8.7251237620...|       0.0|\n",
            "|         4.7|        3.2|         1.3|        0.2|    Setosa|       0.0|[4.7,3.2,1.3,0.2]|[66.1328121424396...|[1.0,9.4890152732...|       0.0|\n",
            "|         4.7|        3.2|         1.6|        0.2|    Setosa|       0.0|[4.7,3.2,1.6,0.2]|[62.5041664103744...|[1.0,6.1541780872...|       0.0|\n",
            "|         4.8|        3.0|         1.4|        0.1|    Setosa|       0.0|[4.8,3.0,1.4,0.1]|[59.6186681760073...|[1.0,1.4584305706...|       0.0|\n",
            "|         4.8|        3.0|         1.4|        0.3|    Setosa|       0.0|[4.8,3.0,1.4,0.3]|[54.3285918355187...|[1.0,7.0845275488...|       0.0|\n",
            "|         4.8|        3.1|         1.6|        0.2|    Setosa|       0.0|[4.8,3.1,1.6,0.2]|[58.0838018256456...|[1.0,3.6792648855...|       0.0|\n",
            "|         4.8|        3.4|         1.6|        0.2|    Setosa|       0.0|[4.8,3.4,1.6,0.2]|[68.6716087494237...|[1.0,1.3117510359...|       0.0|\n",
            "|         4.8|        3.4|         1.9|        0.2|    Setosa|       0.0|[4.8,3.4,1.9,0.2]|[65.0429630173585...|[1.0,8.5074681082...|       0.0|\n",
            "|         4.9|        2.4|         3.3|        1.0|Versicolor|       1.0|[4.9,2.4,3.3,1.0]|[-9.2348077836296...|[5.60296124082673...|       1.0|\n",
            "|         4.9|        2.5|         4.5|        1.7| Virginica|       2.0|[4.9,2.5,4.5,1.7]|[-38.735388929007...|[1.73753692383009...|       2.0|\n",
            "|         4.9|        3.0|         1.4|        0.2|    Setosa|       0.0|[4.9,3.0,1.4,0.2]|[56.0825343956269...|[1.0,1.3626556118...|       0.0|\n",
            "|         4.9|        3.1|         1.5|        0.1|    Setosa|       0.0|[4.9,3.1,1.5,0.1]|[61.0472929631089...|[1.0,1.7613809704...|       0.0|\n",
            "|         4.9|        3.1|         1.5|        0.2|    Setosa|       0.0|[4.9,3.1,1.5,0.2]|[58.4022547928645...|[1.0,3.8820923917...|       0.0|\n",
            "+------------+-----------+------------+-----------+----------+----------+-----------------+--------------------+--------------------+----------+\n",
            "only showing top 20 rows\n",
            "\n"
          ]
        }
      ]
    },
    {
      "cell_type": "code",
      "source": [
        "test_r.show()"
      ],
      "metadata": {
        "colab": {
          "base_uri": "https://localhost:8080/"
        },
        "id": "Pvk_b9RRG6BL",
        "outputId": "37e64c23-f208-4195-e3ab-6031bef32c6f"
      },
      "execution_count": 21,
      "outputs": [
        {
          "output_type": "stream",
          "name": "stdout",
          "text": [
            "+------------+-----------+------------+-----------+----------+----------+-----------------+--------------------+--------------------+----------+\n",
            "|sepal_length|sepal_width|petal_length|petal_width|   variety|varietyInd|         Features|       rawPrediction|         probability|prediction|\n",
            "+------------+-----------+------------+-----------+----------+----------+-----------------+--------------------+--------------------+----------+\n",
            "|         4.6|        3.2|         1.4|        0.2|    Setosa|       0.0|[4.6,3.2,1.4,0.2]|[65.8143591752207...|[1.0,8.9932431201...|       0.0|\n",
            "|         5.0|        3.0|         1.6|        0.2|    Setosa|       0.0|[5.0,3.0,1.6,0.2]|[52.7723416307807...|[1.0,9.3248066295...|       0.0|\n",
            "|         5.0|        3.2|         1.2|        0.2|    Setosa|       0.0|[5.0,3.2,1.2,0.2]|[64.6690738893863...|[1.0,1.7992914773...|       0.0|\n",
            "|         5.0|        3.5|         1.3|        0.3|    Setosa|       0.0|[5.0,3.5,1.3,0.3]|[71.4022940655650...|[1.0,5.6805112138...|       0.0|\n",
            "|         5.1|        3.5|         1.4|        0.3|    Setosa|       0.0|[5.1,3.5,1.4,0.3]|[69.3016498780739...|[1.0,9.6751604427...|       0.0|\n",
            "|         5.4|        3.4|         1.5|        0.4|    Setosa|       0.0|[5.4,3.4,1.5,0.4]|[59.2445073254735...|[1.0,9.2049254554...|       0.0|\n",
            "|         5.4|        3.9|         1.3|        0.4|    Setosa|       0.0|[5.4,3.9,1.3,0.4]|[79.3099493531470...|[1.0,1.0222056261...|       0.0|\n",
            "|         5.7|        2.8|         4.1|        1.3|Versicolor|       1.0|[5.7,2.8,4.1,1.3]|[-19.857999895921...|[2.92296739402976...|       1.0|\n",
            "|         6.1|        2.9|         4.7|        1.4|Versicolor|       1.0|[6.1,2.9,4.7,1.4]|[-29.795442996247...|[1.37507021891532...|       1.0|\n",
            "|         6.2|        2.2|         4.5|        1.5|Versicolor|       1.0|[6.2,2.2,4.5,1.5]|[-55.617362444066...|[1.89148902308776...|       1.0|\n",
            "|         6.2|        3.4|         5.4|        2.3| Virginica|       2.0|[6.2,3.4,5.4,2.3]|[-45.312377307104...|[1.05183032133338...|       2.0|\n",
            "|         6.4|        3.1|         5.5|        1.8| Virginica|       2.0|[6.4,3.1,5.5,1.8]|[-45.666733177288...|[1.40585868757656...|       2.0|\n",
            "|         6.5|        3.0|         5.2|        2.0| Virginica|       2.0|[6.5,3.0,5.2,2.0]|[-51.748528370440...|[7.53728472914469...|       2.0|\n",
            "|         6.5|        3.2|         5.1|        2.0| Virginica|       2.0|[6.5,3.2,5.1,2.0]|[-43.480441843900...|[5.51578248731895...|       2.0|\n",
            "|         6.7|        2.5|         5.8|        1.8| Virginica|       2.0|[6.7,2.5,5.8,1.8]|[-73.144279587317...|[8.71478137458529...|       2.0|\n",
            "|         6.7|        3.0|         5.2|        2.3| Virginica|       2.0|[6.7,3.0,5.2,2.3]|[-61.465834101445...|[3.17365707702393...|       2.0|\n",
            "|         6.7|        3.1|         4.7|        1.5|Versicolor|       1.0|[6.7,3.1,4.7,1.5]|[-30.728516878123...|[2.13953602238392...|       1.0|\n",
            "|         6.7|        3.3|         5.7|        2.5| Virginica|       2.0|[6.7,3.3,5.7,2.5]|[-62.215846404931...|[6.06480734858109...|       2.0|\n",
            "|         6.9|        3.1|         4.9|        1.5|Versicolor|       1.0|[6.9,3.1,4.9,1.5]|[-34.929805253105...|[7.36597936086620...|       1.0|\n",
            "|         6.9|        3.1|         5.4|        2.1| Virginica|       2.0|[6.9,3.1,5.4,2.1]|[-56.847777161346...|[1.39659261185467...|       2.0|\n",
            "+------------+-----------+------------+-----------+----------+----------+-----------------+--------------------+--------------------+----------+\n",
            "only showing top 20 rows\n",
            "\n"
          ]
        }
      ]
    },
    {
      "cell_type": "markdown",
      "source": [
        "Пункт 6: Воспользоваться MulticlassClassificationEvaluator для оценки качества на train и test множестве"
      ],
      "metadata": {
        "id": "o8IW-NvGG742"
      }
    },
    {
      "cell_type": "code",
      "source": [
        "ev = MulticlassClassificationEvaluator(labelCol='varietyInd')"
      ],
      "metadata": {
        "id": "jWWI2hC6G_Rg"
      },
      "execution_count": 19,
      "outputs": []
    },
    {
      "cell_type": "code",
      "source": [
        "print('Точность предсказания на train_r:', ev.evaluate(train_r)*100, '%')\n",
        "print('Точность предсказания на test_r:', ev.evaluate(test_r)*100, '%')"
      ],
      "metadata": {
        "colab": {
          "base_uri": "https://localhost:8080/"
        },
        "id": "EzGH8UJpHH1v",
        "outputId": "2681a319-98df-4bfa-ab46-5ab8c4fce369"
      },
      "execution_count": 22,
      "outputs": [
        {
          "output_type": "stream",
          "name": "stdout",
          "text": [
            "Точность предсказания на train_r: 98.44961240310077 %\n",
            "Точность предсказания на test_r: 100.0 %\n"
          ]
        }
      ]
    }
  ]
}