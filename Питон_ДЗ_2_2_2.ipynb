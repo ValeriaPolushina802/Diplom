{
  "nbformat": 4,
  "nbformat_minor": 0,
  "metadata": {
    "colab": {
      "name": "Питон - ДЗ 2.2.2.ipynb",
      "provenance": []
    },
    "kernelspec": {
      "name": "python3",
      "display_name": "Python 3"
    },
    "language_info": {
      "name": "python"
    }
  },
  "cells": [
    {
      "cell_type": "code",
      "execution_count": 24,
      "metadata": {
        "id": "C2KnBuSzswf4"
      },
      "outputs": [],
      "source": [
        "# 1. Загрузка датасета\n",
        "import numpy as np"
      ]
    },
    {
      "cell_type": "code",
      "source": [
        "datasete = 'https://archive.ics.uci.edu/ml/machine-learning-databases/iris/iris.data'\n",
        "iris = np.genfromtxt(datasete, delimiter=',', dtype='object')\n",
        "\n",
        "iris[:15]"
      ],
      "metadata": {
        "colab": {
          "base_uri": "https://localhost:8080/"
        },
        "id": "OQ8eeKoCuUBM",
        "outputId": "6305f8e3-b6a6-462b-d20a-0068bfa4c21a"
      },
      "execution_count": 25,
      "outputs": [
        {
          "output_type": "execute_result",
          "data": {
            "text/plain": [
              "array([[b'5.1', b'3.5', b'1.4', b'0.2', b'Iris-setosa'],\n",
              "       [b'4.9', b'3.0', b'1.4', b'0.2', b'Iris-setosa'],\n",
              "       [b'4.7', b'3.2', b'1.3', b'0.2', b'Iris-setosa'],\n",
              "       [b'4.6', b'3.1', b'1.5', b'0.2', b'Iris-setosa'],\n",
              "       [b'5.0', b'3.6', b'1.4', b'0.2', b'Iris-setosa'],\n",
              "       [b'5.4', b'3.9', b'1.7', b'0.4', b'Iris-setosa'],\n",
              "       [b'4.6', b'3.4', b'1.4', b'0.3', b'Iris-setosa'],\n",
              "       [b'5.0', b'3.4', b'1.5', b'0.2', b'Iris-setosa'],\n",
              "       [b'4.4', b'2.9', b'1.4', b'0.2', b'Iris-setosa'],\n",
              "       [b'4.9', b'3.1', b'1.5', b'0.1', b'Iris-setosa'],\n",
              "       [b'5.4', b'3.7', b'1.5', b'0.2', b'Iris-setosa'],\n",
              "       [b'4.8', b'3.4', b'1.6', b'0.2', b'Iris-setosa'],\n",
              "       [b'4.8', b'3.0', b'1.4', b'0.1', b'Iris-setosa'],\n",
              "       [b'4.3', b'3.0', b'1.1', b'0.1', b'Iris-setosa'],\n",
              "       [b'5.8', b'4.0', b'1.2', b'0.2', b'Iris-setosa']], dtype=object)"
            ]
          },
          "metadata": {},
          "execution_count": 25
        }
      ]
    },
    {
      "cell_type": "code",
      "source": [
        "# 2.Вычислите простейшие статистики: min, max, median, mean, 0.25-percentile, 0.75-percentile для каждого из числовых атрибутов в датасете.\n",
        "\n",
        "atribut_1 = np.genfromtxt(datasete, delimiter=',', dtype='float', usecols=[0])\n",
        "atribut_2 = np.genfromtxt(datasete, delimiter=',', dtype='float', usecols=[1])\n",
        "atribut_3 = np.genfromtxt(datasete, delimiter=',', dtype='float', usecols=[2])\n",
        "atribut_4 = np.genfromtxt(datasete, delimiter=',', dtype='float', usecols=[3])\n",
        "atribut_5 = np.genfromtxt(datasete, delimiter=',', dtype='str', usecols=[4])\n",
        "\n",
        "\n",
        "print('Минимальное значение 1-го атрибута =', np.min(atribut_1))\n",
        "print('Максимальное значение 1-го атрибута =', np.max(atribut_1))\n",
        "print(\"Медиана 1-го атрибута =\", np.median(atribut_1))\n",
        "print('Среднее =', np.mean(atribut_1))\n",
        "print('Персентиль 0,25 1-го атрибута =', np.percentile(atribut_1, 0.25))\n",
        "print('Персентиль 0,75 1-го атрибута =', np.percentile(atribut_1,0.75))"
      ],
      "metadata": {
        "colab": {
          "base_uri": "https://localhost:8080/"
        },
        "id": "ai6EVRlZva7H",
        "outputId": "4f80b9c5-e966-4c0c-9512-7687deb77dbe"
      },
      "execution_count": 63,
      "outputs": [
        {
          "output_type": "stream",
          "name": "stdout",
          "text": [
            "Минимальное значение 1-го атрибута = 4.3\n",
            "Максимальное значение 1-го атрибута = 7.9\n",
            "Медиана 1-го атрибута = 5.8\n",
            "Среднее = 5.843333333333334\n",
            "Персентиль 0,25 1-го атрибута = 4.33725\n",
            "Персентиль 0,75 1-го атрибута = 4.4\n"
          ]
        }
      ]
    },
    {
      "cell_type": "code",
      "source": [
        "number_atrs = []\n",
        "for i in range(4):\n",
        "    number_atrs.append(np.genfromtxt(datasete, delimiter=',', dtype='float', usecols=[i]))\n",
        "\n",
        "for i in range(len(number_atrs)):\n",
        "    print(f'Среднее для атрибута {i+1} = ', np.mean(number_atrs[i]))\n",
        "    print(f'Минимум для атрибута {i+1} = ', np.min(number_atrs[i]))\n",
        "    print(f'Максимум для атрибута {i+1} = ', np.max(number_atrs[i]))\n",
        "    print(f'Медиана для атрибута {i+1} = ', np.median(number_atrs[i]))\n",
        "    print(f'Персентиль 0.25 для атрибута {i+1} = ', np.percentile(number_atrs[i], 25))\n",
        "    print(f'Персентиль 0.75 для атрибута {i+1} = ', np.percentile(number_atrs[i], 75))\n",
        "    print('\\n')"
      ],
      "metadata": {
        "id": "hE5RsOQ6zJwd"
      },
      "execution_count": null,
      "outputs": []
    },
    {
      "cell_type": "code",
      "source": [
        "# 3. Постройте гистограмму для каждого из числовых атрибутов в датасете.\n",
        "import matplotlib.pyplot as plt\n",
        "\n",
        "plt.hist(number_atrs[0])"
      ],
      "metadata": {
        "id": "q64zvN9u0fVf"
      },
      "execution_count": null,
      "outputs": []
    },
    {
      "cell_type": "code",
      "source": [
        "fig, ((ax1, ax2), (ax3, ax4)) = plt.subplots(nrows=2, ncols=2)\n",
        "\n",
        "ax1.hist(atribut_1)\n",
        "ax1.set_title('Гистограмма для 1-го атрибута')\n",
        "\n",
        "ax2.hist(atribut_2)\n",
        "ax2.set_title('Гистограмма для 2-го атрибута')\n",
        "\n",
        "ax3.hist(atribut_3)\n",
        "ax3.set_title('Гистограмма для 3-го атрибута')\n",
        "\n",
        "ax4.hist(atribut_4)\n",
        "ax4.set_title('Гистограмма для 4-го атрибута')\n",
        "\n",
        "fig.tight_layout()\n",
        "plt.show()"
      ],
      "metadata": {
        "id": "z1sGOelD1hWF"
      },
      "execution_count": null,
      "outputs": []
    },
    {
      "cell_type": "code",
      "source": [
        "#fig, ((usecols=[0], usecols=[1]), (usecols=[2], usecols=[3]) = plt.subplots(nrows=2, ncols=2) \n",
        "for i in range(len(number_atrs)):\n",
        "    plt.hist(number_atrs[i])\n",
        "    plt.title(f'Гистограмма для атрибута {i+1}')\n",
        "    plt.show()"
      ],
      "metadata": {
        "id": "l3mJGISL2Uep"
      },
      "execution_count": null,
      "outputs": []
    },
    {
      "cell_type": "code",
      "source": [
        "# 4. Сгруппируйте датасет по категории (последний столбец датасета) и повторите шаги 2 и 3 для групп.\n",
        "\n",
        "#Для атрибута 1:\n",
        "atribut_new_1 = []\n",
        "\n",
        "for group_val in np.unique(atribut_5):\n",
        "    atribut_new_1.append(atribut_1[atribut_5==group_val])\n",
        "\n",
        "\n",
        "print(\"Среднее для атрибута 1 = \", np.mean(atribut_new_1, axis = 1))\n",
        "print(\"Минимум для атрибута 1  = \", np.min(atribut_new_1, axis = 1))\n",
        "print(\"Максимум для атрибута 1  = \", np.max(atribut_new_1, axis = 1))\n",
        "print(\"Медиана для атрибута 1  = \", np.median(atribut_new_1, axis = 1))\n",
        "print(\"Персентиль 0.25 для атрибута 1  = \", np.percentile(atribut_new_1, 25, axis = 1))\n",
        "print(\"Персентиль 0.75 для атрибута 1  = \", np.percentile(atribut_new_1, 75, axis = 1))\n",
        "\n",
        "\n",
        "plt.hist(atribut_new_1)\n",
        "plt.title(\"Гистограмма для атрибута 1\")\n",
        "plt.legend([1,2,3])\n",
        "plt.show()\n"
      ],
      "metadata": {
        "id": "JjeRO-0x4gWw"
      },
      "execution_count": null,
      "outputs": []
    },
    {
      "cell_type": "code",
      "source": [
        "#Для атрибута 2:\n",
        "atribut_new_2 = []\n",
        "\n",
        "for group_val in np.unique(atribut_5):\n",
        "    atribut_new_2.append(atribut_2[atribut_5==group_val])\n",
        "\n",
        "\n",
        "print(\"Среднее для атрибута 2 = \", np.mean(atribut_new_2, axis = 1))\n",
        "print(\"Минимум для атрибута 2  = \", np.min(atribut_new_2, axis = 1))\n",
        "print(\"Максимум для атрибута 2  = \", np.max(atribut_new_2, axis = 1))\n",
        "print(\"Медиана для атрибута 2  = \", np.median(atribut_new_2, axis = 1))\n",
        "print(\"Персентиль 0.25 для атрибута 2  = \", np.percentile(atribut_new_2, 25, axis = 1))\n",
        "print(\"Персентиль 0.75 для атрибута 2  = \", np.percentile(atribut_new_2, 75, axis = 1))\n",
        "\n",
        "\n",
        "plt.hist(atribut_new_2)\n",
        "plt.title(\"Гистограмма для атрибута 2\")\n",
        "plt.legend([1,2,3])\n",
        "plt.show()"
      ],
      "metadata": {
        "id": "dmKOYRFx-0Lm"
      },
      "execution_count": null,
      "outputs": []
    },
    {
      "cell_type": "code",
      "source": [
        "#Для атрибута 3:\n",
        "atribut_new_3 = []\n",
        "\n",
        "for group_val in np.unique(atribut_5):\n",
        "    atribut_new_3.append(atribut_3[atribut_5==group_val])\n",
        "\n",
        "\n",
        "print(\"Среднее для атрибута 3 = \", np.mean(atribut_new_3, axis = 1))\n",
        "print(\"Минимум для атрибута 3  = \", np.min(atribut_new_3, axis = 1))\n",
        "print(\"Максимум для атрибута 3  = \", np.max(atribut_new_3, axis = 1))\n",
        "print(\"Медиана для атрибута 3  = \", np.median(atribut_new_3, axis = 1))\n",
        "print(\"Персентиль 0.25 для атрибута 3  = \", np.percentile(atribut_new_3, 25, axis = 1))\n",
        "print(\"Персентиль 0.75 для атрибута 3  = \", np.percentile(atribut_new_3, 75, axis = 1))\n",
        "\n",
        "\n",
        "plt.hist(atribut_new_3)\n",
        "plt.title(\"Гистограмма для атрибута 3\")\n",
        "plt.legend([1,2,3])\n",
        "plt.show()"
      ],
      "metadata": {
        "id": "E43CWsYD_Ia8"
      },
      "execution_count": null,
      "outputs": []
    },
    {
      "cell_type": "code",
      "source": [
        "#Для атрибута 4:\n",
        "atribut_new_4 = []\n",
        "\n",
        "for group_val in np.unique(atribut_5):\n",
        "    atribut_new_4.append(atribut_4[atribut_5==group_val])\n",
        "\n",
        "\n",
        "print(\"Среднее для атрибута 4 = \", np.mean(atribut_new_4, axis = 1))\n",
        "print(\"Минимум для атрибута 4  = \", np.min(atribut_new_4, axis = 1))\n",
        "print(\"Максимум для атрибута 4  = \", np.max(atribut_new_4, axis = 1))\n",
        "print(\"Медиана для атрибута 4  = \", np.median(atribut_new_4, axis = 1))\n",
        "print(\"Персентиль 0.25 для атрибута 4  = \", np.percentile(atribut_new_4, 25, axis = 1))\n",
        "print(\"Персентиль 0.75 для атрибута 4  = \", np.percentile(atribut_new_4, 75, axis = 1))\n",
        "\n",
        "\n",
        "plt.hist(atribut_new_4)\n",
        "plt.title(\"Гистограмма для атрибута 4\")\n",
        "plt.legend([1,2,3])\n",
        "plt.show()"
      ],
      "metadata": {
        "id": "KcnEpJuJ_Ytj"
      },
      "execution_count": null,
      "outputs": []
    },
    {
      "cell_type": "code",
      "source": [
        "new_number_atrs = [] \n",
        "\n",
        "for i in range(len(number_atrs)):\n",
        "    for group_val in np.unique(atribut_5): \n",
        "        new_number_atrs.append([i, group_val, number_atrs[i][atribut_5==group_val]])"
      ],
      "metadata": {
        "id": "AdJR1FC191I5"
      },
      "execution_count": 67,
      "outputs": []
    },
    {
      "cell_type": "code",
      "source": [
        "for i in range(12):\n",
        "  print(f\"Среднее для группы {new_number_atrs[i][1]} из числового атрибута {new_number_atrs[i][0]}\", np.mean(new_number_atrs[i][2]))\n",
        "  plt.hist(new_number_atrs[i][2])\n",
        "  plt.show()"
      ],
      "metadata": {
        "id": "dQej6L-C9b_j"
      },
      "execution_count": null,
      "outputs": []
    },
    {
      "cell_type": "code",
      "source": [
        "for i in range(len(new_number_atrs)):\n",
        "    print(f'Для числового атрибута {new_number_atrs[i][0]+1}  группы {new_number_atrs[i][1]}')\n",
        "    print('\\n')\n",
        "    print('Pадание 2 ***')\n",
        "    print(f'Среднее для нового атрибута {i} = ', np.mean(new_number_atrs[i][2]))\n",
        "    print(f'Минимум для нового атрибута {i} = ', np.min(new_number_atrs[i][2]))\n",
        "    print(f'Максимум для нового атрибута {i} = ', np.max(new_number_atrs[i][2]))\n",
        "    print(f'Медиана для нового атрибута {i} = ', np.median(new_number_atrs[i][2]))\n",
        "    print(f'Персентиль 0.25 для нового атрибута {i} = ', np.percentile(new_number_atrs[i][2], 25))\n",
        "    print(f'Персентиль 0.75 для нового атрибута {i} = ', np.percentile(new_number_atrs[i][2], 75))\n",
        "    print('\\n')\n",
        "    print('*** Выведем гистограмму - задание 3 ***')\n",
        "    plt.hist(new_number_atrs[i][2])\n",
        "    plt.title(f'Гистограмма для нового атрибута {i}')\n",
        "    plt.show()"
      ],
      "metadata": {
        "id": "nxoUE3969kYn"
      },
      "execution_count": null,
      "outputs": []
    }
  ]
}