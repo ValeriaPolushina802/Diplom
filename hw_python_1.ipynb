{
  "nbformat": 4,
  "nbformat_minor": 0,
  "metadata": {
    "colab": {
      "name": "ДЗ по Питону 1",
      "provenance": [],
      "collapsed_sections": []
    },
    "kernelspec": {
      "name": "python3",
      "display_name": "Python 3"
    },
    "language_info": {
      "name": "python"
    }
  },
  "cells": [
    {
      "cell_type": "code",
      "execution_count": null,
      "metadata": {
        "colab": {
          "base_uri": "https://localhost:8080/"
        },
        "id": "K0VRxqEUefsu",
        "outputId": "61d08678-b664-4af7-a25d-6348678ad89e"
      },
      "outputs": [
        {
          "output_type": "stream",
          "name": "stdout",
          "text": [
            "Сумма = 55\n",
            "Сумма = 55\n",
            "Сумма = 55\n"
          ]
        }
      ],
      "source": [
        "# Задание 1 \n",
        "#(1 вариант)\n",
        "n=[1,2,3,4,5,6,7,8,9,10]\n",
        "print(\"Сумма =\", sum(n))\n",
        "\n",
        "#(2 вариант)\n",
        "def fun(n):\n",
        "  a=0\n",
        "  for i in range(len(n)):\n",
        "    a +=n[i]\n",
        "  print(\"Сумма =\", a)\n",
        "\n",
        "#(3 вариант)\n",
        "def fun1(n):\n",
        "  a=0\n",
        "  for k in n:\n",
        "    a+=k\n",
        "  print(\"Сумма =\", a)\n",
        "\n",
        "#вывод 1й функции\n",
        "fun(n)\n",
        "\n",
        "#вывод 2й функции\n",
        "fun1(n)"
      ]
    },
    {
      "cell_type": "code",
      "source": [
        "# Задание 2 \n",
        "# (1 вариант)\n",
        "l=['a', 'b', 'c', 'b', 'd', 'm', 'n', 'n', 'z', 'z', 'z', 'a' ]\n",
        "from collections import Counter\n",
        "\n",
        "a=Counter(l)\n",
        "print(a)\n",
        "\n",
        "def fun(a):\n",
        "    ab=[]\n",
        "    for i,k in a.items():\n",
        "          print('элемент', i, 'встречается', k, 'раз')\n",
        "          if k>1:\n",
        "           ab.append(i)\n",
        "    print(\"дубликаты\", ab)\n",
        "\n",
        "print(\"число различных значений\", len(a))\n",
        "print(\"топ-3:\", a.most_common(3)) \n",
        "fun(a)\n"
      ],
      "metadata": {
        "colab": {
          "base_uri": "https://localhost:8080/"
        },
        "id": "yozcE9EdekR5",
        "outputId": "c45e36d5-976a-4998-9124-5d8f0329d5b7"
      },
      "execution_count": 9,
      "outputs": [
        {
          "output_type": "stream",
          "name": "stdout",
          "text": [
            "Counter({'z': 3, 'a': 2, 'b': 2, 'n': 2, 'c': 1, 'd': 1, 'm': 1})\n",
            "число различных значений 7\n",
            "топ-3: [('z', 3), ('a', 2), ('b', 2)]\n",
            "элемент a встречается 2 раз\n",
            "элемент b встречается 2 раз\n",
            "элемент c встречается 1 раз\n",
            "элемент d встречается 1 раз\n",
            "элемент m встречается 1 раз\n",
            "элемент n встречается 2 раз\n",
            "элемент z встречается 3 раз\n",
            "дубликаты ['a', 'b', 'n', 'z']\n"
          ]
        }
      ]
    },
    {
      "cell_type": "code",
      "source": [
        "# Задание 3\n",
        "# (1 вариант)\n",
        "picture = [ [0,0,0,1,0,0,0], [0,0,1,1,1,0,0], [0,1,1,1,1,1,0], [1,1,1,1,1,1,1], [0,0,0,1,0,0,0], [0,0,0,1,0,0,0] ]\n",
        "print(\"\\nПервоначальная матрица:\\n\")\n",
        "print(*picture, sep='\\n')\n",
        "\n",
        "def funkzia(picture):\n",
        "    stolbez=len(picture[0])\n",
        "    stroka=len(picture)\n",
        "    print(\"размер матрицы\", stroka, 'на', stolbez)\n",
        "\n",
        "    for i in range(stroka):\n",
        "      for k in range(stolbez):\n",
        "        if(picture[i][k]==0):\n",
        "           picture[i][k]=' '\n",
        "        else:\n",
        "         if(picture[i][k]==1):\n",
        "          picture[i][k]='*'\n",
        "    print(\"\\nПреобразованная матрица:\\n\")\n",
        "    print(*picture, sep='\\n')\n",
        "funkzia(picture)\n"
      ],
      "metadata": {
        "colab": {
          "base_uri": "https://localhost:8080/"
        },
        "id": "PWTO-EJIGPuE",
        "outputId": "c5f6c3b9-aae7-4e4c-bb1c-324f453337fa"
      },
      "execution_count": 2,
      "outputs": [
        {
          "output_type": "stream",
          "name": "stdout",
          "text": [
            "\n",
            "Первоначальная матрица:\n",
            "\n",
            "[0, 0, 0, 1, 0, 0, 0]\n",
            "[0, 0, 1, 1, 1, 0, 0]\n",
            "[0, 1, 1, 1, 1, 1, 0]\n",
            "[1, 1, 1, 1, 1, 1, 1]\n",
            "[0, 0, 0, 1, 0, 0, 0]\n",
            "[0, 0, 0, 1, 0, 0, 0]\n",
            "размер матрицы 6 на 7\n",
            "\n",
            "Преобразованная матрица:\n",
            "\n",
            "[' ', ' ', ' ', '*', ' ', ' ', ' ']\n",
            "[' ', ' ', '*', '*', '*', ' ', ' ']\n",
            "[' ', '*', '*', '*', '*', '*', ' ']\n",
            "['*', '*', '*', '*', '*', '*', '*']\n",
            "[' ', ' ', ' ', '*', ' ', ' ', ' ']\n",
            "[' ', ' ', ' ', '*', ' ', ' ', ' ']\n"
          ]
        }
      ]
    }
  ]
}