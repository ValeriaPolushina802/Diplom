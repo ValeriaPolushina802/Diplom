{
  "nbformat": 4,
  "nbformat_minor": 0,
  "metadata": {
    "colab": {
      "name": "Дипломная работа_Полушина В.В.ipynb",
      "provenance": []
    },
    "kernelspec": {
      "name": "python3",
      "display_name": "Python 3"
    },
    "language_info": {
      "name": "python"
    }
  },
  "cells": [
    {
      "cell_type": "markdown",
      "source": [
        "# Дипломная работа, Полушина В.В.\n",
        "На тему: \"Потребление электроэнергии в 1-ой квартире в МКД\"."
      ],
      "metadata": {
        "id": "UKDYACxkzmrP"
      }
    },
    {
      "cell_type": "markdown",
      "source": [
        "Введение: Для проведения анализа взята статистика по потреблению электроэнергии в многоквартирном доме на примере 1-ой квартиры (40 квадратов) в период с 2015 по 2021 год включительно.\n",
        "Цель: Проведение исследования данных и построение прогноза потребления электроэнергии в 1-ой квартире на 1 год вперед.\n",
        "Задачи:\n",
        "1.   Провести анализ данных о потреблении электроэнергии в квартире;\n",
        "2.   Построить прогноз потребления электроэнергии."
      ],
      "metadata": {
        "id": "9X5FU7xO0N4l"
      }
    },
    {
      "cell_type": "markdown",
      "source": [
        "# Этап 1: Импорт библиотек, ознакомление с данными."
      ],
      "metadata": {
        "id": "qahGgjCS1gVn"
      }
    },
    {
      "cell_type": "code",
      "source": [
        "!pip install pmdarima # загружаем pmdarima"
      ],
      "metadata": {
        "colab": {
          "base_uri": "https://localhost:8080/"
        },
        "id": "UFD3DEA41kCb",
        "outputId": "ff54158a-5b28-4576-c435-5214e5928e78"
      },
      "execution_count": 1,
      "outputs": [
        {
          "output_type": "stream",
          "name": "stdout",
          "text": [
            "Collecting pmdarima\n",
            "  Downloading pmdarima-1.8.5-cp37-cp37m-manylinux_2_17_x86_64.manylinux2014_x86_64.manylinux_2_24_x86_64.whl (1.4 MB)\n",
            "\u001b[?25l\r\u001b[K     |▎                               | 10 kB 1.0 MB/s eta 0:00:02\r\u001b[K     |▌                               | 20 kB 1.8 MB/s eta 0:00:01\r\u001b[K     |▊                               | 30 kB 2.7 MB/s eta 0:00:01\r\u001b[K     |█                               | 40 kB 3.5 MB/s eta 0:00:01\r\u001b[K     |█▏                              | 51 kB 4.3 MB/s eta 0:00:01\r\u001b[K     |█▍                              | 61 kB 5.0 MB/s eta 0:00:01\r\u001b[K     |█▋                              | 71 kB 5.8 MB/s eta 0:00:01\r\u001b[K     |██                              | 81 kB 4.5 MB/s eta 0:00:01\r\u001b[K     |██▏                             | 92 kB 5.0 MB/s eta 0:00:01\r\u001b[K     |██▍                             | 102 kB 5.1 MB/s eta 0:00:01\r\u001b[K     |██▋                             | 112 kB 5.1 MB/s eta 0:00:01\r\u001b[K     |██▉                             | 122 kB 5.1 MB/s eta 0:00:01\r\u001b[K     |███                             | 133 kB 5.1 MB/s eta 0:00:01\r\u001b[K     |███▎                            | 143 kB 5.1 MB/s eta 0:00:01\r\u001b[K     |███▌                            | 153 kB 5.1 MB/s eta 0:00:01\r\u001b[K     |███▉                            | 163 kB 5.1 MB/s eta 0:00:01\r\u001b[K     |████                            | 174 kB 5.1 MB/s eta 0:00:01\r\u001b[K     |████▎                           | 184 kB 5.1 MB/s eta 0:00:01\r\u001b[K     |████▌                           | 194 kB 5.1 MB/s eta 0:00:01\r\u001b[K     |████▊                           | 204 kB 5.1 MB/s eta 0:00:01\r\u001b[K     |█████                           | 215 kB 5.1 MB/s eta 0:00:01\r\u001b[K     |█████▏                          | 225 kB 5.1 MB/s eta 0:00:01\r\u001b[K     |█████▍                          | 235 kB 5.1 MB/s eta 0:00:01\r\u001b[K     |█████▊                          | 245 kB 5.1 MB/s eta 0:00:01\r\u001b[K     |██████                          | 256 kB 5.1 MB/s eta 0:00:01\r\u001b[K     |██████▏                         | 266 kB 5.1 MB/s eta 0:00:01\r\u001b[K     |██████▍                         | 276 kB 5.1 MB/s eta 0:00:01\r\u001b[K     |██████▋                         | 286 kB 5.1 MB/s eta 0:00:01\r\u001b[K     |██████▉                         | 296 kB 5.1 MB/s eta 0:00:01\r\u001b[K     |███████                         | 307 kB 5.1 MB/s eta 0:00:01\r\u001b[K     |███████▎                        | 317 kB 5.1 MB/s eta 0:00:01\r\u001b[K     |███████▋                        | 327 kB 5.1 MB/s eta 0:00:01\r\u001b[K     |███████▉                        | 337 kB 5.1 MB/s eta 0:00:01\r\u001b[K     |████████                        | 348 kB 5.1 MB/s eta 0:00:01\r\u001b[K     |████████▎                       | 358 kB 5.1 MB/s eta 0:00:01\r\u001b[K     |████████▌                       | 368 kB 5.1 MB/s eta 0:00:01\r\u001b[K     |████████▊                       | 378 kB 5.1 MB/s eta 0:00:01\r\u001b[K     |█████████                       | 389 kB 5.1 MB/s eta 0:00:01\r\u001b[K     |█████████▎                      | 399 kB 5.1 MB/s eta 0:00:01\r\u001b[K     |█████████▌                      | 409 kB 5.1 MB/s eta 0:00:01\r\u001b[K     |█████████▊                      | 419 kB 5.1 MB/s eta 0:00:01\r\u001b[K     |██████████                      | 430 kB 5.1 MB/s eta 0:00:01\r\u001b[K     |██████████▏                     | 440 kB 5.1 MB/s eta 0:00:01\r\u001b[K     |██████████▍                     | 450 kB 5.1 MB/s eta 0:00:01\r\u001b[K     |██████████▋                     | 460 kB 5.1 MB/s eta 0:00:01\r\u001b[K     |██████████▉                     | 471 kB 5.1 MB/s eta 0:00:01\r\u001b[K     |███████████▏                    | 481 kB 5.1 MB/s eta 0:00:01\r\u001b[K     |███████████▍                    | 491 kB 5.1 MB/s eta 0:00:01\r\u001b[K     |███████████▋                    | 501 kB 5.1 MB/s eta 0:00:01\r\u001b[K     |███████████▉                    | 512 kB 5.1 MB/s eta 0:00:01\r\u001b[K     |████████████                    | 522 kB 5.1 MB/s eta 0:00:01\r\u001b[K     |████████████▎                   | 532 kB 5.1 MB/s eta 0:00:01\r\u001b[K     |████████████▌                   | 542 kB 5.1 MB/s eta 0:00:01\r\u001b[K     |████████████▊                   | 552 kB 5.1 MB/s eta 0:00:01\r\u001b[K     |█████████████                   | 563 kB 5.1 MB/s eta 0:00:01\r\u001b[K     |█████████████▎                  | 573 kB 5.1 MB/s eta 0:00:01\r\u001b[K     |█████████████▌                  | 583 kB 5.1 MB/s eta 0:00:01\r\u001b[K     |█████████████▊                  | 593 kB 5.1 MB/s eta 0:00:01\r\u001b[K     |██████████████                  | 604 kB 5.1 MB/s eta 0:00:01\r\u001b[K     |██████████████▏                 | 614 kB 5.1 MB/s eta 0:00:01\r\u001b[K     |██████████████▍                 | 624 kB 5.1 MB/s eta 0:00:01\r\u001b[K     |██████████████▋                 | 634 kB 5.1 MB/s eta 0:00:01\r\u001b[K     |███████████████                 | 645 kB 5.1 MB/s eta 0:00:01\r\u001b[K     |███████████████▏                | 655 kB 5.1 MB/s eta 0:00:01\r\u001b[K     |███████████████▍                | 665 kB 5.1 MB/s eta 0:00:01\r\u001b[K     |███████████████▋                | 675 kB 5.1 MB/s eta 0:00:01\r\u001b[K     |███████████████▉                | 686 kB 5.1 MB/s eta 0:00:01\r\u001b[K     |████████████████                | 696 kB 5.1 MB/s eta 0:00:01\r\u001b[K     |████████████████▎               | 706 kB 5.1 MB/s eta 0:00:01\r\u001b[K     |████████████████▋               | 716 kB 5.1 MB/s eta 0:00:01\r\u001b[K     |████████████████▉               | 727 kB 5.1 MB/s eta 0:00:01\r\u001b[K     |█████████████████               | 737 kB 5.1 MB/s eta 0:00:01\r\u001b[K     |█████████████████▎              | 747 kB 5.1 MB/s eta 0:00:01\r\u001b[K     |█████████████████▌              | 757 kB 5.1 MB/s eta 0:00:01\r\u001b[K     |█████████████████▊              | 768 kB 5.1 MB/s eta 0:00:01\r\u001b[K     |██████████████████              | 778 kB 5.1 MB/s eta 0:00:01\r\u001b[K     |██████████████████▏             | 788 kB 5.1 MB/s eta 0:00:01\r\u001b[K     |██████████████████▌             | 798 kB 5.1 MB/s eta 0:00:01\r\u001b[K     |██████████████████▊             | 808 kB 5.1 MB/s eta 0:00:01\r\u001b[K     |███████████████████             | 819 kB 5.1 MB/s eta 0:00:01\r\u001b[K     |███████████████████▏            | 829 kB 5.1 MB/s eta 0:00:01\r\u001b[K     |███████████████████▍            | 839 kB 5.1 MB/s eta 0:00:01\r\u001b[K     |███████████████████▋            | 849 kB 5.1 MB/s eta 0:00:01\r\u001b[K     |███████████████████▉            | 860 kB 5.1 MB/s eta 0:00:01\r\u001b[K     |████████████████████            | 870 kB 5.1 MB/s eta 0:00:01\r\u001b[K     |████████████████████▍           | 880 kB 5.1 MB/s eta 0:00:01\r\u001b[K     |████████████████████▋           | 890 kB 5.1 MB/s eta 0:00:01\r\u001b[K     |████████████████████▉           | 901 kB 5.1 MB/s eta 0:00:01\r\u001b[K     |█████████████████████           | 911 kB 5.1 MB/s eta 0:00:01\r\u001b[K     |█████████████████████▎          | 921 kB 5.1 MB/s eta 0:00:01\r\u001b[K     |█████████████████████▌          | 931 kB 5.1 MB/s eta 0:00:01\r\u001b[K     |█████████████████████▊          | 942 kB 5.1 MB/s eta 0:00:01\r\u001b[K     |██████████████████████          | 952 kB 5.1 MB/s eta 0:00:01\r\u001b[K     |██████████████████████▎         | 962 kB 5.1 MB/s eta 0:00:01\r\u001b[K     |██████████████████████▌         | 972 kB 5.1 MB/s eta 0:00:01\r\u001b[K     |██████████████████████▊         | 983 kB 5.1 MB/s eta 0:00:01\r\u001b[K     |███████████████████████         | 993 kB 5.1 MB/s eta 0:00:01\r\u001b[K     |███████████████████████▏        | 1.0 MB 5.1 MB/s eta 0:00:01\r\u001b[K     |███████████████████████▍        | 1.0 MB 5.1 MB/s eta 0:00:01\r\u001b[K     |███████████████████████▋        | 1.0 MB 5.1 MB/s eta 0:00:01\r\u001b[K     |████████████████████████        | 1.0 MB 5.1 MB/s eta 0:00:01\r\u001b[K     |████████████████████████▏       | 1.0 MB 5.1 MB/s eta 0:00:01\r\u001b[K     |████████████████████████▍       | 1.1 MB 5.1 MB/s eta 0:00:01\r\u001b[K     |████████████████████████▋       | 1.1 MB 5.1 MB/s eta 0:00:01\r\u001b[K     |████████████████████████▉       | 1.1 MB 5.1 MB/s eta 0:00:01\r\u001b[K     |█████████████████████████       | 1.1 MB 5.1 MB/s eta 0:00:01\r\u001b[K     |█████████████████████████▎      | 1.1 MB 5.1 MB/s eta 0:00:01\r\u001b[K     |█████████████████████████▌      | 1.1 MB 5.1 MB/s eta 0:00:01\r\u001b[K     |█████████████████████████▉      | 1.1 MB 5.1 MB/s eta 0:00:01\r\u001b[K     |██████████████████████████      | 1.1 MB 5.1 MB/s eta 0:00:01\r\u001b[K     |██████████████████████████▎     | 1.1 MB 5.1 MB/s eta 0:00:01\r\u001b[K     |██████████████████████████▌     | 1.1 MB 5.1 MB/s eta 0:00:01\r\u001b[K     |██████████████████████████▊     | 1.2 MB 5.1 MB/s eta 0:00:01\r\u001b[K     |███████████████████████████     | 1.2 MB 5.1 MB/s eta 0:00:01\r\u001b[K     |███████████████████████████▏    | 1.2 MB 5.1 MB/s eta 0:00:01\r\u001b[K     |███████████████████████████▍    | 1.2 MB 5.1 MB/s eta 0:00:01\r\u001b[K     |███████████████████████████▊    | 1.2 MB 5.1 MB/s eta 0:00:01\r\u001b[K     |████████████████████████████    | 1.2 MB 5.1 MB/s eta 0:00:01\r\u001b[K     |████████████████████████████▏   | 1.2 MB 5.1 MB/s eta 0:00:01\r\u001b[K     |████████████████████████████▍   | 1.2 MB 5.1 MB/s eta 0:00:01\r\u001b[K     |████████████████████████████▋   | 1.2 MB 5.1 MB/s eta 0:00:01\r\u001b[K     |████████████████████████████▉   | 1.2 MB 5.1 MB/s eta 0:00:01\r\u001b[K     |█████████████████████████████   | 1.3 MB 5.1 MB/s eta 0:00:01\r\u001b[K     |█████████████████████████████▎  | 1.3 MB 5.1 MB/s eta 0:00:01\r\u001b[K     |█████████████████████████████▋  | 1.3 MB 5.1 MB/s eta 0:00:01\r\u001b[K     |█████████████████████████████▉  | 1.3 MB 5.1 MB/s eta 0:00:01\r\u001b[K     |██████████████████████████████  | 1.3 MB 5.1 MB/s eta 0:00:01\r\u001b[K     |██████████████████████████████▎ | 1.3 MB 5.1 MB/s eta 0:00:01\r\u001b[K     |██████████████████████████████▌ | 1.3 MB 5.1 MB/s eta 0:00:01\r\u001b[K     |██████████████████████████████▊ | 1.3 MB 5.1 MB/s eta 0:00:01\r\u001b[K     |███████████████████████████████ | 1.3 MB 5.1 MB/s eta 0:00:01\r\u001b[K     |███████████████████████████████▎| 1.4 MB 5.1 MB/s eta 0:00:01\r\u001b[K     |███████████████████████████████▌| 1.4 MB 5.1 MB/s eta 0:00:01\r\u001b[K     |███████████████████████████████▊| 1.4 MB 5.1 MB/s eta 0:00:01\r\u001b[K     |████████████████████████████████| 1.4 MB 5.1 MB/s eta 0:00:01\r\u001b[K     |████████████████████████████████| 1.4 MB 5.1 MB/s \n",
            "\u001b[?25hRequirement already satisfied: joblib>=0.11 in /usr/local/lib/python3.7/dist-packages (from pmdarima) (1.1.0)\n",
            "Collecting statsmodels!=0.12.0,>=0.11\n",
            "  Downloading statsmodels-0.13.2-cp37-cp37m-manylinux_2_17_x86_64.manylinux2014_x86_64.whl (9.8 MB)\n",
            "\u001b[K     |████████████████████████████████| 9.8 MB 18.2 MB/s \n",
            "\u001b[?25hRequirement already satisfied: scipy>=1.3.2 in /usr/local/lib/python3.7/dist-packages (from pmdarima) (1.4.1)\n",
            "Requirement already satisfied: scikit-learn>=0.22 in /usr/local/lib/python3.7/dist-packages (from pmdarima) (1.0.2)\n",
            "Requirement already satisfied: setuptools!=50.0.0,>=38.6.0 in /usr/local/lib/python3.7/dist-packages (from pmdarima) (57.4.0)\n",
            "Requirement already satisfied: Cython!=0.29.18,>=0.29 in /usr/local/lib/python3.7/dist-packages (from pmdarima) (0.29.28)\n",
            "Requirement already satisfied: numpy>=1.19.3 in /usr/local/lib/python3.7/dist-packages (from pmdarima) (1.21.5)\n",
            "Requirement already satisfied: pandas>=0.19 in /usr/local/lib/python3.7/dist-packages (from pmdarima) (1.3.5)\n",
            "Requirement already satisfied: urllib3 in /usr/local/lib/python3.7/dist-packages (from pmdarima) (1.24.3)\n",
            "Requirement already satisfied: python-dateutil>=2.7.3 in /usr/local/lib/python3.7/dist-packages (from pandas>=0.19->pmdarima) (2.8.2)\n",
            "Requirement already satisfied: pytz>=2017.3 in /usr/local/lib/python3.7/dist-packages (from pandas>=0.19->pmdarima) (2018.9)\n",
            "Requirement already satisfied: six>=1.5 in /usr/local/lib/python3.7/dist-packages (from python-dateutil>=2.7.3->pandas>=0.19->pmdarima) (1.15.0)\n",
            "Requirement already satisfied: threadpoolctl>=2.0.0 in /usr/local/lib/python3.7/dist-packages (from scikit-learn>=0.22->pmdarima) (3.1.0)\n",
            "Requirement already satisfied: packaging>=21.3 in /usr/local/lib/python3.7/dist-packages (from statsmodels!=0.12.0,>=0.11->pmdarima) (21.3)\n",
            "Requirement already satisfied: patsy>=0.5.2 in /usr/local/lib/python3.7/dist-packages (from statsmodels!=0.12.0,>=0.11->pmdarima) (0.5.2)\n",
            "Requirement already satisfied: pyparsing!=3.0.5,>=2.0.2 in /usr/local/lib/python3.7/dist-packages (from packaging>=21.3->statsmodels!=0.12.0,>=0.11->pmdarima) (3.0.7)\n",
            "Installing collected packages: statsmodels, pmdarima\n",
            "  Attempting uninstall: statsmodels\n",
            "    Found existing installation: statsmodels 0.10.2\n",
            "    Uninstalling statsmodels-0.10.2:\n",
            "      Successfully uninstalled statsmodels-0.10.2\n",
            "Successfully installed pmdarima-1.8.5 statsmodels-0.13.2\n"
          ]
        }
      ]
    },
    {
      "cell_type": "code",
      "source": [
        "!pip install fbprophet # загружаем fbprophet"
      ],
      "metadata": {
        "colab": {
          "base_uri": "https://localhost:8080/"
        },
        "id": "JXNYIfzu1qZp",
        "outputId": "521e6f6d-8de1-4d8b-b9a0-a317d323addb"
      },
      "execution_count": 2,
      "outputs": [
        {
          "output_type": "stream",
          "name": "stdout",
          "text": [
            "Requirement already satisfied: fbprophet in /usr/local/lib/python3.7/dist-packages (0.7.1)\n",
            "Requirement already satisfied: Cython>=0.22 in /usr/local/lib/python3.7/dist-packages (from fbprophet) (0.29.28)\n",
            "Requirement already satisfied: cmdstanpy==0.9.5 in /usr/local/lib/python3.7/dist-packages (from fbprophet) (0.9.5)\n",
            "Requirement already satisfied: pystan>=2.14 in /usr/local/lib/python3.7/dist-packages (from fbprophet) (2.19.1.1)\n",
            "Requirement already satisfied: numpy>=1.15.4 in /usr/local/lib/python3.7/dist-packages (from fbprophet) (1.21.5)\n",
            "Requirement already satisfied: pandas>=1.0.4 in /usr/local/lib/python3.7/dist-packages (from fbprophet) (1.3.5)\n",
            "Requirement already satisfied: matplotlib>=2.0.0 in /usr/local/lib/python3.7/dist-packages (from fbprophet) (3.2.2)\n",
            "Requirement already satisfied: LunarCalendar>=0.0.9 in /usr/local/lib/python3.7/dist-packages (from fbprophet) (0.0.9)\n",
            "Requirement already satisfied: convertdate>=2.1.2 in /usr/local/lib/python3.7/dist-packages (from fbprophet) (2.4.0)\n",
            "Requirement already satisfied: holidays>=0.10.2 in /usr/local/lib/python3.7/dist-packages (from fbprophet) (0.10.5.2)\n",
            "Requirement already satisfied: setuptools-git>=1.2 in /usr/local/lib/python3.7/dist-packages (from fbprophet) (1.2)\n",
            "Requirement already satisfied: python-dateutil>=2.8.0 in /usr/local/lib/python3.7/dist-packages (from fbprophet) (2.8.2)\n",
            "Requirement already satisfied: tqdm>=4.36.1 in /usr/local/lib/python3.7/dist-packages (from fbprophet) (4.63.0)\n",
            "Requirement already satisfied: pymeeus<=1,>=0.3.13 in /usr/local/lib/python3.7/dist-packages (from convertdate>=2.1.2->fbprophet) (0.5.11)\n",
            "Requirement already satisfied: korean-lunar-calendar in /usr/local/lib/python3.7/dist-packages (from holidays>=0.10.2->fbprophet) (0.2.1)\n",
            "Requirement already satisfied: six in /usr/local/lib/python3.7/dist-packages (from holidays>=0.10.2->fbprophet) (1.15.0)\n",
            "Requirement already satisfied: hijri-converter in /usr/local/lib/python3.7/dist-packages (from holidays>=0.10.2->fbprophet) (2.2.3)\n",
            "Requirement already satisfied: pytz in /usr/local/lib/python3.7/dist-packages (from LunarCalendar>=0.0.9->fbprophet) (2018.9)\n",
            "Requirement already satisfied: ephem>=3.7.5.3 in /usr/local/lib/python3.7/dist-packages (from LunarCalendar>=0.0.9->fbprophet) (4.1.3)\n",
            "Requirement already satisfied: kiwisolver>=1.0.1 in /usr/local/lib/python3.7/dist-packages (from matplotlib>=2.0.0->fbprophet) (1.3.2)\n",
            "Requirement already satisfied: cycler>=0.10 in /usr/local/lib/python3.7/dist-packages (from matplotlib>=2.0.0->fbprophet) (0.11.0)\n",
            "Requirement already satisfied: pyparsing!=2.0.4,!=2.1.2,!=2.1.6,>=2.0.1 in /usr/local/lib/python3.7/dist-packages (from matplotlib>=2.0.0->fbprophet) (3.0.7)\n"
          ]
        }
      ]
    },
    {
      "cell_type": "code",
      "source": [
        "# импорт библиотек и функций\n",
        "import numpy as np\n",
        "import pandas as pd\n",
        "import seaborn as sns\n",
        "from matplotlib import pyplot as plt\n",
        "\n",
        "# импорт моделей \n",
        "from statsmodels.tsa.statespace.sarimax import SARIMAX       # для модели SARIMAX\n",
        "from statsmodels.tsa.seasonal import seasonal_decompose      # для ETS графиков\n",
        "\n",
        "from pmdarima import auto_arima                              # для поиска ARIMA моделей (подбирает оптимальные параметры для модели)\n",
        "from fbprophet import Prophet                                # для модели Профет\n",
        "from statsmodels.tsa.holtwinters import ExponentialSmoothing # для модели Экспоненцальное сглаживание\n",
        "\n",
        "# метрики\n",
        "from sklearn.metrics import mean_squared_error\n",
        "from sklearn.metrics import mean_absolute_error\n",
        "from statsmodels.tools.eval_measures import rmse"
      ],
      "metadata": {
        "id": "1NJ63DAr1zg3"
      },
      "execution_count": 3,
      "outputs": []
    },
    {
      "cell_type": "code",
      "source": [
        "# Загрузка датасета и его просмотр\n",
        "df = pd.read_csv('ДатаСетЭЭвКВ3.csv',index_col='Date',parse_dates=True)\n",
        "df.index.freq = 'MS'\n",
        "print(len(df)) # количество строк в датасете\n",
        "print(df.head())"
      ],
      "metadata": {
        "colab": {
          "base_uri": "https://localhost:8080/"
        },
        "id": "8jw6YmoC2nNL",
        "outputId": "f2b87b5d-21b1-4ce3-cbd6-3eed6ad5f1df"
      },
      "execution_count": 4,
      "outputs": [
        {
          "output_type": "stream",
          "name": "stdout",
          "text": [
            "84\n",
            "            Consumption\n",
            "Date                   \n",
            "2015-01-01      65.9628\n",
            "2015-02-01      59.1620\n",
            "2015-03-01      57.3140\n",
            "2015-04-01      52.9718\n",
            "2015-05-01      49.1707\n"
          ]
        }
      ]
    },
    {
      "cell_type": "code",
      "source": [
        "# Проверка, что все выгрузилось корректно и последовательно\n",
        "df.head(84)"
      ],
      "metadata": {
        "colab": {
          "base_uri": "https://localhost:8080/",
          "height": 455
        },
        "id": "5ZJlKNQh3Uxe",
        "outputId": "909d9280-52f6-4502-eebf-4bea66334f5c"
      },
      "execution_count": 5,
      "outputs": [
        {
          "output_type": "execute_result",
          "data": {
            "text/plain": [
              "            Consumption\n",
              "Date                   \n",
              "2015-01-01      65.9628\n",
              "2015-02-01      59.1620\n",
              "2015-03-01      57.3140\n",
              "2015-04-01      52.9718\n",
              "2015-05-01      49.1707\n",
              "...                 ...\n",
              "2021-08-01      63.2704\n",
              "2021-09-01      65.5107\n",
              "2021-10-01      66.0620\n",
              "2021-11-01      69.2555\n",
              "2021-12-01      84.4040\n",
              "\n",
              "[84 rows x 1 columns]"
            ],
            "text/html": [
              "\n",
              "  <div id=\"df-0052a4ed-67af-4bad-ad2b-9bebbd41e6c3\">\n",
              "    <div class=\"colab-df-container\">\n",
              "      <div>\n",
              "<style scoped>\n",
              "    .dataframe tbody tr th:only-of-type {\n",
              "        vertical-align: middle;\n",
              "    }\n",
              "\n",
              "    .dataframe tbody tr th {\n",
              "        vertical-align: top;\n",
              "    }\n",
              "\n",
              "    .dataframe thead th {\n",
              "        text-align: right;\n",
              "    }\n",
              "</style>\n",
              "<table border=\"1\" class=\"dataframe\">\n",
              "  <thead>\n",
              "    <tr style=\"text-align: right;\">\n",
              "      <th></th>\n",
              "      <th>Consumption</th>\n",
              "    </tr>\n",
              "    <tr>\n",
              "      <th>Date</th>\n",
              "      <th></th>\n",
              "    </tr>\n",
              "  </thead>\n",
              "  <tbody>\n",
              "    <tr>\n",
              "      <th>2015-01-01</th>\n",
              "      <td>65.9628</td>\n",
              "    </tr>\n",
              "    <tr>\n",
              "      <th>2015-02-01</th>\n",
              "      <td>59.1620</td>\n",
              "    </tr>\n",
              "    <tr>\n",
              "      <th>2015-03-01</th>\n",
              "      <td>57.3140</td>\n",
              "    </tr>\n",
              "    <tr>\n",
              "      <th>2015-04-01</th>\n",
              "      <td>52.9718</td>\n",
              "    </tr>\n",
              "    <tr>\n",
              "      <th>2015-05-01</th>\n",
              "      <td>49.1707</td>\n",
              "    </tr>\n",
              "    <tr>\n",
              "      <th>...</th>\n",
              "      <td>...</td>\n",
              "    </tr>\n",
              "    <tr>\n",
              "      <th>2021-08-01</th>\n",
              "      <td>63.2704</td>\n",
              "    </tr>\n",
              "    <tr>\n",
              "      <th>2021-09-01</th>\n",
              "      <td>65.5107</td>\n",
              "    </tr>\n",
              "    <tr>\n",
              "      <th>2021-10-01</th>\n",
              "      <td>66.0620</td>\n",
              "    </tr>\n",
              "    <tr>\n",
              "      <th>2021-11-01</th>\n",
              "      <td>69.2555</td>\n",
              "    </tr>\n",
              "    <tr>\n",
              "      <th>2021-12-01</th>\n",
              "      <td>84.4040</td>\n",
              "    </tr>\n",
              "  </tbody>\n",
              "</table>\n",
              "<p>84 rows × 1 columns</p>\n",
              "</div>\n",
              "      <button class=\"colab-df-convert\" onclick=\"convertToInteractive('df-0052a4ed-67af-4bad-ad2b-9bebbd41e6c3')\"\n",
              "              title=\"Convert this dataframe to an interactive table.\"\n",
              "              style=\"display:none;\">\n",
              "        \n",
              "  <svg xmlns=\"http://www.w3.org/2000/svg\" height=\"24px\"viewBox=\"0 0 24 24\"\n",
              "       width=\"24px\">\n",
              "    <path d=\"M0 0h24v24H0V0z\" fill=\"none\"/>\n",
              "    <path d=\"M18.56 5.44l.94 2.06.94-2.06 2.06-.94-2.06-.94-.94-2.06-.94 2.06-2.06.94zm-11 1L8.5 8.5l.94-2.06 2.06-.94-2.06-.94L8.5 2.5l-.94 2.06-2.06.94zm10 10l.94 2.06.94-2.06 2.06-.94-2.06-.94-.94-2.06-.94 2.06-2.06.94z\"/><path d=\"M17.41 7.96l-1.37-1.37c-.4-.4-.92-.59-1.43-.59-.52 0-1.04.2-1.43.59L10.3 9.45l-7.72 7.72c-.78.78-.78 2.05 0 2.83L4 21.41c.39.39.9.59 1.41.59.51 0 1.02-.2 1.41-.59l7.78-7.78 2.81-2.81c.8-.78.8-2.07 0-2.86zM5.41 20L4 18.59l7.72-7.72 1.47 1.35L5.41 20z\"/>\n",
              "  </svg>\n",
              "      </button>\n",
              "      \n",
              "  <style>\n",
              "    .colab-df-container {\n",
              "      display:flex;\n",
              "      flex-wrap:wrap;\n",
              "      gap: 12px;\n",
              "    }\n",
              "\n",
              "    .colab-df-convert {\n",
              "      background-color: #E8F0FE;\n",
              "      border: none;\n",
              "      border-radius: 50%;\n",
              "      cursor: pointer;\n",
              "      display: none;\n",
              "      fill: #1967D2;\n",
              "      height: 32px;\n",
              "      padding: 0 0 0 0;\n",
              "      width: 32px;\n",
              "    }\n",
              "\n",
              "    .colab-df-convert:hover {\n",
              "      background-color: #E2EBFA;\n",
              "      box-shadow: 0px 1px 2px rgba(60, 64, 67, 0.3), 0px 1px 3px 1px rgba(60, 64, 67, 0.15);\n",
              "      fill: #174EA6;\n",
              "    }\n",
              "\n",
              "    [theme=dark] .colab-df-convert {\n",
              "      background-color: #3B4455;\n",
              "      fill: #D2E3FC;\n",
              "    }\n",
              "\n",
              "    [theme=dark] .colab-df-convert:hover {\n",
              "      background-color: #434B5C;\n",
              "      box-shadow: 0px 1px 3px 1px rgba(0, 0, 0, 0.15);\n",
              "      filter: drop-shadow(0px 1px 2px rgba(0, 0, 0, 0.3));\n",
              "      fill: #FFFFFF;\n",
              "    }\n",
              "  </style>\n",
              "\n",
              "      <script>\n",
              "        const buttonEl =\n",
              "          document.querySelector('#df-0052a4ed-67af-4bad-ad2b-9bebbd41e6c3 button.colab-df-convert');\n",
              "        buttonEl.style.display =\n",
              "          google.colab.kernel.accessAllowed ? 'block' : 'none';\n",
              "\n",
              "        async function convertToInteractive(key) {\n",
              "          const element = document.querySelector('#df-0052a4ed-67af-4bad-ad2b-9bebbd41e6c3');\n",
              "          const dataTable =\n",
              "            await google.colab.kernel.invokeFunction('convertToInteractive',\n",
              "                                                     [key], {});\n",
              "          if (!dataTable) return;\n",
              "\n",
              "          const docLinkHtml = 'Like what you see? Visit the ' +\n",
              "            '<a target=\"_blank\" href=https://colab.research.google.com/notebooks/data_table.ipynb>data table notebook</a>'\n",
              "            + ' to learn more about interactive tables.';\n",
              "          element.innerHTML = '';\n",
              "          dataTable['output_type'] = 'display_data';\n",
              "          await google.colab.output.renderOutput(dataTable, element);\n",
              "          const docLink = document.createElement('div');\n",
              "          docLink.innerHTML = docLinkHtml;\n",
              "          element.appendChild(docLink);\n",
              "        }\n",
              "      </script>\n",
              "    </div>\n",
              "  </div>\n",
              "  "
            ]
          },
          "metadata": {},
          "execution_count": 5
        }
      ]
    },
    {
      "cell_type": "code",
      "source": [
        "# Смотрим общую информацию о датасете\n",
        "df.info()"
      ],
      "metadata": {
        "colab": {
          "base_uri": "https://localhost:8080/"
        },
        "id": "Hee8FfE65N_i",
        "outputId": "29c95900-2410-4e85-815f-4dcabe61e2d1"
      },
      "execution_count": 6,
      "outputs": [
        {
          "output_type": "stream",
          "name": "stdout",
          "text": [
            "<class 'pandas.core.frame.DataFrame'>\n",
            "DatetimeIndex: 84 entries, 2015-01-01 to 2021-12-01\n",
            "Freq: MS\n",
            "Data columns (total 1 columns):\n",
            " #   Column       Non-Null Count  Dtype  \n",
            "---  ------       --------------  -----  \n",
            " 0   Consumption  84 non-null     float64\n",
            "dtypes: float64(1)\n",
            "memory usage: 1.3 KB\n"
          ]
        }
      ]
    },
    {
      "cell_type": "code",
      "source": [
        "# Осуществляем проверку, есть ли пропуски в датасете\n",
        "df.isna()"
      ],
      "metadata": {
        "colab": {
          "base_uri": "https://localhost:8080/",
          "height": 455
        },
        "id": "9ddOqisB5uGQ",
        "outputId": "9fc96966-2715-43e8-c3fb-5022c7118a93"
      },
      "execution_count": 7,
      "outputs": [
        {
          "output_type": "execute_result",
          "data": {
            "text/plain": [
              "            Consumption\n",
              "Date                   \n",
              "2015-01-01        False\n",
              "2015-02-01        False\n",
              "2015-03-01        False\n",
              "2015-04-01        False\n",
              "2015-05-01        False\n",
              "...                 ...\n",
              "2021-08-01        False\n",
              "2021-09-01        False\n",
              "2021-10-01        False\n",
              "2021-11-01        False\n",
              "2021-12-01        False\n",
              "\n",
              "[84 rows x 1 columns]"
            ],
            "text/html": [
              "\n",
              "  <div id=\"df-e254598b-318a-41f7-90af-858d14b0a2ab\">\n",
              "    <div class=\"colab-df-container\">\n",
              "      <div>\n",
              "<style scoped>\n",
              "    .dataframe tbody tr th:only-of-type {\n",
              "        vertical-align: middle;\n",
              "    }\n",
              "\n",
              "    .dataframe tbody tr th {\n",
              "        vertical-align: top;\n",
              "    }\n",
              "\n",
              "    .dataframe thead th {\n",
              "        text-align: right;\n",
              "    }\n",
              "</style>\n",
              "<table border=\"1\" class=\"dataframe\">\n",
              "  <thead>\n",
              "    <tr style=\"text-align: right;\">\n",
              "      <th></th>\n",
              "      <th>Consumption</th>\n",
              "    </tr>\n",
              "    <tr>\n",
              "      <th>Date</th>\n",
              "      <th></th>\n",
              "    </tr>\n",
              "  </thead>\n",
              "  <tbody>\n",
              "    <tr>\n",
              "      <th>2015-01-01</th>\n",
              "      <td>False</td>\n",
              "    </tr>\n",
              "    <tr>\n",
              "      <th>2015-02-01</th>\n",
              "      <td>False</td>\n",
              "    </tr>\n",
              "    <tr>\n",
              "      <th>2015-03-01</th>\n",
              "      <td>False</td>\n",
              "    </tr>\n",
              "    <tr>\n",
              "      <th>2015-04-01</th>\n",
              "      <td>False</td>\n",
              "    </tr>\n",
              "    <tr>\n",
              "      <th>2015-05-01</th>\n",
              "      <td>False</td>\n",
              "    </tr>\n",
              "    <tr>\n",
              "      <th>...</th>\n",
              "      <td>...</td>\n",
              "    </tr>\n",
              "    <tr>\n",
              "      <th>2021-08-01</th>\n",
              "      <td>False</td>\n",
              "    </tr>\n",
              "    <tr>\n",
              "      <th>2021-09-01</th>\n",
              "      <td>False</td>\n",
              "    </tr>\n",
              "    <tr>\n",
              "      <th>2021-10-01</th>\n",
              "      <td>False</td>\n",
              "    </tr>\n",
              "    <tr>\n",
              "      <th>2021-11-01</th>\n",
              "      <td>False</td>\n",
              "    </tr>\n",
              "    <tr>\n",
              "      <th>2021-12-01</th>\n",
              "      <td>False</td>\n",
              "    </tr>\n",
              "  </tbody>\n",
              "</table>\n",
              "<p>84 rows × 1 columns</p>\n",
              "</div>\n",
              "      <button class=\"colab-df-convert\" onclick=\"convertToInteractive('df-e254598b-318a-41f7-90af-858d14b0a2ab')\"\n",
              "              title=\"Convert this dataframe to an interactive table.\"\n",
              "              style=\"display:none;\">\n",
              "        \n",
              "  <svg xmlns=\"http://www.w3.org/2000/svg\" height=\"24px\"viewBox=\"0 0 24 24\"\n",
              "       width=\"24px\">\n",
              "    <path d=\"M0 0h24v24H0V0z\" fill=\"none\"/>\n",
              "    <path d=\"M18.56 5.44l.94 2.06.94-2.06 2.06-.94-2.06-.94-.94-2.06-.94 2.06-2.06.94zm-11 1L8.5 8.5l.94-2.06 2.06-.94-2.06-.94L8.5 2.5l-.94 2.06-2.06.94zm10 10l.94 2.06.94-2.06 2.06-.94-2.06-.94-.94-2.06-.94 2.06-2.06.94z\"/><path d=\"M17.41 7.96l-1.37-1.37c-.4-.4-.92-.59-1.43-.59-.52 0-1.04.2-1.43.59L10.3 9.45l-7.72 7.72c-.78.78-.78 2.05 0 2.83L4 21.41c.39.39.9.59 1.41.59.51 0 1.02-.2 1.41-.59l7.78-7.78 2.81-2.81c.8-.78.8-2.07 0-2.86zM5.41 20L4 18.59l7.72-7.72 1.47 1.35L5.41 20z\"/>\n",
              "  </svg>\n",
              "      </button>\n",
              "      \n",
              "  <style>\n",
              "    .colab-df-container {\n",
              "      display:flex;\n",
              "      flex-wrap:wrap;\n",
              "      gap: 12px;\n",
              "    }\n",
              "\n",
              "    .colab-df-convert {\n",
              "      background-color: #E8F0FE;\n",
              "      border: none;\n",
              "      border-radius: 50%;\n",
              "      cursor: pointer;\n",
              "      display: none;\n",
              "      fill: #1967D2;\n",
              "      height: 32px;\n",
              "      padding: 0 0 0 0;\n",
              "      width: 32px;\n",
              "    }\n",
              "\n",
              "    .colab-df-convert:hover {\n",
              "      background-color: #E2EBFA;\n",
              "      box-shadow: 0px 1px 2px rgba(60, 64, 67, 0.3), 0px 1px 3px 1px rgba(60, 64, 67, 0.15);\n",
              "      fill: #174EA6;\n",
              "    }\n",
              "\n",
              "    [theme=dark] .colab-df-convert {\n",
              "      background-color: #3B4455;\n",
              "      fill: #D2E3FC;\n",
              "    }\n",
              "\n",
              "    [theme=dark] .colab-df-convert:hover {\n",
              "      background-color: #434B5C;\n",
              "      box-shadow: 0px 1px 3px 1px rgba(0, 0, 0, 0.15);\n",
              "      filter: drop-shadow(0px 1px 2px rgba(0, 0, 0, 0.3));\n",
              "      fill: #FFFFFF;\n",
              "    }\n",
              "  </style>\n",
              "\n",
              "      <script>\n",
              "        const buttonEl =\n",
              "          document.querySelector('#df-e254598b-318a-41f7-90af-858d14b0a2ab button.colab-df-convert');\n",
              "        buttonEl.style.display =\n",
              "          google.colab.kernel.accessAllowed ? 'block' : 'none';\n",
              "\n",
              "        async function convertToInteractive(key) {\n",
              "          const element = document.querySelector('#df-e254598b-318a-41f7-90af-858d14b0a2ab');\n",
              "          const dataTable =\n",
              "            await google.colab.kernel.invokeFunction('convertToInteractive',\n",
              "                                                     [key], {});\n",
              "          if (!dataTable) return;\n",
              "\n",
              "          const docLinkHtml = 'Like what you see? Visit the ' +\n",
              "            '<a target=\"_blank\" href=https://colab.research.google.com/notebooks/data_table.ipynb>data table notebook</a>'\n",
              "            + ' to learn more about interactive tables.';\n",
              "          element.innerHTML = '';\n",
              "          dataTable['output_type'] = 'display_data';\n",
              "          await google.colab.output.renderOutput(dataTable, element);\n",
              "          const docLink = document.createElement('div');\n",
              "          docLink.innerHTML = docLinkHtml;\n",
              "          element.appendChild(docLink);\n",
              "        }\n",
              "      </script>\n",
              "    </div>\n",
              "  </div>\n",
              "  "
            ]
          },
          "metadata": {},
          "execution_count": 7
        }
      ]
    },
    {
      "cell_type": "code",
      "source": [
        "# проверим, везде ли отсутствуют пропуски\n",
        "df_check = df.isna()\n",
        "\n",
        "for i in df_check.columns:\n",
        "    print(f'Для признака {i} пропуски: ', df_check[i].unique())"
      ],
      "metadata": {
        "colab": {
          "base_uri": "https://localhost:8080/"
        },
        "id": "9tBhiqO66LHl",
        "outputId": "a72e23af-3d98-4b46-fc1e-3a1245df5553"
      },
      "execution_count": 8,
      "outputs": [
        {
          "output_type": "stream",
          "name": "stdout",
          "text": [
            "Для признака Consumption пропуски:  [False]\n"
          ]
        }
      ]
    },
    {
      "cell_type": "markdown",
      "source": [
        "Вывод по этапу 1: Были загружены необходимые библиотеки, функции, модели, метрики. Был загружен датасет. Датасет был рассмотрен на предмет того, что с ним можно работать: что отсутствуют пропуски, проверен формат данных и дата находится в порядке возрастания. "
      ],
      "metadata": {
        "id": "rGYv6Rpq67HW"
      }
    },
    {
      "cell_type": "markdown",
      "source": [
        "##Этап 2: EDA (exploratory data analysis) или разведочный анализ данных.\n"
      ],
      "metadata": {
        "id": "lTlHntKN8rej"
      }
    },
    {
      "cell_type": "code",
      "source": [
        "# еще раз смотрим на датасет\n",
        "df.head(84)"
      ],
      "metadata": {
        "colab": {
          "base_uri": "https://localhost:8080/",
          "height": 455
        },
        "id": "HibAmZqR2nRJ",
        "outputId": "195b5bd2-d5f8-4c9d-d3d2-992fa0f350d4"
      },
      "execution_count": 9,
      "outputs": [
        {
          "output_type": "execute_result",
          "data": {
            "text/plain": [
              "            Consumption\n",
              "Date                   \n",
              "2015-01-01      65.9628\n",
              "2015-02-01      59.1620\n",
              "2015-03-01      57.3140\n",
              "2015-04-01      52.9718\n",
              "2015-05-01      49.1707\n",
              "...                 ...\n",
              "2021-08-01      63.2704\n",
              "2021-09-01      65.5107\n",
              "2021-10-01      66.0620\n",
              "2021-11-01      69.2555\n",
              "2021-12-01      84.4040\n",
              "\n",
              "[84 rows x 1 columns]"
            ],
            "text/html": [
              "\n",
              "  <div id=\"df-4255bca1-445a-415f-a59d-480ef1bdf452\">\n",
              "    <div class=\"colab-df-container\">\n",
              "      <div>\n",
              "<style scoped>\n",
              "    .dataframe tbody tr th:only-of-type {\n",
              "        vertical-align: middle;\n",
              "    }\n",
              "\n",
              "    .dataframe tbody tr th {\n",
              "        vertical-align: top;\n",
              "    }\n",
              "\n",
              "    .dataframe thead th {\n",
              "        text-align: right;\n",
              "    }\n",
              "</style>\n",
              "<table border=\"1\" class=\"dataframe\">\n",
              "  <thead>\n",
              "    <tr style=\"text-align: right;\">\n",
              "      <th></th>\n",
              "      <th>Consumption</th>\n",
              "    </tr>\n",
              "    <tr>\n",
              "      <th>Date</th>\n",
              "      <th></th>\n",
              "    </tr>\n",
              "  </thead>\n",
              "  <tbody>\n",
              "    <tr>\n",
              "      <th>2015-01-01</th>\n",
              "      <td>65.9628</td>\n",
              "    </tr>\n",
              "    <tr>\n",
              "      <th>2015-02-01</th>\n",
              "      <td>59.1620</td>\n",
              "    </tr>\n",
              "    <tr>\n",
              "      <th>2015-03-01</th>\n",
              "      <td>57.3140</td>\n",
              "    </tr>\n",
              "    <tr>\n",
              "      <th>2015-04-01</th>\n",
              "      <td>52.9718</td>\n",
              "    </tr>\n",
              "    <tr>\n",
              "      <th>2015-05-01</th>\n",
              "      <td>49.1707</td>\n",
              "    </tr>\n",
              "    <tr>\n",
              "      <th>...</th>\n",
              "      <td>...</td>\n",
              "    </tr>\n",
              "    <tr>\n",
              "      <th>2021-08-01</th>\n",
              "      <td>63.2704</td>\n",
              "    </tr>\n",
              "    <tr>\n",
              "      <th>2021-09-01</th>\n",
              "      <td>65.5107</td>\n",
              "    </tr>\n",
              "    <tr>\n",
              "      <th>2021-10-01</th>\n",
              "      <td>66.0620</td>\n",
              "    </tr>\n",
              "    <tr>\n",
              "      <th>2021-11-01</th>\n",
              "      <td>69.2555</td>\n",
              "    </tr>\n",
              "    <tr>\n",
              "      <th>2021-12-01</th>\n",
              "      <td>84.4040</td>\n",
              "    </tr>\n",
              "  </tbody>\n",
              "</table>\n",
              "<p>84 rows × 1 columns</p>\n",
              "</div>\n",
              "      <button class=\"colab-df-convert\" onclick=\"convertToInteractive('df-4255bca1-445a-415f-a59d-480ef1bdf452')\"\n",
              "              title=\"Convert this dataframe to an interactive table.\"\n",
              "              style=\"display:none;\">\n",
              "        \n",
              "  <svg xmlns=\"http://www.w3.org/2000/svg\" height=\"24px\"viewBox=\"0 0 24 24\"\n",
              "       width=\"24px\">\n",
              "    <path d=\"M0 0h24v24H0V0z\" fill=\"none\"/>\n",
              "    <path d=\"M18.56 5.44l.94 2.06.94-2.06 2.06-.94-2.06-.94-.94-2.06-.94 2.06-2.06.94zm-11 1L8.5 8.5l.94-2.06 2.06-.94-2.06-.94L8.5 2.5l-.94 2.06-2.06.94zm10 10l.94 2.06.94-2.06 2.06-.94-2.06-.94-.94-2.06-.94 2.06-2.06.94z\"/><path d=\"M17.41 7.96l-1.37-1.37c-.4-.4-.92-.59-1.43-.59-.52 0-1.04.2-1.43.59L10.3 9.45l-7.72 7.72c-.78.78-.78 2.05 0 2.83L4 21.41c.39.39.9.59 1.41.59.51 0 1.02-.2 1.41-.59l7.78-7.78 2.81-2.81c.8-.78.8-2.07 0-2.86zM5.41 20L4 18.59l7.72-7.72 1.47 1.35L5.41 20z\"/>\n",
              "  </svg>\n",
              "      </button>\n",
              "      \n",
              "  <style>\n",
              "    .colab-df-container {\n",
              "      display:flex;\n",
              "      flex-wrap:wrap;\n",
              "      gap: 12px;\n",
              "    }\n",
              "\n",
              "    .colab-df-convert {\n",
              "      background-color: #E8F0FE;\n",
              "      border: none;\n",
              "      border-radius: 50%;\n",
              "      cursor: pointer;\n",
              "      display: none;\n",
              "      fill: #1967D2;\n",
              "      height: 32px;\n",
              "      padding: 0 0 0 0;\n",
              "      width: 32px;\n",
              "    }\n",
              "\n",
              "    .colab-df-convert:hover {\n",
              "      background-color: #E2EBFA;\n",
              "      box-shadow: 0px 1px 2px rgba(60, 64, 67, 0.3), 0px 1px 3px 1px rgba(60, 64, 67, 0.15);\n",
              "      fill: #174EA6;\n",
              "    }\n",
              "\n",
              "    [theme=dark] .colab-df-convert {\n",
              "      background-color: #3B4455;\n",
              "      fill: #D2E3FC;\n",
              "    }\n",
              "\n",
              "    [theme=dark] .colab-df-convert:hover {\n",
              "      background-color: #434B5C;\n",
              "      box-shadow: 0px 1px 3px 1px rgba(0, 0, 0, 0.15);\n",
              "      filter: drop-shadow(0px 1px 2px rgba(0, 0, 0, 0.3));\n",
              "      fill: #FFFFFF;\n",
              "    }\n",
              "  </style>\n",
              "\n",
              "      <script>\n",
              "        const buttonEl =\n",
              "          document.querySelector('#df-4255bca1-445a-415f-a59d-480ef1bdf452 button.colab-df-convert');\n",
              "        buttonEl.style.display =\n",
              "          google.colab.kernel.accessAllowed ? 'block' : 'none';\n",
              "\n",
              "        async function convertToInteractive(key) {\n",
              "          const element = document.querySelector('#df-4255bca1-445a-415f-a59d-480ef1bdf452');\n",
              "          const dataTable =\n",
              "            await google.colab.kernel.invokeFunction('convertToInteractive',\n",
              "                                                     [key], {});\n",
              "          if (!dataTable) return;\n",
              "\n",
              "          const docLinkHtml = 'Like what you see? Visit the ' +\n",
              "            '<a target=\"_blank\" href=https://colab.research.google.com/notebooks/data_table.ipynb>data table notebook</a>'\n",
              "            + ' to learn more about interactive tables.';\n",
              "          element.innerHTML = '';\n",
              "          dataTable['output_type'] = 'display_data';\n",
              "          await google.colab.output.renderOutput(dataTable, element);\n",
              "          const docLink = document.createElement('div');\n",
              "          docLink.innerHTML = docLinkHtml;\n",
              "          element.appendChild(docLink);\n",
              "        }\n",
              "      </script>\n",
              "    </div>\n",
              "  </div>\n",
              "  "
            ]
          },
          "metadata": {},
          "execution_count": 9
        }
      ]
    },
    {
      "cell_type": "code",
      "source": [
        "# проведем расчет основных статистических метрик\n",
        "df.describe()"
      ],
      "metadata": {
        "colab": {
          "base_uri": "https://localhost:8080/",
          "height": 300
        },
        "id": "Tq2WnnS99OR1",
        "outputId": "431c5af7-2e99-4282-b7ec-6b45406ed9de"
      },
      "execution_count": 10,
      "outputs": [
        {
          "output_type": "execute_result",
          "data": {
            "text/plain": [
              "       Consumption\n",
              "count    84.000000\n",
              "mean     61.769480\n",
              "std       8.553208\n",
              "min      41.588000\n",
              "25%      55.951750\n",
              "50%      61.925850\n",
              "75%      67.832650\n",
              "max      84.404000"
            ],
            "text/html": [
              "\n",
              "  <div id=\"df-ae12e200-e75c-426a-a988-6893070a940d\">\n",
              "    <div class=\"colab-df-container\">\n",
              "      <div>\n",
              "<style scoped>\n",
              "    .dataframe tbody tr th:only-of-type {\n",
              "        vertical-align: middle;\n",
              "    }\n",
              "\n",
              "    .dataframe tbody tr th {\n",
              "        vertical-align: top;\n",
              "    }\n",
              "\n",
              "    .dataframe thead th {\n",
              "        text-align: right;\n",
              "    }\n",
              "</style>\n",
              "<table border=\"1\" class=\"dataframe\">\n",
              "  <thead>\n",
              "    <tr style=\"text-align: right;\">\n",
              "      <th></th>\n",
              "      <th>Consumption</th>\n",
              "    </tr>\n",
              "  </thead>\n",
              "  <tbody>\n",
              "    <tr>\n",
              "      <th>count</th>\n",
              "      <td>84.000000</td>\n",
              "    </tr>\n",
              "    <tr>\n",
              "      <th>mean</th>\n",
              "      <td>61.769480</td>\n",
              "    </tr>\n",
              "    <tr>\n",
              "      <th>std</th>\n",
              "      <td>8.553208</td>\n",
              "    </tr>\n",
              "    <tr>\n",
              "      <th>min</th>\n",
              "      <td>41.588000</td>\n",
              "    </tr>\n",
              "    <tr>\n",
              "      <th>25%</th>\n",
              "      <td>55.951750</td>\n",
              "    </tr>\n",
              "    <tr>\n",
              "      <th>50%</th>\n",
              "      <td>61.925850</td>\n",
              "    </tr>\n",
              "    <tr>\n",
              "      <th>75%</th>\n",
              "      <td>67.832650</td>\n",
              "    </tr>\n",
              "    <tr>\n",
              "      <th>max</th>\n",
              "      <td>84.404000</td>\n",
              "    </tr>\n",
              "  </tbody>\n",
              "</table>\n",
              "</div>\n",
              "      <button class=\"colab-df-convert\" onclick=\"convertToInteractive('df-ae12e200-e75c-426a-a988-6893070a940d')\"\n",
              "              title=\"Convert this dataframe to an interactive table.\"\n",
              "              style=\"display:none;\">\n",
              "        \n",
              "  <svg xmlns=\"http://www.w3.org/2000/svg\" height=\"24px\"viewBox=\"0 0 24 24\"\n",
              "       width=\"24px\">\n",
              "    <path d=\"M0 0h24v24H0V0z\" fill=\"none\"/>\n",
              "    <path d=\"M18.56 5.44l.94 2.06.94-2.06 2.06-.94-2.06-.94-.94-2.06-.94 2.06-2.06.94zm-11 1L8.5 8.5l.94-2.06 2.06-.94-2.06-.94L8.5 2.5l-.94 2.06-2.06.94zm10 10l.94 2.06.94-2.06 2.06-.94-2.06-.94-.94-2.06-.94 2.06-2.06.94z\"/><path d=\"M17.41 7.96l-1.37-1.37c-.4-.4-.92-.59-1.43-.59-.52 0-1.04.2-1.43.59L10.3 9.45l-7.72 7.72c-.78.78-.78 2.05 0 2.83L4 21.41c.39.39.9.59 1.41.59.51 0 1.02-.2 1.41-.59l7.78-7.78 2.81-2.81c.8-.78.8-2.07 0-2.86zM5.41 20L4 18.59l7.72-7.72 1.47 1.35L5.41 20z\"/>\n",
              "  </svg>\n",
              "      </button>\n",
              "      \n",
              "  <style>\n",
              "    .colab-df-container {\n",
              "      display:flex;\n",
              "      flex-wrap:wrap;\n",
              "      gap: 12px;\n",
              "    }\n",
              "\n",
              "    .colab-df-convert {\n",
              "      background-color: #E8F0FE;\n",
              "      border: none;\n",
              "      border-radius: 50%;\n",
              "      cursor: pointer;\n",
              "      display: none;\n",
              "      fill: #1967D2;\n",
              "      height: 32px;\n",
              "      padding: 0 0 0 0;\n",
              "      width: 32px;\n",
              "    }\n",
              "\n",
              "    .colab-df-convert:hover {\n",
              "      background-color: #E2EBFA;\n",
              "      box-shadow: 0px 1px 2px rgba(60, 64, 67, 0.3), 0px 1px 3px 1px rgba(60, 64, 67, 0.15);\n",
              "      fill: #174EA6;\n",
              "    }\n",
              "\n",
              "    [theme=dark] .colab-df-convert {\n",
              "      background-color: #3B4455;\n",
              "      fill: #D2E3FC;\n",
              "    }\n",
              "\n",
              "    [theme=dark] .colab-df-convert:hover {\n",
              "      background-color: #434B5C;\n",
              "      box-shadow: 0px 1px 3px 1px rgba(0, 0, 0, 0.15);\n",
              "      filter: drop-shadow(0px 1px 2px rgba(0, 0, 0, 0.3));\n",
              "      fill: #FFFFFF;\n",
              "    }\n",
              "  </style>\n",
              "\n",
              "      <script>\n",
              "        const buttonEl =\n",
              "          document.querySelector('#df-ae12e200-e75c-426a-a988-6893070a940d button.colab-df-convert');\n",
              "        buttonEl.style.display =\n",
              "          google.colab.kernel.accessAllowed ? 'block' : 'none';\n",
              "\n",
              "        async function convertToInteractive(key) {\n",
              "          const element = document.querySelector('#df-ae12e200-e75c-426a-a988-6893070a940d');\n",
              "          const dataTable =\n",
              "            await google.colab.kernel.invokeFunction('convertToInteractive',\n",
              "                                                     [key], {});\n",
              "          if (!dataTable) return;\n",
              "\n",
              "          const docLinkHtml = 'Like what you see? Visit the ' +\n",
              "            '<a target=\"_blank\" href=https://colab.research.google.com/notebooks/data_table.ipynb>data table notebook</a>'\n",
              "            + ' to learn more about interactive tables.';\n",
              "          element.innerHTML = '';\n",
              "          dataTable['output_type'] = 'display_data';\n",
              "          await google.colab.output.renderOutput(dataTable, element);\n",
              "          const docLink = document.createElement('div');\n",
              "          docLink.innerHTML = docLinkHtml;\n",
              "          element.appendChild(docLink);\n",
              "        }\n",
              "      </script>\n",
              "    </div>\n",
              "  </div>\n",
              "  "
            ]
          },
          "metadata": {},
          "execution_count": 10
        }
      ]
    },
    {
      "cell_type": "code",
      "source": [
        "#построим общий график\n",
        "df[['Consumption']].plot(subplots=True, figsize=(15, 3), title = 'Потребление электроэнергии');"
      ],
      "metadata": {
        "colab": {
          "base_uri": "https://localhost:8080/",
          "height": 247
        },
        "id": "566laqSi9U0J",
        "outputId": "8f535d1e-29e7-4a4c-e89c-9b0df85cb12a"
      },
      "execution_count": 11,
      "outputs": [
        {
          "output_type": "display_data",
          "data": {
            "text/plain": [
              "<Figure size 1080x216 with 1 Axes>"
            ],
            "image/png": "[encoded data removed]"
          },
          "metadata": {
            "needs_background": "light"
          }
        }
      ]
    },
    {
      "cell_type": "markdown",
      "source": [
        "Промежуточный вывод: согласно графику видно, что рост потребления электроэнергии растет раз в год. Также с каждым годом потребление электроэнергии растет. Высокое потребление связано с зимой, в холодное время года растет потребление из-за короткого светового дня; установка дополнительной электроники (увлажнители воздуха, обогреватели)."
      ],
      "metadata": {
        "id": "wZPueTaB-AVQ"
      }
    },
    {
      "cell_type": "code",
      "source": [
        "# строим временной ряд по колонке 'Потребление' из загруженного датасета\n",
        "\n",
        "title = 'Потребление электроэнергии в квартире' # название графика\n",
        "ylabel = 'Уровень потребления' # название оси Y\n",
        "xlabel = '' # по сравнению с ожидаемым результатом не указываем название оси Х\n",
        "\n",
        "ax = df['Consumption'].plot(figsize=(12,6),title=title) # добавлем заголовок\n",
        "ax.autoscale(axis='x',tight=True)\n",
        "ax.set(xlabel=xlabel, ylabel=ylabel)"
      ],
      "metadata": {
        "colab": {
          "base_uri": "https://localhost:8080/",
          "height": 407
        },
        "id": "MXnE2DaAFTew",
        "outputId": "d86b367c-4432-420e-9f69-6d0f6cb55ff5"
      },
      "execution_count": 12,
      "outputs": [
        {
          "output_type": "execute_result",
          "data": {
            "text/plain": [
              "[Text(0, 0.5, 'Уровень потребления'), Text(0.5, 0, '')]"
            ]
          },
          "metadata": {},
          "execution_count": 12
        },
        {
          "output_type": "display_data",
          "data": {
            "text/plain": [
              "<Figure size 864x432 with 1 Axes>"
            ],
            "image/png": "[encoded data removed]"
          },
          "metadata": {
            "needs_background": "light"
          }
        }
      ]
    },
    {
      "cell_type": "markdown",
      "source": [
        "Промежуточный вывод: Видим высокий уровень корреляции, между потреблением и месяцем. Также выявлен положительный тренд потребления электроэнергии. Строим гипотезу: будет ли в будущем расти потребление электроэнергии с учетом появления новых электроприборов и работы на дому с учетом сезонности."
      ],
      "metadata": {
        "id": "_snSNRHNDnf5"
      }
    },
    {
      "cell_type": "markdown",
      "source": [
        "# Этап 3: Построение моделей, анализ результатов."
      ],
      "metadata": {
        "id": "FocGtnPIEvbk"
      }
    },
    {
      "cell_type": "code",
      "source": [
        "# выделяем выборки, где тестовая размера 1 год\n",
        "train = df.iloc[:len(df)-12]\n",
        "test = df.iloc[len(df)-12:]"
      ],
      "metadata": {
        "id": "M6WQHs9WKw0-"
      },
      "execution_count": 13,
      "outputs": []
    },
    {
      "cell_type": "code",
      "source": [
        "# посмотрим на обучающую выборку\n",
        "train.head()"
      ],
      "metadata": {
        "colab": {
          "base_uri": "https://localhost:8080/",
          "height": 238
        },
        "id": "qqrkbFhrLrze",
        "outputId": "be3419a6-fc4d-4023-af5f-f476b4e58883"
      },
      "execution_count": 14,
      "outputs": [
        {
          "output_type": "execute_result",
          "data": {
            "text/plain": [
              "            Consumption\n",
              "Date                   \n",
              "2015-01-01      65.9628\n",
              "2015-02-01      59.1620\n",
              "2015-03-01      57.3140\n",
              "2015-04-01      52.9718\n",
              "2015-05-01      49.1707"
            ],
            "text/html": [
              "\n",
              "  <div id=\"df-4affc315-4bfc-47d5-9803-94655e0d3d3e\">\n",
              "    <div class=\"colab-df-container\">\n",
              "      <div>\n",
              "<style scoped>\n",
              "    .dataframe tbody tr th:only-of-type {\n",
              "        vertical-align: middle;\n",
              "    }\n",
              "\n",
              "    .dataframe tbody tr th {\n",
              "        vertical-align: top;\n",
              "    }\n",
              "\n",
              "    .dataframe thead th {\n",
              "        text-align: right;\n",
              "    }\n",
              "</style>\n",
              "<table border=\"1\" class=\"dataframe\">\n",
              "  <thead>\n",
              "    <tr style=\"text-align: right;\">\n",
              "      <th></th>\n",
              "      <th>Consumption</th>\n",
              "    </tr>\n",
              "    <tr>\n",
              "      <th>Date</th>\n",
              "      <th></th>\n",
              "    </tr>\n",
              "  </thead>\n",
              "  <tbody>\n",
              "    <tr>\n",
              "      <th>2015-01-01</th>\n",
              "      <td>65.9628</td>\n",
              "    </tr>\n",
              "    <tr>\n",
              "      <th>2015-02-01</th>\n",
              "      <td>59.1620</td>\n",
              "    </tr>\n",
              "    <tr>\n",
              "      <th>2015-03-01</th>\n",
              "      <td>57.3140</td>\n",
              "    </tr>\n",
              "    <tr>\n",
              "      <th>2015-04-01</th>\n",
              "      <td>52.9718</td>\n",
              "    </tr>\n",
              "    <tr>\n",
              "      <th>2015-05-01</th>\n",
              "      <td>49.1707</td>\n",
              "    </tr>\n",
              "  </tbody>\n",
              "</table>\n",
              "</div>\n",
              "      <button class=\"colab-df-convert\" onclick=\"convertToInteractive('df-4affc315-4bfc-47d5-9803-94655e0d3d3e')\"\n",
              "              title=\"Convert this dataframe to an interactive table.\"\n",
              "              style=\"display:none;\">\n",
              "        \n",
              "  <svg xmlns=\"http://www.w3.org/2000/svg\" height=\"24px\"viewBox=\"0 0 24 24\"\n",
              "       width=\"24px\">\n",
              "    <path d=\"M0 0h24v24H0V0z\" fill=\"none\"/>\n",
              "    <path d=\"M18.56 5.44l.94 2.06.94-2.06 2.06-.94-2.06-.94-.94-2.06-.94 2.06-2.06.94zm-11 1L8.5 8.5l.94-2.06 2.06-.94-2.06-.94L8.5 2.5l-.94 2.06-2.06.94zm10 10l.94 2.06.94-2.06 2.06-.94-2.06-.94-.94-2.06-.94 2.06-2.06.94z\"/><path d=\"M17.41 7.96l-1.37-1.37c-.4-.4-.92-.59-1.43-.59-.52 0-1.04.2-1.43.59L10.3 9.45l-7.72 7.72c-.78.78-.78 2.05 0 2.83L4 21.41c.39.39.9.59 1.41.59.51 0 1.02-.2 1.41-.59l7.78-7.78 2.81-2.81c.8-.78.8-2.07 0-2.86zM5.41 20L4 18.59l7.72-7.72 1.47 1.35L5.41 20z\"/>\n",
              "  </svg>\n",
              "      </button>\n",
              "      \n",
              "  <style>\n",
              "    .colab-df-container {\n",
              "      display:flex;\n",
              "      flex-wrap:wrap;\n",
              "      gap: 12px;\n",
              "    }\n",
              "\n",
              "    .colab-df-convert {\n",
              "      background-color: #E8F0FE;\n",
              "      border: none;\n",
              "      border-radius: 50%;\n",
              "      cursor: pointer;\n",
              "      display: none;\n",
              "      fill: #1967D2;\n",
              "      height: 32px;\n",
              "      padding: 0 0 0 0;\n",
              "      width: 32px;\n",
              "    }\n",
              "\n",
              "    .colab-df-convert:hover {\n",
              "      background-color: #E2EBFA;\n",
              "      box-shadow: 0px 1px 2px rgba(60, 64, 67, 0.3), 0px 1px 3px 1px rgba(60, 64, 67, 0.15);\n",
              "      fill: #174EA6;\n",
              "    }\n",
              "\n",
              "    [theme=dark] .colab-df-convert {\n",
              "      background-color: #3B4455;\n",
              "      fill: #D2E3FC;\n",
              "    }\n",
              "\n",
              "    [theme=dark] .colab-df-convert:hover {\n",
              "      background-color: #434B5C;\n",
              "      box-shadow: 0px 1px 3px 1px rgba(0, 0, 0, 0.15);\n",
              "      filter: drop-shadow(0px 1px 2px rgba(0, 0, 0, 0.3));\n",
              "      fill: #FFFFFF;\n",
              "    }\n",
              "  </style>\n",
              "\n",
              "      <script>\n",
              "        const buttonEl =\n",
              "          document.querySelector('#df-4affc315-4bfc-47d5-9803-94655e0d3d3e button.colab-df-convert');\n",
              "        buttonEl.style.display =\n",
              "          google.colab.kernel.accessAllowed ? 'block' : 'none';\n",
              "\n",
              "        async function convertToInteractive(key) {\n",
              "          const element = document.querySelector('#df-4affc315-4bfc-47d5-9803-94655e0d3d3e');\n",
              "          const dataTable =\n",
              "            await google.colab.kernel.invokeFunction('convertToInteractive',\n",
              "                                                     [key], {});\n",
              "          if (!dataTable) return;\n",
              "\n",
              "          const docLinkHtml = 'Like what you see? Visit the ' +\n",
              "            '<a target=\"_blank\" href=https://colab.research.google.com/notebooks/data_table.ipynb>data table notebook</a>'\n",
              "            + ' to learn more about interactive tables.';\n",
              "          element.innerHTML = '';\n",
              "          dataTable['output_type'] = 'display_data';\n",
              "          await google.colab.output.renderOutput(dataTable, element);\n",
              "          const docLink = document.createElement('div');\n",
              "          docLink.innerHTML = docLinkHtml;\n",
              "          element.appendChild(docLink);\n",
              "        }\n",
              "      </script>\n",
              "    </div>\n",
              "  </div>\n",
              "  "
            ]
          },
          "metadata": {},
          "execution_count": 14
        }
      ]
    },
    {
      "cell_type": "code",
      "source": [
        "# посмотрим на тестовую выборку\n",
        "test.head()"
      ],
      "metadata": {
        "colab": {
          "base_uri": "https://localhost:8080/",
          "height": 238
        },
        "id": "jN5nc2XGLsbj",
        "outputId": "01060a60-c1e4-472f-dbbf-c0592c286b63"
      },
      "execution_count": 15,
      "outputs": [
        {
          "output_type": "execute_result",
          "data": {
            "text/plain": [
              "            Consumption\n",
              "Date                   \n",
              "2021-01-01      78.1368\n",
              "2021-02-01      76.8499\n",
              "2021-03-01      73.5377\n",
              "2021-04-01      65.2676\n",
              "2021-05-01      63.8617"
            ],
            "text/html": [
              "\n",
              "  <div id=\"df-cb9ebbd5-5fa4-4a97-940e-783a41fc6c2a\">\n",
              "    <div class=\"colab-df-container\">\n",
              "      <div>\n",
              "<style scoped>\n",
              "    .dataframe tbody tr th:only-of-type {\n",
              "        vertical-align: middle;\n",
              "    }\n",
              "\n",
              "    .dataframe tbody tr th {\n",
              "        vertical-align: top;\n",
              "    }\n",
              "\n",
              "    .dataframe thead th {\n",
              "        text-align: right;\n",
              "    }\n",
              "</style>\n",
              "<table border=\"1\" class=\"dataframe\">\n",
              "  <thead>\n",
              "    <tr style=\"text-align: right;\">\n",
              "      <th></th>\n",
              "      <th>Consumption</th>\n",
              "    </tr>\n",
              "    <tr>\n",
              "      <th>Date</th>\n",
              "      <th></th>\n",
              "    </tr>\n",
              "  </thead>\n",
              "  <tbody>\n",
              "    <tr>\n",
              "      <th>2021-01-01</th>\n",
              "      <td>78.1368</td>\n",
              "    </tr>\n",
              "    <tr>\n",
              "      <th>2021-02-01</th>\n",
              "      <td>76.8499</td>\n",
              "    </tr>\n",
              "    <tr>\n",
              "      <th>2021-03-01</th>\n",
              "      <td>73.5377</td>\n",
              "    </tr>\n",
              "    <tr>\n",
              "      <th>2021-04-01</th>\n",
              "      <td>65.2676</td>\n",
              "    </tr>\n",
              "    <tr>\n",
              "      <th>2021-05-01</th>\n",
              "      <td>63.8617</td>\n",
              "    </tr>\n",
              "  </tbody>\n",
              "</table>\n",
              "</div>\n",
              "      <button class=\"colab-df-convert\" onclick=\"convertToInteractive('df-cb9ebbd5-5fa4-4a97-940e-783a41fc6c2a')\"\n",
              "              title=\"Convert this dataframe to an interactive table.\"\n",
              "              style=\"display:none;\">\n",
              "        \n",
              "  <svg xmlns=\"http://www.w3.org/2000/svg\" height=\"24px\"viewBox=\"0 0 24 24\"\n",
              "       width=\"24px\">\n",
              "    <path d=\"M0 0h24v24H0V0z\" fill=\"none\"/>\n",
              "    <path d=\"M18.56 5.44l.94 2.06.94-2.06 2.06-.94-2.06-.94-.94-2.06-.94 2.06-2.06.94zm-11 1L8.5 8.5l.94-2.06 2.06-.94-2.06-.94L8.5 2.5l-.94 2.06-2.06.94zm10 10l.94 2.06.94-2.06 2.06-.94-2.06-.94-.94-2.06-.94 2.06-2.06.94z\"/><path d=\"M17.41 7.96l-1.37-1.37c-.4-.4-.92-.59-1.43-.59-.52 0-1.04.2-1.43.59L10.3 9.45l-7.72 7.72c-.78.78-.78 2.05 0 2.83L4 21.41c.39.39.9.59 1.41.59.51 0 1.02-.2 1.41-.59l7.78-7.78 2.81-2.81c.8-.78.8-2.07 0-2.86zM5.41 20L4 18.59l7.72-7.72 1.47 1.35L5.41 20z\"/>\n",
              "  </svg>\n",
              "      </button>\n",
              "      \n",
              "  <style>\n",
              "    .colab-df-container {\n",
              "      display:flex;\n",
              "      flex-wrap:wrap;\n",
              "      gap: 12px;\n",
              "    }\n",
              "\n",
              "    .colab-df-convert {\n",
              "      background-color: #E8F0FE;\n",
              "      border: none;\n",
              "      border-radius: 50%;\n",
              "      cursor: pointer;\n",
              "      display: none;\n",
              "      fill: #1967D2;\n",
              "      height: 32px;\n",
              "      padding: 0 0 0 0;\n",
              "      width: 32px;\n",
              "    }\n",
              "\n",
              "    .colab-df-convert:hover {\n",
              "      background-color: #E2EBFA;\n",
              "      box-shadow: 0px 1px 2px rgba(60, 64, 67, 0.3), 0px 1px 3px 1px rgba(60, 64, 67, 0.15);\n",
              "      fill: #174EA6;\n",
              "    }\n",
              "\n",
              "    [theme=dark] .colab-df-convert {\n",
              "      background-color: #3B4455;\n",
              "      fill: #D2E3FC;\n",
              "    }\n",
              "\n",
              "    [theme=dark] .colab-df-convert:hover {\n",
              "      background-color: #434B5C;\n",
              "      box-shadow: 0px 1px 3px 1px rgba(0, 0, 0, 0.15);\n",
              "      filter: drop-shadow(0px 1px 2px rgba(0, 0, 0, 0.3));\n",
              "      fill: #FFFFFF;\n",
              "    }\n",
              "  </style>\n",
              "\n",
              "      <script>\n",
              "        const buttonEl =\n",
              "          document.querySelector('#df-cb9ebbd5-5fa4-4a97-940e-783a41fc6c2a button.colab-df-convert');\n",
              "        buttonEl.style.display =\n",
              "          google.colab.kernel.accessAllowed ? 'block' : 'none';\n",
              "\n",
              "        async function convertToInteractive(key) {\n",
              "          const element = document.querySelector('#df-cb9ebbd5-5fa4-4a97-940e-783a41fc6c2a');\n",
              "          const dataTable =\n",
              "            await google.colab.kernel.invokeFunction('convertToInteractive',\n",
              "                                                     [key], {});\n",
              "          if (!dataTable) return;\n",
              "\n",
              "          const docLinkHtml = 'Like what you see? Visit the ' +\n",
              "            '<a target=\"_blank\" href=https://colab.research.google.com/notebooks/data_table.ipynb>data table notebook</a>'\n",
              "            + ' to learn more about interactive tables.';\n",
              "          element.innerHTML = '';\n",
              "          dataTable['output_type'] = 'display_data';\n",
              "          await google.colab.output.renderOutput(dataTable, element);\n",
              "          const docLink = document.createElement('div');\n",
              "          docLink.innerHTML = docLinkHtml;\n",
              "          element.appendChild(docLink);\n",
              "        }\n",
              "      </script>\n",
              "    </div>\n",
              "  </div>\n",
              "  "
            ]
          },
          "metadata": {},
          "execution_count": 15
        }
      ]
    },
    {
      "cell_type": "code",
      "source": [
        "# строим декомпозицию временного ряда (ETS декомпозиция)\n",
        "r = seasonal_decompose(df['Consumption'], model='additive')\n",
        "\n",
        "r.plot();"
      ],
      "metadata": {
        "colab": {
          "base_uri": "https://localhost:8080/",
          "height": 297
        },
        "id": "UAYREWz9Gcn9",
        "outputId": "2f3645a3-31c0-43d4-c24b-11ac5bdf9641"
      },
      "execution_count": 16,
      "outputs": [
        {
          "output_type": "display_data",
          "data": {
            "text/plain": [
              "<Figure size 432x288 with 4 Axes>"
            ],
            "image/png": "[encoded data removed]"
          },
          "metadata": {
            "needs_background": "light"
          }
        }
      ]
    },
    {
      "cell_type": "markdown",
      "source": [
        "Промежуточный вывод: Наблюдаем годовую сезонность и положительный тренд."
      ],
      "metadata": {
        "id": "ztQcCnsfHCYJ"
      }
    },
    {
      "cell_type": "markdown",
      "source": [
        "Задачи:\n",
        "\n",
        "1. описать модель\n",
        "2. подобрать оптимальные параметры\n",
        "3. создать модель\n",
        "4. обучить модель\n",
        "5. сделать прогноз на период тестовой выборки\n",
        "6. сравнить прогноз с тестовой выборкой (построить график)\n",
        "7. оценить качество прогноза\n",
        "8. сделать прогноз на год\n",
        "9. сделать выводы о работе данного метода прогнозирования"
      ],
      "metadata": {
        "id": "0vVbJp74I5-E"
      }
    },
    {
      "cell_type": "markdown",
      "source": [
        "Модель 1: SARIMAX"
      ],
      "metadata": {
        "id": "CiB0VIyhIL3Y"
      }
    },
    {
      "cell_type": "code",
      "source": [
        "# запускаем pmdarima.auto_arima чтобы получить набор параметров\n",
        "auto_arima(df['Consumption'],seasonal=True,m=12).summary() # включаем сезонность и указываем период сезонности равный 1 год"
      ],
      "metadata": {
        "colab": {
          "base_uri": "https://localhost:8080/",
          "height": 430
        },
        "id": "dXHVziTpIRMB",
        "outputId": "3ca6de69-3299-4f37-aa77-aaa444101009"
      },
      "execution_count": 17,
      "outputs": [
        {
          "output_type": "execute_result",
          "data": {
            "text/plain": [
              "<class 'statsmodels.iolib.summary.Summary'>\n",
              "\"\"\"\n",
              "                                      SARIMAX Results                                       \n",
              "============================================================================================\n",
              "Dep. Variable:                                    y   No. Observations:                   84\n",
              "Model:             SARIMAX(0, 1, 0)x(1, 0, [1], 12)   Log Likelihood                -211.927\n",
              "Date:                              Sat, 19 Mar 2022   AIC                            429.853\n",
              "Time:                                      14:13:04   BIC                            437.110\n",
              "Sample:                                           0   HQIC                           432.768\n",
              "                                               - 84                                         \n",
              "Covariance Type:                                opg                                         \n",
              "==============================================================================\n",
              "                 coef    std err          z      P>|z|      [0.025      0.975]\n",
              "------------------------------------------------------------------------------\n",
              "ar.S.L12       0.9978      0.010    100.247      0.000       0.978       1.017\n",
              "ma.S.L12      -0.8862      0.244     -3.633      0.000      -1.364      -0.408\n",
              "sigma2         6.7788      1.717      3.948      0.000       3.413      10.144\n",
              "===================================================================================\n",
              "Ljung-Box (L1) (Q):                   0.19   Jarque-Bera (JB):                21.98\n",
              "Prob(Q):                              0.67   Prob(JB):                         0.00\n",
              "Heteroskedasticity (H):               0.41   Skew:                             0.49\n",
              "Prob(H) (two-sided):                  0.02   Kurtosis:                         5.32\n",
              "===================================================================================\n",
              "\n",
              "Warnings:\n",
              "[1] Covariance matrix calculated using the outer product of gradients (complex-step).\n",
              "\"\"\""
            ],
            "text/html": [
              "<table class=\"simpletable\">\n",
              "<caption>SARIMAX Results</caption>\n",
              "<tr>\n",
              "  <th>Dep. Variable:</th>                   <td>y</td>                <th>  No. Observations:  </th>    <td>84</td>   \n",
              "</tr>\n",
              "<tr>\n",
              "  <th>Model:</th>           <td>SARIMAX(0, 1, 0)x(1, 0, [1], 12)</td> <th>  Log Likelihood     </th> <td>-211.927</td>\n",
              "</tr>\n",
              "<tr>\n",
              "  <th>Date:</th>                    <td>Sat, 19 Mar 2022</td>         <th>  AIC                </th>  <td>429.853</td>\n",
              "</tr>\n",
              "<tr>\n",
              "  <th>Time:</th>                        <td>14:13:04</td>             <th>  BIC                </th>  <td>437.110</td>\n",
              "</tr>\n",
              "<tr>\n",
              "  <th>Sample:</th>                          <td>0</td>                <th>  HQIC               </th>  <td>432.768</td>\n",
              "</tr>\n",
              "<tr>\n",
              "  <th></th>                               <td> - 84</td>              <th>                     </th>     <td> </td>   \n",
              "</tr>\n",
              "<tr>\n",
              "  <th>Covariance Type:</th>                <td>opg</td>               <th>                     </th>     <td> </td>   \n",
              "</tr>\n",
              "</table>\n",
              "<table class=\"simpletable\">\n",
              "<tr>\n",
              "      <td></td>        <th>coef</th>     <th>std err</th>      <th>z</th>      <th>P>|z|</th>  <th>[0.025</th>    <th>0.975]</th>  \n",
              "</tr>\n",
              "<tr>\n",
              "  <th>ar.S.L12</th> <td>    0.9978</td> <td>    0.010</td> <td>  100.247</td> <td> 0.000</td> <td>    0.978</td> <td>    1.017</td>\n",
              "</tr>\n",
              "<tr>\n",
              "  <th>ma.S.L12</th> <td>   -0.8862</td> <td>    0.244</td> <td>   -3.633</td> <td> 0.000</td> <td>   -1.364</td> <td>   -0.408</td>\n",
              "</tr>\n",
              "<tr>\n",
              "  <th>sigma2</th>   <td>    6.7788</td> <td>    1.717</td> <td>    3.948</td> <td> 0.000</td> <td>    3.413</td> <td>   10.144</td>\n",
              "</tr>\n",
              "</table>\n",
              "<table class=\"simpletable\">\n",
              "<tr>\n",
              "  <th>Ljung-Box (L1) (Q):</th>     <td>0.19</td> <th>  Jarque-Bera (JB):  </th> <td>21.98</td>\n",
              "</tr>\n",
              "<tr>\n",
              "  <th>Prob(Q):</th>                <td>0.67</td> <th>  Prob(JB):          </th> <td>0.00</td> \n",
              "</tr>\n",
              "<tr>\n",
              "  <th>Heteroskedasticity (H):</th> <td>0.41</td> <th>  Skew:              </th> <td>0.49</td> \n",
              "</tr>\n",
              "<tr>\n",
              "  <th>Prob(H) (two-sided):</th>    <td>0.02</td> <th>  Kurtosis:          </th> <td>5.32</td> \n",
              "</tr>\n",
              "</table><br/><br/>Warnings:<br/>[1] Covariance matrix calculated using the outer product of gradients (complex-step)."
            ]
          },
          "metadata": {},
          "execution_count": 17
        }
      ]
    },
    {
      "cell_type": "markdown",
      "source": [
        "Промежуточные выводы:\n",
        "\n",
        "Получилась модель с параметрами SARIMAX(0, 1, 0)x(1, 0, 1, 12)"
      ],
      "metadata": {
        "id": "ChlblMNYJigf"
      }
    },
    {
      "cell_type": "code",
      "source": [
        "# создаем модель с подобранными параметрами\n",
        "model_sarimax = SARIMAX(train['Consumption'],order=(0, 1, 0), seasonal_order=(1, 0, 1, 12))\n",
        "\n",
        "# обучаем модель на обучающей выборке данных\n",
        "results_sarimax = model_sarimax.fit()\n",
        "\n",
        "# получаем результаты\n",
        "results_sarimax.summary()"
      ],
      "metadata": {
        "colab": {
          "base_uri": "https://localhost:8080/",
          "height": 430
        },
        "id": "GWwtCf9iJtUB",
        "outputId": "42fe6cdd-d97f-4914-b73c-28a004c201d0"
      },
      "execution_count": 18,
      "outputs": [
        {
          "output_type": "execute_result",
          "data": {
            "text/plain": [
              "<class 'statsmodels.iolib.summary.Summary'>\n",
              "\"\"\"\n",
              "                                      SARIMAX Results                                       \n",
              "============================================================================================\n",
              "Dep. Variable:                          Consumption   No. Observations:                   72\n",
              "Model:             SARIMAX(0, 1, 0)x(1, 0, [1], 12)   Log Likelihood                -183.140\n",
              "Date:                              Sat, 19 Mar 2022   AIC                            372.280\n",
              "Time:                                      14:13:29   BIC                            379.068\n",
              "Sample:                                  01-01-2015   HQIC                           374.979\n",
              "                                       - 12-01-2020                                         \n",
              "Covariance Type:                                opg                                         \n",
              "==============================================================================\n",
              "                 coef    std err          z      P>|z|      [0.025      0.975]\n",
              "------------------------------------------------------------------------------\n",
              "ar.S.L12       0.9639      0.038     25.644      0.000       0.890       1.038\n",
              "ma.S.L12      -0.5564      0.209     -2.658      0.008      -0.967      -0.146\n",
              "sigma2         7.9335      1.226      6.471      0.000       5.531      10.336\n",
              "===================================================================================\n",
              "Ljung-Box (L1) (Q):                   0.83   Jarque-Bera (JB):                28.49\n",
              "Prob(Q):                              0.36   Prob(JB):                         0.00\n",
              "Heteroskedasticity (H):               0.16   Skew:                             0.43\n",
              "Prob(H) (two-sided):                  0.00   Kurtosis:                         5.98\n",
              "===================================================================================\n",
              "\n",
              "Warnings:\n",
              "[1] Covariance matrix calculated using the outer product of gradients (complex-step).\n",
              "\"\"\""
            ],
            "text/html": [
              "<table class=\"simpletable\">\n",
              "<caption>SARIMAX Results</caption>\n",
              "<tr>\n",
              "  <th>Dep. Variable:</th>              <td>Consumption</td>           <th>  No. Observations:  </th>    <td>72</td>   \n",
              "</tr>\n",
              "<tr>\n",
              "  <th>Model:</th>           <td>SARIMAX(0, 1, 0)x(1, 0, [1], 12)</td> <th>  Log Likelihood     </th> <td>-183.140</td>\n",
              "</tr>\n",
              "<tr>\n",
              "  <th>Date:</th>                    <td>Sat, 19 Mar 2022</td>         <th>  AIC                </th>  <td>372.280</td>\n",
              "</tr>\n",
              "<tr>\n",
              "  <th>Time:</th>                        <td>14:13:29</td>             <th>  BIC                </th>  <td>379.068</td>\n",
              "</tr>\n",
              "<tr>\n",
              "  <th>Sample:</th>                     <td>01-01-2015</td>            <th>  HQIC               </th>  <td>374.979</td>\n",
              "</tr>\n",
              "<tr>\n",
              "  <th></th>                           <td>- 12-01-2020</td>           <th>                     </th>     <td> </td>   \n",
              "</tr>\n",
              "<tr>\n",
              "  <th>Covariance Type:</th>                <td>opg</td>               <th>                     </th>     <td> </td>   \n",
              "</tr>\n",
              "</table>\n",
              "<table class=\"simpletable\">\n",
              "<tr>\n",
              "      <td></td>        <th>coef</th>     <th>std err</th>      <th>z</th>      <th>P>|z|</th>  <th>[0.025</th>    <th>0.975]</th>  \n",
              "</tr>\n",
              "<tr>\n",
              "  <th>ar.S.L12</th> <td>    0.9639</td> <td>    0.038</td> <td>   25.644</td> <td> 0.000</td> <td>    0.890</td> <td>    1.038</td>\n",
              "</tr>\n",
              "<tr>\n",
              "  <th>ma.S.L12</th> <td>   -0.5564</td> <td>    0.209</td> <td>   -2.658</td> <td> 0.008</td> <td>   -0.967</td> <td>   -0.146</td>\n",
              "</tr>\n",
              "<tr>\n",
              "  <th>sigma2</th>   <td>    7.9335</td> <td>    1.226</td> <td>    6.471</td> <td> 0.000</td> <td>    5.531</td> <td>   10.336</td>\n",
              "</tr>\n",
              "</table>\n",
              "<table class=\"simpletable\">\n",
              "<tr>\n",
              "  <th>Ljung-Box (L1) (Q):</th>     <td>0.83</td> <th>  Jarque-Bera (JB):  </th> <td>28.49</td>\n",
              "</tr>\n",
              "<tr>\n",
              "  <th>Prob(Q):</th>                <td>0.36</td> <th>  Prob(JB):          </th> <td>0.00</td> \n",
              "</tr>\n",
              "<tr>\n",
              "  <th>Heteroskedasticity (H):</th> <td>0.16</td> <th>  Skew:              </th> <td>0.43</td> \n",
              "</tr>\n",
              "<tr>\n",
              "  <th>Prob(H) (two-sided):</th>    <td>0.00</td> <th>  Kurtosis:          </th> <td>5.98</td> \n",
              "</tr>\n",
              "</table><br/><br/>Warnings:<br/>[1] Covariance matrix calculated using the outer product of gradients (complex-step)."
            ]
          },
          "metadata": {},
          "execution_count": 18
        }
      ]
    },
    {
      "cell_type": "code",
      "source": [
        "# получаем предсказанные значения и пытаемся оценить качество прогноза\n",
        "start=len(train) # первая точка в тестовом множестве\n",
        "end=len(train)+len(test)-1 # последняя точка в тестовом множестве\n",
        "\n",
        "# предсказываем значения,передав модели results точку начала и окончания\n",
        "predictions = results_sarimax.predict(start=start, end=end, dynamic=False, typ='levels').rename('Predictions SARIMAX(0, 1, 0)x(1, 0, 1, 12)')"
      ],
      "metadata": {
        "id": "SZa1rN_UL-9f"
      },
      "execution_count": 19,
      "outputs": []
    },
    {
      "cell_type": "code",
      "source": [
        "# сравниваем результаты\n",
        "\n",
        "title = 'Потребление электроэнергии в квартире' # название графика\n",
        "ylabel = 'Объем потребления' # название оси Y\n",
        "xlabel = '' # по сравнению с ожидаемым результатом не указываем название оси Х\n",
        "\n",
        "\n",
        "ax = test['Consumption'].plot(legend=True, figsize=(12,6),title=title) # добавлем заголовок\n",
        "predictions.plot(legend=True)\n",
        "ax.autoscale(axis='x',tight=True)\n",
        "ax.set(xlabel=xlabel, ylabel=ylabel)"
      ],
      "metadata": {
        "colab": {
          "base_uri": "https://localhost:8080/",
          "height": 419
        },
        "id": "63g5K2i6Mq2x",
        "outputId": "08b52dd8-ab46-4c4c-9ee1-791c39b8dc27"
      },
      "execution_count": 20,
      "outputs": [
        {
          "output_type": "execute_result",
          "data": {
            "text/plain": [
              "[Text(0, 0.5, 'Объем потребления'), Text(0.5, 0, '')]"
            ]
          },
          "metadata": {},
          "execution_count": 20
        },
        {
          "output_type": "display_data",
          "data": {
            "text/plain": [
              "<Figure size 864x432 with 1 Axes>"
            ],
            "image/png": "[encoded data removed]"
          },
          "metadata": {
            "needs_background": "light"
          }
        }
      ]
    },
    {
      "cell_type": "code",
      "source": [
        "#оцениваем качество модели методом MSE, RMSE, MAE, MAPE\n",
        "mae_error = mean_absolute_error(test['Consumption'], predictions)\n",
        "mse_error = mean_squared_error(test['Consumption'], predictions)\n",
        "rmse_error = rmse(test['Consumption'], predictions)\n",
        "mape_error = np.mean(np.abs(predictions - test['Consumption'])/test['Consumption'])*100\n",
        "\n",
        "print(f'SARIMAX(0, 1, 0)x(1, 0, 1, 12) MAE Error: {mae_error:11.10}')\n",
        "print(f'SARIMAX(0, 1, 0)x(1, 0, 1, 12) MSE Error: {mse_error:11.10}')\n",
        "print(f'SARIMAX(0, 1, 0)x(1, 0, 1, 12) RMSE Error: {rmse_error:11.10}')\n",
        "print(f'SARIMAX(0, 1, 0)x(1, 0, 1, 12) MAPE Error: {mape_error:11.10}')"
      ],
      "metadata": {
        "id": "9mDuXkXhDoOE",
        "colab": {
          "base_uri": "https://localhost:8080/"
        },
        "outputId": "df9cdb0c-38ce-435e-8e7c-eab9360bc53d"
      },
      "execution_count": 21,
      "outputs": [
        {
          "output_type": "stream",
          "name": "stdout",
          "text": [
            "SARIMAX(0, 1, 0)x(1, 0, 1, 12) MAE Error:  2.16142509\n",
            "SARIMAX(0, 1, 0)x(1, 0, 1, 12) MSE Error:  8.32180162\n",
            "SARIMAX(0, 1, 0)x(1, 0, 1, 12) RMSE Error: 2.884753303\n",
            "SARIMAX(0, 1, 0)x(1, 0, 1, 12) MAPE Error:  3.00844232\n"
          ]
        }
      ]
    },
    {
      "cell_type": "code",
      "source": [
        "#делаем прогноз на будущее - 1 год вперед\n",
        "\n",
        "# обучаем модель на всем датасете\n",
        "fut_model_sarimax = SARIMAX(df['Consumption'],order=(0, 1, 0), seasonal_order=(1, 0, 1, 12))\n",
        "fut_results_sarimax = fut_model_sarimax.fit()\n",
        "fut_results_sarimax.summary()"
      ],
      "metadata": {
        "colab": {
          "base_uri": "https://localhost:8080/",
          "height": 430
        },
        "id": "Kzy4TQd3RFhl",
        "outputId": "f818b058-11d8-45ba-bde2-3efc1b90a3ea"
      },
      "execution_count": 22,
      "outputs": [
        {
          "output_type": "execute_result",
          "data": {
            "text/plain": [
              "<class 'statsmodels.iolib.summary.Summary'>\n",
              "\"\"\"\n",
              "                                      SARIMAX Results                                       \n",
              "============================================================================================\n",
              "Dep. Variable:                          Consumption   No. Observations:                   84\n",
              "Model:             SARIMAX(0, 1, 0)x(1, 0, [1], 12)   Log Likelihood                -211.927\n",
              "Date:                              Sat, 19 Mar 2022   AIC                            429.853\n",
              "Time:                                      14:13:44   BIC                            437.110\n",
              "Sample:                                  01-01-2015   HQIC                           432.768\n",
              "                                       - 12-01-2021                                         \n",
              "Covariance Type:                                opg                                         \n",
              "==============================================================================\n",
              "                 coef    std err          z      P>|z|      [0.025      0.975]\n",
              "------------------------------------------------------------------------------\n",
              "ar.S.L12       0.9978      0.010    100.247      0.000       0.978       1.017\n",
              "ma.S.L12      -0.8862      0.244     -3.633      0.000      -1.364      -0.408\n",
              "sigma2         6.7788      1.717      3.948      0.000       3.413      10.144\n",
              "===================================================================================\n",
              "Ljung-Box (L1) (Q):                   0.19   Jarque-Bera (JB):                21.98\n",
              "Prob(Q):                              0.67   Prob(JB):                         0.00\n",
              "Heteroskedasticity (H):               0.41   Skew:                             0.49\n",
              "Prob(H) (two-sided):                  0.02   Kurtosis:                         5.32\n",
              "===================================================================================\n",
              "\n",
              "Warnings:\n",
              "[1] Covariance matrix calculated using the outer product of gradients (complex-step).\n",
              "\"\"\""
            ],
            "text/html": [
              "<table class=\"simpletable\">\n",
              "<caption>SARIMAX Results</caption>\n",
              "<tr>\n",
              "  <th>Dep. Variable:</th>              <td>Consumption</td>           <th>  No. Observations:  </th>    <td>84</td>   \n",
              "</tr>\n",
              "<tr>\n",
              "  <th>Model:</th>           <td>SARIMAX(0, 1, 0)x(1, 0, [1], 12)</td> <th>  Log Likelihood     </th> <td>-211.927</td>\n",
              "</tr>\n",
              "<tr>\n",
              "  <th>Date:</th>                    <td>Sat, 19 Mar 2022</td>         <th>  AIC                </th>  <td>429.853</td>\n",
              "</tr>\n",
              "<tr>\n",
              "  <th>Time:</th>                        <td>14:13:44</td>             <th>  BIC                </th>  <td>437.110</td>\n",
              "</tr>\n",
              "<tr>\n",
              "  <th>Sample:</th>                     <td>01-01-2015</td>            <th>  HQIC               </th>  <td>432.768</td>\n",
              "</tr>\n",
              "<tr>\n",
              "  <th></th>                           <td>- 12-01-2021</td>           <th>                     </th>     <td> </td>   \n",
              "</tr>\n",
              "<tr>\n",
              "  <th>Covariance Type:</th>                <td>opg</td>               <th>                     </th>     <td> </td>   \n",
              "</tr>\n",
              "</table>\n",
              "<table class=\"simpletable\">\n",
              "<tr>\n",
              "      <td></td>        <th>coef</th>     <th>std err</th>      <th>z</th>      <th>P>|z|</th>  <th>[0.025</th>    <th>0.975]</th>  \n",
              "</tr>\n",
              "<tr>\n",
              "  <th>ar.S.L12</th> <td>    0.9978</td> <td>    0.010</td> <td>  100.247</td> <td> 0.000</td> <td>    0.978</td> <td>    1.017</td>\n",
              "</tr>\n",
              "<tr>\n",
              "  <th>ma.S.L12</th> <td>   -0.8862</td> <td>    0.244</td> <td>   -3.633</td> <td> 0.000</td> <td>   -1.364</td> <td>   -0.408</td>\n",
              "</tr>\n",
              "<tr>\n",
              "  <th>sigma2</th>   <td>    6.7788</td> <td>    1.717</td> <td>    3.948</td> <td> 0.000</td> <td>    3.413</td> <td>   10.144</td>\n",
              "</tr>\n",
              "</table>\n",
              "<table class=\"simpletable\">\n",
              "<tr>\n",
              "  <th>Ljung-Box (L1) (Q):</th>     <td>0.19</td> <th>  Jarque-Bera (JB):  </th> <td>21.98</td>\n",
              "</tr>\n",
              "<tr>\n",
              "  <th>Prob(Q):</th>                <td>0.67</td> <th>  Prob(JB):          </th> <td>0.00</td> \n",
              "</tr>\n",
              "<tr>\n",
              "  <th>Heteroskedasticity (H):</th> <td>0.41</td> <th>  Skew:              </th> <td>0.49</td> \n",
              "</tr>\n",
              "<tr>\n",
              "  <th>Prob(H) (two-sided):</th>    <td>0.02</td> <th>  Kurtosis:          </th> <td>5.32</td> \n",
              "</tr>\n",
              "</table><br/><br/>Warnings:<br/>[1] Covariance matrix calculated using the outer product of gradients (complex-step)."
            ]
          },
          "metadata": {},
          "execution_count": 22
        }
      ]
    },
    {
      "cell_type": "code",
      "source": [
        "#задаем точки будущего\n",
        "fut_fcast_sarimax = fut_results_sarimax.predict(len(df)-1,len(df)+11,typ='levels').rename('SARIMAX(0, 1, 0)x(1, 0, 1, 12) Forecast')\n",
        "\n",
        "#строим график на будущее\n",
        "ax = df['Consumption'].plot(legend=True, figsize=(12,6),title='Потребление электроэнергии в квартире') \n",
        "fut_fcast_sarimax.plot(legend=True)\n",
        "ax.autoscale(axis='x',tight=True)"
      ],
      "metadata": {
        "colab": {
          "base_uri": "https://localhost:8080/",
          "height": 404
        },
        "id": "aD5XqT4IRaZY",
        "outputId": "3e56cf05-5d5b-4ca8-a0b2-bf2251500f0d"
      },
      "execution_count": 23,
      "outputs": [
        {
          "output_type": "display_data",
          "data": {
            "text/plain": [
              "<Figure size 864x432 with 1 Axes>"
            ],
            "image/png": "[encoded data removed]"
          },
          "metadata": {
            "needs_background": "light"
          }
        }
      ]
    },
    {
      "cell_type": "markdown",
      "source": [
        "### Выводы работы метода SARIMAX:\n",
        "\n",
        "\n",
        "1.   Модель показала себя хорошо, RMSE=2.9 кВТ/ч, это очень хороший показатель.\n",
        "2.   Также процент рассчитанной ошибки MAPE=3%, это хороший результат.\n",
        "3. Согласно графику, на будущее видим, что тренд и высота амплитуда были отображены корректно, общая динамика прослеживается. \n",
        "\n"
      ],
      "metadata": {
        "id": "-84N9CWNR40a"
      }
    },
    {
      "cell_type": "markdown",
      "source": [
        "Модель 2: PROPHET"
      ],
      "metadata": {
        "id": "ALyVah1wSPzV"
      }
    },
    {
      "cell_type": "code",
      "source": [
        "# подготовим данные для модели\n",
        "train_prophet = train.reset_index() # индекс сбросим, чтобы работать только с колонками\n",
        "test_prophet = test.reset_index() # индекс сбросим, чтобы работать только с колонками\n",
        "\n",
        "df_new=df.reset_index()\n",
        "df_new_prophet = df_new[['Date','Consumption']]\n",
        "df_new_prophet.columns = ['ds', 'y'] # переименовали столбцы\n",
        "\n",
        "# переименуем столбцы в обучающем и тестовом датасетах, чтобы они подходили для использования методов Prophet\n",
        "train_prophet.columns = ['ds', 'y'] # переименовали столбцы\n",
        "test_prophet.columns = ['ds', 'y'] # переименовали столбцы\n",
        "\n",
        "#выделим тестовую (последний год) и обущающую (до последнего года) выборку\n",
        "train = df.iloc[:len(df)-12]\n",
        "test = df.iloc[len(df)-12:]"
      ],
      "metadata": {
        "id": "q7lcIq7fS1zO"
      },
      "execution_count": 24,
      "outputs": []
    },
    {
      "cell_type": "code",
      "source": [
        "df_new_prophet.head()"
      ],
      "metadata": {
        "colab": {
          "base_uri": "https://localhost:8080/",
          "height": 206
        },
        "id": "t4Ufeuni3Rv0",
        "outputId": "d6581ce0-a964-4f4b-ad74-fbab0833199d"
      },
      "execution_count": 25,
      "outputs": [
        {
          "output_type": "execute_result",
          "data": {
            "text/plain": [
              "          ds        y\n",
              "0 2015-01-01  65.9628\n",
              "1 2015-02-01  59.1620\n",
              "2 2015-03-01  57.3140\n",
              "3 2015-04-01  52.9718\n",
              "4 2015-05-01  49.1707"
            ],
            "text/html": [
              "\n",
              "  <div id=\"df-5a9202fc-2f20-48aa-aa3a-c874ddfe89a9\">\n",
              "    <div class=\"colab-df-container\">\n",
              "      <div>\n",
              "<style scoped>\n",
              "    .dataframe tbody tr th:only-of-type {\n",
              "        vertical-align: middle;\n",
              "    }\n",
              "\n",
              "    .dataframe tbody tr th {\n",
              "        vertical-align: top;\n",
              "    }\n",
              "\n",
              "    .dataframe thead th {\n",
              "        text-align: right;\n",
              "    }\n",
              "</style>\n",
              "<table border=\"1\" class=\"dataframe\">\n",
              "  <thead>\n",
              "    <tr style=\"text-align: right;\">\n",
              "      <th></th>\n",
              "      <th>ds</th>\n",
              "      <th>y</th>\n",
              "    </tr>\n",
              "  </thead>\n",
              "  <tbody>\n",
              "    <tr>\n",
              "      <th>0</th>\n",
              "      <td>2015-01-01</td>\n",
              "      <td>65.9628</td>\n",
              "    </tr>\n",
              "    <tr>\n",
              "      <th>1</th>\n",
              "      <td>2015-02-01</td>\n",
              "      <td>59.1620</td>\n",
              "    </tr>\n",
              "    <tr>\n",
              "      <th>2</th>\n",
              "      <td>2015-03-01</td>\n",
              "      <td>57.3140</td>\n",
              "    </tr>\n",
              "    <tr>\n",
              "      <th>3</th>\n",
              "      <td>2015-04-01</td>\n",
              "      <td>52.9718</td>\n",
              "    </tr>\n",
              "    <tr>\n",
              "      <th>4</th>\n",
              "      <td>2015-05-01</td>\n",
              "      <td>49.1707</td>\n",
              "    </tr>\n",
              "  </tbody>\n",
              "</table>\n",
              "</div>\n",
              "      <button class=\"colab-df-convert\" onclick=\"convertToInteractive('df-5a9202fc-2f20-48aa-aa3a-c874ddfe89a9')\"\n",
              "              title=\"Convert this dataframe to an interactive table.\"\n",
              "              style=\"display:none;\">\n",
              "        \n",
              "  <svg xmlns=\"http://www.w3.org/2000/svg\" height=\"24px\"viewBox=\"0 0 24 24\"\n",
              "       width=\"24px\">\n",
              "    <path d=\"M0 0h24v24H0V0z\" fill=\"none\"/>\n",
              "    <path d=\"M18.56 5.44l.94 2.06.94-2.06 2.06-.94-2.06-.94-.94-2.06-.94 2.06-2.06.94zm-11 1L8.5 8.5l.94-2.06 2.06-.94-2.06-.94L8.5 2.5l-.94 2.06-2.06.94zm10 10l.94 2.06.94-2.06 2.06-.94-2.06-.94-.94-2.06-.94 2.06-2.06.94z\"/><path d=\"M17.41 7.96l-1.37-1.37c-.4-.4-.92-.59-1.43-.59-.52 0-1.04.2-1.43.59L10.3 9.45l-7.72 7.72c-.78.78-.78 2.05 0 2.83L4 21.41c.39.39.9.59 1.41.59.51 0 1.02-.2 1.41-.59l7.78-7.78 2.81-2.81c.8-.78.8-2.07 0-2.86zM5.41 20L4 18.59l7.72-7.72 1.47 1.35L5.41 20z\"/>\n",
              "  </svg>\n",
              "      </button>\n",
              "      \n",
              "  <style>\n",
              "    .colab-df-container {\n",
              "      display:flex;\n",
              "      flex-wrap:wrap;\n",
              "      gap: 12px;\n",
              "    }\n",
              "\n",
              "    .colab-df-convert {\n",
              "      background-color: #E8F0FE;\n",
              "      border: none;\n",
              "      border-radius: 50%;\n",
              "      cursor: pointer;\n",
              "      display: none;\n",
              "      fill: #1967D2;\n",
              "      height: 32px;\n",
              "      padding: 0 0 0 0;\n",
              "      width: 32px;\n",
              "    }\n",
              "\n",
              "    .colab-df-convert:hover {\n",
              "      background-color: #E2EBFA;\n",
              "      box-shadow: 0px 1px 2px rgba(60, 64, 67, 0.3), 0px 1px 3px 1px rgba(60, 64, 67, 0.15);\n",
              "      fill: #174EA6;\n",
              "    }\n",
              "\n",
              "    [theme=dark] .colab-df-convert {\n",
              "      background-color: #3B4455;\n",
              "      fill: #D2E3FC;\n",
              "    }\n",
              "\n",
              "    [theme=dark] .colab-df-convert:hover {\n",
              "      background-color: #434B5C;\n",
              "      box-shadow: 0px 1px 3px 1px rgba(0, 0, 0, 0.15);\n",
              "      filter: drop-shadow(0px 1px 2px rgba(0, 0, 0, 0.3));\n",
              "      fill: #FFFFFF;\n",
              "    }\n",
              "  </style>\n",
              "\n",
              "      <script>\n",
              "        const buttonEl =\n",
              "          document.querySelector('#df-5a9202fc-2f20-48aa-aa3a-c874ddfe89a9 button.colab-df-convert');\n",
              "        buttonEl.style.display =\n",
              "          google.colab.kernel.accessAllowed ? 'block' : 'none';\n",
              "\n",
              "        async function convertToInteractive(key) {\n",
              "          const element = document.querySelector('#df-5a9202fc-2f20-48aa-aa3a-c874ddfe89a9');\n",
              "          const dataTable =\n",
              "            await google.colab.kernel.invokeFunction('convertToInteractive',\n",
              "                                                     [key], {});\n",
              "          if (!dataTable) return;\n",
              "\n",
              "          const docLinkHtml = 'Like what you see? Visit the ' +\n",
              "            '<a target=\"_blank\" href=https://colab.research.google.com/notebooks/data_table.ipynb>data table notebook</a>'\n",
              "            + ' to learn more about interactive tables.';\n",
              "          element.innerHTML = '';\n",
              "          dataTable['output_type'] = 'display_data';\n",
              "          await google.colab.output.renderOutput(dataTable, element);\n",
              "          const docLink = document.createElement('div');\n",
              "          docLink.innerHTML = docLinkHtml;\n",
              "          element.appendChild(docLink);\n",
              "        }\n",
              "      </script>\n",
              "    </div>\n",
              "  </div>\n",
              "  "
            ]
          },
          "metadata": {},
          "execution_count": 25
        }
      ]
    },
    {
      "cell_type": "code",
      "source": [
        "train_prophet.head() # посмотрим преобразование после переименования колонок"
      ],
      "metadata": {
        "colab": {
          "base_uri": "https://localhost:8080/",
          "height": 206
        },
        "id": "pdw2Lr-0Tn03",
        "outputId": "7ae61ffa-5b34-40fd-a494-0bddacca81f2"
      },
      "execution_count": 26,
      "outputs": [
        {
          "output_type": "execute_result",
          "data": {
            "text/plain": [
              "          ds        y\n",
              "0 2015-01-01  65.9628\n",
              "1 2015-02-01  59.1620\n",
              "2 2015-03-01  57.3140\n",
              "3 2015-04-01  52.9718\n",
              "4 2015-05-01  49.1707"
            ],
            "text/html": [
              "\n",
              "  <div id=\"df-6c7c111f-05e6-436e-a4f1-d5fefee1aac3\">\n",
              "    <div class=\"colab-df-container\">\n",
              "      <div>\n",
              "<style scoped>\n",
              "    .dataframe tbody tr th:only-of-type {\n",
              "        vertical-align: middle;\n",
              "    }\n",
              "\n",
              "    .dataframe tbody tr th {\n",
              "        vertical-align: top;\n",
              "    }\n",
              "\n",
              "    .dataframe thead th {\n",
              "        text-align: right;\n",
              "    }\n",
              "</style>\n",
              "<table border=\"1\" class=\"dataframe\">\n",
              "  <thead>\n",
              "    <tr style=\"text-align: right;\">\n",
              "      <th></th>\n",
              "      <th>ds</th>\n",
              "      <th>y</th>\n",
              "    </tr>\n",
              "  </thead>\n",
              "  <tbody>\n",
              "    <tr>\n",
              "      <th>0</th>\n",
              "      <td>2015-01-01</td>\n",
              "      <td>65.9628</td>\n",
              "    </tr>\n",
              "    <tr>\n",
              "      <th>1</th>\n",
              "      <td>2015-02-01</td>\n",
              "      <td>59.1620</td>\n",
              "    </tr>\n",
              "    <tr>\n",
              "      <th>2</th>\n",
              "      <td>2015-03-01</td>\n",
              "      <td>57.3140</td>\n",
              "    </tr>\n",
              "    <tr>\n",
              "      <th>3</th>\n",
              "      <td>2015-04-01</td>\n",
              "      <td>52.9718</td>\n",
              "    </tr>\n",
              "    <tr>\n",
              "      <th>4</th>\n",
              "      <td>2015-05-01</td>\n",
              "      <td>49.1707</td>\n",
              "    </tr>\n",
              "  </tbody>\n",
              "</table>\n",
              "</div>\n",
              "      <button class=\"colab-df-convert\" onclick=\"convertToInteractive('df-6c7c111f-05e6-436e-a4f1-d5fefee1aac3')\"\n",
              "              title=\"Convert this dataframe to an interactive table.\"\n",
              "              style=\"display:none;\">\n",
              "        \n",
              "  <svg xmlns=\"http://www.w3.org/2000/svg\" height=\"24px\"viewBox=\"0 0 24 24\"\n",
              "       width=\"24px\">\n",
              "    <path d=\"M0 0h24v24H0V0z\" fill=\"none\"/>\n",
              "    <path d=\"M18.56 5.44l.94 2.06.94-2.06 2.06-.94-2.06-.94-.94-2.06-.94 2.06-2.06.94zm-11 1L8.5 8.5l.94-2.06 2.06-.94-2.06-.94L8.5 2.5l-.94 2.06-2.06.94zm10 10l.94 2.06.94-2.06 2.06-.94-2.06-.94-.94-2.06-.94 2.06-2.06.94z\"/><path d=\"M17.41 7.96l-1.37-1.37c-.4-.4-.92-.59-1.43-.59-.52 0-1.04.2-1.43.59L10.3 9.45l-7.72 7.72c-.78.78-.78 2.05 0 2.83L4 21.41c.39.39.9.59 1.41.59.51 0 1.02-.2 1.41-.59l7.78-7.78 2.81-2.81c.8-.78.8-2.07 0-2.86zM5.41 20L4 18.59l7.72-7.72 1.47 1.35L5.41 20z\"/>\n",
              "  </svg>\n",
              "      </button>\n",
              "      \n",
              "  <style>\n",
              "    .colab-df-container {\n",
              "      display:flex;\n",
              "      flex-wrap:wrap;\n",
              "      gap: 12px;\n",
              "    }\n",
              "\n",
              "    .colab-df-convert {\n",
              "      background-color: #E8F0FE;\n",
              "      border: none;\n",
              "      border-radius: 50%;\n",
              "      cursor: pointer;\n",
              "      display: none;\n",
              "      fill: #1967D2;\n",
              "      height: 32px;\n",
              "      padding: 0 0 0 0;\n",
              "      width: 32px;\n",
              "    }\n",
              "\n",
              "    .colab-df-convert:hover {\n",
              "      background-color: #E2EBFA;\n",
              "      box-shadow: 0px 1px 2px rgba(60, 64, 67, 0.3), 0px 1px 3px 1px rgba(60, 64, 67, 0.15);\n",
              "      fill: #174EA6;\n",
              "    }\n",
              "\n",
              "    [theme=dark] .colab-df-convert {\n",
              "      background-color: #3B4455;\n",
              "      fill: #D2E3FC;\n",
              "    }\n",
              "\n",
              "    [theme=dark] .colab-df-convert:hover {\n",
              "      background-color: #434B5C;\n",
              "      box-shadow: 0px 1px 3px 1px rgba(0, 0, 0, 0.15);\n",
              "      filter: drop-shadow(0px 1px 2px rgba(0, 0, 0, 0.3));\n",
              "      fill: #FFFFFF;\n",
              "    }\n",
              "  </style>\n",
              "\n",
              "      <script>\n",
              "        const buttonEl =\n",
              "          document.querySelector('#df-6c7c111f-05e6-436e-a4f1-d5fefee1aac3 button.colab-df-convert');\n",
              "        buttonEl.style.display =\n",
              "          google.colab.kernel.accessAllowed ? 'block' : 'none';\n",
              "\n",
              "        async function convertToInteractive(key) {\n",
              "          const element = document.querySelector('#df-6c7c111f-05e6-436e-a4f1-d5fefee1aac3');\n",
              "          const dataTable =\n",
              "            await google.colab.kernel.invokeFunction('convertToInteractive',\n",
              "                                                     [key], {});\n",
              "          if (!dataTable) return;\n",
              "\n",
              "          const docLinkHtml = 'Like what you see? Visit the ' +\n",
              "            '<a target=\"_blank\" href=https://colab.research.google.com/notebooks/data_table.ipynb>data table notebook</a>'\n",
              "            + ' to learn more about interactive tables.';\n",
              "          element.innerHTML = '';\n",
              "          dataTable['output_type'] = 'display_data';\n",
              "          await google.colab.output.renderOutput(dataTable, element);\n",
              "          const docLink = document.createElement('div');\n",
              "          docLink.innerHTML = docLinkHtml;\n",
              "          element.appendChild(docLink);\n",
              "        }\n",
              "      </script>\n",
              "    </div>\n",
              "  </div>\n",
              "  "
            ]
          },
          "metadata": {},
          "execution_count": 26
        }
      ]
    },
    {
      "cell_type": "code",
      "source": [
        "test_prophet.head()"
      ],
      "metadata": {
        "colab": {
          "base_uri": "https://localhost:8080/",
          "height": 206
        },
        "id": "As1UBlNtv_gW",
        "outputId": "284ddd4b-72e7-48c0-b564-9a4509d4fd65"
      },
      "execution_count": 27,
      "outputs": [
        {
          "output_type": "execute_result",
          "data": {
            "text/plain": [
              "          ds        y\n",
              "0 2021-01-01  78.1368\n",
              "1 2021-02-01  76.8499\n",
              "2 2021-03-01  73.5377\n",
              "3 2021-04-01  65.2676\n",
              "4 2021-05-01  63.8617"
            ],
            "text/html": [
              "\n",
              "  <div id=\"df-48c9e0da-891a-4d8d-84af-7d7298453923\">\n",
              "    <div class=\"colab-df-container\">\n",
              "      <div>\n",
              "<style scoped>\n",
              "    .dataframe tbody tr th:only-of-type {\n",
              "        vertical-align: middle;\n",
              "    }\n",
              "\n",
              "    .dataframe tbody tr th {\n",
              "        vertical-align: top;\n",
              "    }\n",
              "\n",
              "    .dataframe thead th {\n",
              "        text-align: right;\n",
              "    }\n",
              "</style>\n",
              "<table border=\"1\" class=\"dataframe\">\n",
              "  <thead>\n",
              "    <tr style=\"text-align: right;\">\n",
              "      <th></th>\n",
              "      <th>ds</th>\n",
              "      <th>y</th>\n",
              "    </tr>\n",
              "  </thead>\n",
              "  <tbody>\n",
              "    <tr>\n",
              "      <th>0</th>\n",
              "      <td>2021-01-01</td>\n",
              "      <td>78.1368</td>\n",
              "    </tr>\n",
              "    <tr>\n",
              "      <th>1</th>\n",
              "      <td>2021-02-01</td>\n",
              "      <td>76.8499</td>\n",
              "    </tr>\n",
              "    <tr>\n",
              "      <th>2</th>\n",
              "      <td>2021-03-01</td>\n",
              "      <td>73.5377</td>\n",
              "    </tr>\n",
              "    <tr>\n",
              "      <th>3</th>\n",
              "      <td>2021-04-01</td>\n",
              "      <td>65.2676</td>\n",
              "    </tr>\n",
              "    <tr>\n",
              "      <th>4</th>\n",
              "      <td>2021-05-01</td>\n",
              "      <td>63.8617</td>\n",
              "    </tr>\n",
              "  </tbody>\n",
              "</table>\n",
              "</div>\n",
              "      <button class=\"colab-df-convert\" onclick=\"convertToInteractive('df-48c9e0da-891a-4d8d-84af-7d7298453923')\"\n",
              "              title=\"Convert this dataframe to an interactive table.\"\n",
              "              style=\"display:none;\">\n",
              "        \n",
              "  <svg xmlns=\"http://www.w3.org/2000/svg\" height=\"24px\"viewBox=\"0 0 24 24\"\n",
              "       width=\"24px\">\n",
              "    <path d=\"M0 0h24v24H0V0z\" fill=\"none\"/>\n",
              "    <path d=\"M18.56 5.44l.94 2.06.94-2.06 2.06-.94-2.06-.94-.94-2.06-.94 2.06-2.06.94zm-11 1L8.5 8.5l.94-2.06 2.06-.94-2.06-.94L8.5 2.5l-.94 2.06-2.06.94zm10 10l.94 2.06.94-2.06 2.06-.94-2.06-.94-.94-2.06-.94 2.06-2.06.94z\"/><path d=\"M17.41 7.96l-1.37-1.37c-.4-.4-.92-.59-1.43-.59-.52 0-1.04.2-1.43.59L10.3 9.45l-7.72 7.72c-.78.78-.78 2.05 0 2.83L4 21.41c.39.39.9.59 1.41.59.51 0 1.02-.2 1.41-.59l7.78-7.78 2.81-2.81c.8-.78.8-2.07 0-2.86zM5.41 20L4 18.59l7.72-7.72 1.47 1.35L5.41 20z\"/>\n",
              "  </svg>\n",
              "      </button>\n",
              "      \n",
              "  <style>\n",
              "    .colab-df-container {\n",
              "      display:flex;\n",
              "      flex-wrap:wrap;\n",
              "      gap: 12px;\n",
              "    }\n",
              "\n",
              "    .colab-df-convert {\n",
              "      background-color: #E8F0FE;\n",
              "      border: none;\n",
              "      border-radius: 50%;\n",
              "      cursor: pointer;\n",
              "      display: none;\n",
              "      fill: #1967D2;\n",
              "      height: 32px;\n",
              "      padding: 0 0 0 0;\n",
              "      width: 32px;\n",
              "    }\n",
              "\n",
              "    .colab-df-convert:hover {\n",
              "      background-color: #E2EBFA;\n",
              "      box-shadow: 0px 1px 2px rgba(60, 64, 67, 0.3), 0px 1px 3px 1px rgba(60, 64, 67, 0.15);\n",
              "      fill: #174EA6;\n",
              "    }\n",
              "\n",
              "    [theme=dark] .colab-df-convert {\n",
              "      background-color: #3B4455;\n",
              "      fill: #D2E3FC;\n",
              "    }\n",
              "\n",
              "    [theme=dark] .colab-df-convert:hover {\n",
              "      background-color: #434B5C;\n",
              "      box-shadow: 0px 1px 3px 1px rgba(0, 0, 0, 0.15);\n",
              "      filter: drop-shadow(0px 1px 2px rgba(0, 0, 0, 0.3));\n",
              "      fill: #FFFFFF;\n",
              "    }\n",
              "  </style>\n",
              "\n",
              "      <script>\n",
              "        const buttonEl =\n",
              "          document.querySelector('#df-48c9e0da-891a-4d8d-84af-7d7298453923 button.colab-df-convert');\n",
              "        buttonEl.style.display =\n",
              "          google.colab.kernel.accessAllowed ? 'block' : 'none';\n",
              "\n",
              "        async function convertToInteractive(key) {\n",
              "          const element = document.querySelector('#df-48c9e0da-891a-4d8d-84af-7d7298453923');\n",
              "          const dataTable =\n",
              "            await google.colab.kernel.invokeFunction('convertToInteractive',\n",
              "                                                     [key], {});\n",
              "          if (!dataTable) return;\n",
              "\n",
              "          const docLinkHtml = 'Like what you see? Visit the ' +\n",
              "            '<a target=\"_blank\" href=https://colab.research.google.com/notebooks/data_table.ipynb>data table notebook</a>'\n",
              "            + ' to learn more about interactive tables.';\n",
              "          element.innerHTML = '';\n",
              "          dataTable['output_type'] = 'display_data';\n",
              "          await google.colab.output.renderOutput(dataTable, element);\n",
              "          const docLink = document.createElement('div');\n",
              "          docLink.innerHTML = docLinkHtml;\n",
              "          element.appendChild(docLink);\n",
              "        }\n",
              "      </script>\n",
              "    </div>\n",
              "  </div>\n",
              "  "
            ]
          },
          "metadata": {},
          "execution_count": 27
        }
      ]
    },
    {
      "cell_type": "code",
      "source": [
        "model = Prophet()\n",
        "model.fit(train_prophet) # подогнали модель под наши данные"
      ],
      "metadata": {
        "colab": {
          "base_uri": "https://localhost:8080/"
        },
        "id": "Eo_poX6MUEA8",
        "outputId": "032c1064-cc40-426a-ce5c-7e7bea780b36"
      },
      "execution_count": 28,
      "outputs": [
        {
          "output_type": "stream",
          "name": "stderr",
          "text": [
            "INFO:fbprophet:Disabling weekly seasonality. Run prophet with weekly_seasonality=True to override this.\n",
            "INFO:fbprophet:Disabling daily seasonality. Run prophet with daily_seasonality=True to override this.\n"
          ]
        },
        {
          "output_type": "execute_result",
          "data": {
            "text/plain": [
              "<fbprophet.forecaster.Prophet at 0x7f4e9cf78b10>"
            ]
          },
          "metadata": {},
          "execution_count": 28
        }
      ]
    },
    {
      "cell_type": "markdown",
      "source": [
        "Промежуточные выводы:\n",
        "Как видим, алгоритм сам нам подсказывает, что он проигнорировал, выбирая параметры.\n",
        "\n",
        "Disabling weekly seasonality. Run prophet with weekly_seasonality=True to override this.\n",
        "\n",
        "- недельную сезонность (для недельной сезонности нам нужно иметь данные минимум за месяц, чтобы суметь использовать ее в модели)\n",
        "INFO:fbprophet:Disabling daily seasonality. Run prophet with daily_seasonality=True to override this.\n",
        "\n",
        "- дневную сезонность (дневная сезонность может использоваться в случае, если данные собираются по часам/минутам, в нашем случае данные представлены по месяцам).\n",
        "\n",
        "Зато он обнаружил годовую сезонность и использовал его при настройке модели."
      ],
      "metadata": {
        "id": "RCRfvIL5Uoot"
      }
    },
    {
      "cell_type": "code",
      "source": [
        "future = model.make_future_dataframe(periods=12, freq='MS') # говорим профету сделать дата-фрейм на 12 месяцев\n",
        "future.tail(12) # выводим 12 строк с конца"
      ],
      "metadata": {
        "colab": {
          "base_uri": "https://localhost:8080/",
          "height": 426
        },
        "id": "2XaLiOSBU-GZ",
        "outputId": "0347352f-8fd0-4ded-b6d2-2757cb514fdc"
      },
      "execution_count": 29,
      "outputs": [
        {
          "output_type": "execute_result",
          "data": {
            "text/plain": [
              "           ds\n",
              "72 2021-01-01\n",
              "73 2021-02-01\n",
              "74 2021-03-01\n",
              "75 2021-04-01\n",
              "76 2021-05-01\n",
              "77 2021-06-01\n",
              "78 2021-07-01\n",
              "79 2021-08-01\n",
              "80 2021-09-01\n",
              "81 2021-10-01\n",
              "82 2021-11-01\n",
              "83 2021-12-01"
            ],
            "text/html": [
              "\n",
              "  <div id=\"df-37b74c90-2b06-42a1-ac08-a03926f5e044\">\n",
              "    <div class=\"colab-df-container\">\n",
              "      <div>\n",
              "<style scoped>\n",
              "    .dataframe tbody tr th:only-of-type {\n",
              "        vertical-align: middle;\n",
              "    }\n",
              "\n",
              "    .dataframe tbody tr th {\n",
              "        vertical-align: top;\n",
              "    }\n",
              "\n",
              "    .dataframe thead th {\n",
              "        text-align: right;\n",
              "    }\n",
              "</style>\n",
              "<table border=\"1\" class=\"dataframe\">\n",
              "  <thead>\n",
              "    <tr style=\"text-align: right;\">\n",
              "      <th></th>\n",
              "      <th>ds</th>\n",
              "    </tr>\n",
              "  </thead>\n",
              "  <tbody>\n",
              "    <tr>\n",
              "      <th>72</th>\n",
              "      <td>2021-01-01</td>\n",
              "    </tr>\n",
              "    <tr>\n",
              "      <th>73</th>\n",
              "      <td>2021-02-01</td>\n",
              "    </tr>\n",
              "    <tr>\n",
              "      <th>74</th>\n",
              "      <td>2021-03-01</td>\n",
              "    </tr>\n",
              "    <tr>\n",
              "      <th>75</th>\n",
              "      <td>2021-04-01</td>\n",
              "    </tr>\n",
              "    <tr>\n",
              "      <th>76</th>\n",
              "      <td>2021-05-01</td>\n",
              "    </tr>\n",
              "    <tr>\n",
              "      <th>77</th>\n",
              "      <td>2021-06-01</td>\n",
              "    </tr>\n",
              "    <tr>\n",
              "      <th>78</th>\n",
              "      <td>2021-07-01</td>\n",
              "    </tr>\n",
              "    <tr>\n",
              "      <th>79</th>\n",
              "      <td>2021-08-01</td>\n",
              "    </tr>\n",
              "    <tr>\n",
              "      <th>80</th>\n",
              "      <td>2021-09-01</td>\n",
              "    </tr>\n",
              "    <tr>\n",
              "      <th>81</th>\n",
              "      <td>2021-10-01</td>\n",
              "    </tr>\n",
              "    <tr>\n",
              "      <th>82</th>\n",
              "      <td>2021-11-01</td>\n",
              "    </tr>\n",
              "    <tr>\n",
              "      <th>83</th>\n",
              "      <td>2021-12-01</td>\n",
              "    </tr>\n",
              "  </tbody>\n",
              "</table>\n",
              "</div>\n",
              "      <button class=\"colab-df-convert\" onclick=\"convertToInteractive('df-37b74c90-2b06-42a1-ac08-a03926f5e044')\"\n",
              "              title=\"Convert this dataframe to an interactive table.\"\n",
              "              style=\"display:none;\">\n",
              "        \n",
              "  <svg xmlns=\"http://www.w3.org/2000/svg\" height=\"24px\"viewBox=\"0 0 24 24\"\n",
              "       width=\"24px\">\n",
              "    <path d=\"M0 0h24v24H0V0z\" fill=\"none\"/>\n",
              "    <path d=\"M18.56 5.44l.94 2.06.94-2.06 2.06-.94-2.06-.94-.94-2.06-.94 2.06-2.06.94zm-11 1L8.5 8.5l.94-2.06 2.06-.94-2.06-.94L8.5 2.5l-.94 2.06-2.06.94zm10 10l.94 2.06.94-2.06 2.06-.94-2.06-.94-.94-2.06-.94 2.06-2.06.94z\"/><path d=\"M17.41 7.96l-1.37-1.37c-.4-.4-.92-.59-1.43-.59-.52 0-1.04.2-1.43.59L10.3 9.45l-7.72 7.72c-.78.78-.78 2.05 0 2.83L4 21.41c.39.39.9.59 1.41.59.51 0 1.02-.2 1.41-.59l7.78-7.78 2.81-2.81c.8-.78.8-2.07 0-2.86zM5.41 20L4 18.59l7.72-7.72 1.47 1.35L5.41 20z\"/>\n",
              "  </svg>\n",
              "      </button>\n",
              "      \n",
              "  <style>\n",
              "    .colab-df-container {\n",
              "      display:flex;\n",
              "      flex-wrap:wrap;\n",
              "      gap: 12px;\n",
              "    }\n",
              "\n",
              "    .colab-df-convert {\n",
              "      background-color: #E8F0FE;\n",
              "      border: none;\n",
              "      border-radius: 50%;\n",
              "      cursor: pointer;\n",
              "      display: none;\n",
              "      fill: #1967D2;\n",
              "      height: 32px;\n",
              "      padding: 0 0 0 0;\n",
              "      width: 32px;\n",
              "    }\n",
              "\n",
              "    .colab-df-convert:hover {\n",
              "      background-color: #E2EBFA;\n",
              "      box-shadow: 0px 1px 2px rgba(60, 64, 67, 0.3), 0px 1px 3px 1px rgba(60, 64, 67, 0.15);\n",
              "      fill: #174EA6;\n",
              "    }\n",
              "\n",
              "    [theme=dark] .colab-df-convert {\n",
              "      background-color: #3B4455;\n",
              "      fill: #D2E3FC;\n",
              "    }\n",
              "\n",
              "    [theme=dark] .colab-df-convert:hover {\n",
              "      background-color: #434B5C;\n",
              "      box-shadow: 0px 1px 3px 1px rgba(0, 0, 0, 0.15);\n",
              "      filter: drop-shadow(0px 1px 2px rgba(0, 0, 0, 0.3));\n",
              "      fill: #FFFFFF;\n",
              "    }\n",
              "  </style>\n",
              "\n",
              "      <script>\n",
              "        const buttonEl =\n",
              "          document.querySelector('#df-37b74c90-2b06-42a1-ac08-a03926f5e044 button.colab-df-convert');\n",
              "        buttonEl.style.display =\n",
              "          google.colab.kernel.accessAllowed ? 'block' : 'none';\n",
              "\n",
              "        async function convertToInteractive(key) {\n",
              "          const element = document.querySelector('#df-37b74c90-2b06-42a1-ac08-a03926f5e044');\n",
              "          const dataTable =\n",
              "            await google.colab.kernel.invokeFunction('convertToInteractive',\n",
              "                                                     [key], {});\n",
              "          if (!dataTable) return;\n",
              "\n",
              "          const docLinkHtml = 'Like what you see? Visit the ' +\n",
              "            '<a target=\"_blank\" href=https://colab.research.google.com/notebooks/data_table.ipynb>data table notebook</a>'\n",
              "            + ' to learn more about interactive tables.';\n",
              "          element.innerHTML = '';\n",
              "          dataTable['output_type'] = 'display_data';\n",
              "          await google.colab.output.renderOutput(dataTable, element);\n",
              "          const docLink = document.createElement('div');\n",
              "          docLink.innerHTML = docLinkHtml;\n",
              "          element.appendChild(docLink);\n",
              "        }\n",
              "      </script>\n",
              "    </div>\n",
              "  </div>\n",
              "  "
            ]
          },
          "metadata": {},
          "execution_count": 29
        }
      ]
    },
    {
      "cell_type": "code",
      "source": [
        "# предсказываем значения по модели, доверительный интервал по умолчанию 95%\n",
        "forecast = model.predict(future)\n",
        "forecast.head() # возвращает много колонок"
      ],
      "metadata": {
        "colab": {
          "base_uri": "https://localhost:8080/",
          "height": 357
        },
        "id": "0RaC0IXfVMxo",
        "outputId": "95d2ae62-5442-4b40-d17c-6d0c43517ea8"
      },
      "execution_count": 30,
      "outputs": [
        {
          "output_type": "execute_result",
          "data": {
            "text/plain": [
              "          ds      trend  yhat_lower  yhat_upper  trend_lower  trend_upper  \\\n",
              "0 2015-01-01  51.373350   63.372913   68.369721    51.373350    51.373350   \n",
              "1 2015-02-01  51.712037   58.545343   63.251954    51.712037    51.712037   \n",
              "2 2015-03-01  52.017948   52.949839   57.860193    52.017948    52.017948   \n",
              "3 2015-04-01  52.356635   48.446405   53.211530    52.356635    52.356635   \n",
              "4 2015-05-01  52.684397   46.164836   51.282605    52.684397    52.684397   \n",
              "\n",
              "   additive_terms  additive_terms_lower  additive_terms_upper     yearly  \\\n",
              "0       14.519475             14.519475             14.519475  14.519475   \n",
              "1        9.311873              9.311873              9.311873   9.311873   \n",
              "2        3.410455              3.410455              3.410455   3.410455   \n",
              "3       -1.570318             -1.570318             -1.570318  -1.570318   \n",
              "4       -3.874564             -3.874564             -3.874564  -3.874564   \n",
              "\n",
              "   yearly_lower  yearly_upper  multiplicative_terms  \\\n",
              "0     14.519475     14.519475                   0.0   \n",
              "1      9.311873      9.311873                   0.0   \n",
              "2      3.410455      3.410455                   0.0   \n",
              "3     -1.570318     -1.570318                   0.0   \n",
              "4     -3.874564     -3.874564                   0.0   \n",
              "\n",
              "   multiplicative_terms_lower  multiplicative_terms_upper       yhat  \n",
              "0                         0.0                         0.0  65.892825  \n",
              "1                         0.0                         0.0  61.023910  \n",
              "2                         0.0                         0.0  55.428404  \n",
              "3                         0.0                         0.0  50.786317  \n",
              "4                         0.0                         0.0  48.809833  "
            ],
            "text/html": [
              "\n",
              "  <div id=\"df-79e529f1-672f-44c3-878d-2a9e53acab76\">\n",
              "    <div class=\"colab-df-container\">\n",
              "      <div>\n",
              "<style scoped>\n",
              "    .dataframe tbody tr th:only-of-type {\n",
              "        vertical-align: middle;\n",
              "    }\n",
              "\n",
              "    .dataframe tbody tr th {\n",
              "        vertical-align: top;\n",
              "    }\n",
              "\n",
              "    .dataframe thead th {\n",
              "        text-align: right;\n",
              "    }\n",
              "</style>\n",
              "<table border=\"1\" class=\"dataframe\">\n",
              "  <thead>\n",
              "    <tr style=\"text-align: right;\">\n",
              "      <th></th>\n",
              "      <th>ds</th>\n",
              "      <th>trend</th>\n",
              "      <th>yhat_lower</th>\n",
              "      <th>yhat_upper</th>\n",
              "      <th>trend_lower</th>\n",
              "      <th>trend_upper</th>\n",
              "      <th>additive_terms</th>\n",
              "      <th>additive_terms_lower</th>\n",
              "      <th>additive_terms_upper</th>\n",
              "      <th>yearly</th>\n",
              "      <th>yearly_lower</th>\n",
              "      <th>yearly_upper</th>\n",
              "      <th>multiplicative_terms</th>\n",
              "      <th>multiplicative_terms_lower</th>\n",
              "      <th>multiplicative_terms_upper</th>\n",
              "      <th>yhat</th>\n",
              "    </tr>\n",
              "  </thead>\n",
              "  <tbody>\n",
              "    <tr>\n",
              "      <th>0</th>\n",
              "      <td>2015-01-01</td>\n",
              "      <td>51.373350</td>\n",
              "      <td>63.372913</td>\n",
              "      <td>68.369721</td>\n",
              "      <td>51.373350</td>\n",
              "      <td>51.373350</td>\n",
              "      <td>14.519475</td>\n",
              "      <td>14.519475</td>\n",
              "      <td>14.519475</td>\n",
              "      <td>14.519475</td>\n",
              "      <td>14.519475</td>\n",
              "      <td>14.519475</td>\n",
              "      <td>0.0</td>\n",
              "      <td>0.0</td>\n",
              "      <td>0.0</td>\n",
              "      <td>65.892825</td>\n",
              "    </tr>\n",
              "    <tr>\n",
              "      <th>1</th>\n",
              "      <td>2015-02-01</td>\n",
              "      <td>51.712037</td>\n",
              "      <td>58.545343</td>\n",
              "      <td>63.251954</td>\n",
              "      <td>51.712037</td>\n",
              "      <td>51.712037</td>\n",
              "      <td>9.311873</td>\n",
              "      <td>9.311873</td>\n",
              "      <td>9.311873</td>\n",
              "      <td>9.311873</td>\n",
              "      <td>9.311873</td>\n",
              "      <td>9.311873</td>\n",
              "      <td>0.0</td>\n",
              "      <td>0.0</td>\n",
              "      <td>0.0</td>\n",
              "      <td>61.023910</td>\n",
              "    </tr>\n",
              "    <tr>\n",
              "      <th>2</th>\n",
              "      <td>2015-03-01</td>\n",
              "      <td>52.017948</td>\n",
              "      <td>52.949839</td>\n",
              "      <td>57.860193</td>\n",
              "      <td>52.017948</td>\n",
              "      <td>52.017948</td>\n",
              "      <td>3.410455</td>\n",
              "      <td>3.410455</td>\n",
              "      <td>3.410455</td>\n",
              "      <td>3.410455</td>\n",
              "      <td>3.410455</td>\n",
              "      <td>3.410455</td>\n",
              "      <td>0.0</td>\n",
              "      <td>0.0</td>\n",
              "      <td>0.0</td>\n",
              "      <td>55.428404</td>\n",
              "    </tr>\n",
              "    <tr>\n",
              "      <th>3</th>\n",
              "      <td>2015-04-01</td>\n",
              "      <td>52.356635</td>\n",
              "      <td>48.446405</td>\n",
              "      <td>53.211530</td>\n",
              "      <td>52.356635</td>\n",
              "      <td>52.356635</td>\n",
              "      <td>-1.570318</td>\n",
              "      <td>-1.570318</td>\n",
              "      <td>-1.570318</td>\n",
              "      <td>-1.570318</td>\n",
              "      <td>-1.570318</td>\n",
              "      <td>-1.570318</td>\n",
              "      <td>0.0</td>\n",
              "      <td>0.0</td>\n",
              "      <td>0.0</td>\n",
              "      <td>50.786317</td>\n",
              "    </tr>\n",
              "    <tr>\n",
              "      <th>4</th>\n",
              "      <td>2015-05-01</td>\n",
              "      <td>52.684397</td>\n",
              "      <td>46.164836</td>\n",
              "      <td>51.282605</td>\n",
              "      <td>52.684397</td>\n",
              "      <td>52.684397</td>\n",
              "      <td>-3.874564</td>\n",
              "      <td>-3.874564</td>\n",
              "      <td>-3.874564</td>\n",
              "      <td>-3.874564</td>\n",
              "      <td>-3.874564</td>\n",
              "      <td>-3.874564</td>\n",
              "      <td>0.0</td>\n",
              "      <td>0.0</td>\n",
              "      <td>0.0</td>\n",
              "      <td>48.809833</td>\n",
              "    </tr>\n",
              "  </tbody>\n",
              "</table>\n",
              "</div>\n",
              "      <button class=\"colab-df-convert\" onclick=\"convertToInteractive('df-79e529f1-672f-44c3-878d-2a9e53acab76')\"\n",
              "              title=\"Convert this dataframe to an interactive table.\"\n",
              "              style=\"display:none;\">\n",
              "        \n",
              "  <svg xmlns=\"http://www.w3.org/2000/svg\" height=\"24px\"viewBox=\"0 0 24 24\"\n",
              "       width=\"24px\">\n",
              "    <path d=\"M0 0h24v24H0V0z\" fill=\"none\"/>\n",
              "    <path d=\"M18.56 5.44l.94 2.06.94-2.06 2.06-.94-2.06-.94-.94-2.06-.94 2.06-2.06.94zm-11 1L8.5 8.5l.94-2.06 2.06-.94-2.06-.94L8.5 2.5l-.94 2.06-2.06.94zm10 10l.94 2.06.94-2.06 2.06-.94-2.06-.94-.94-2.06-.94 2.06-2.06.94z\"/><path d=\"M17.41 7.96l-1.37-1.37c-.4-.4-.92-.59-1.43-.59-.52 0-1.04.2-1.43.59L10.3 9.45l-7.72 7.72c-.78.78-.78 2.05 0 2.83L4 21.41c.39.39.9.59 1.41.59.51 0 1.02-.2 1.41-.59l7.78-7.78 2.81-2.81c.8-.78.8-2.07 0-2.86zM5.41 20L4 18.59l7.72-7.72 1.47 1.35L5.41 20z\"/>\n",
              "  </svg>\n",
              "      </button>\n",
              "      \n",
              "  <style>\n",
              "    .colab-df-container {\n",
              "      display:flex;\n",
              "      flex-wrap:wrap;\n",
              "      gap: 12px;\n",
              "    }\n",
              "\n",
              "    .colab-df-convert {\n",
              "      background-color: #E8F0FE;\n",
              "      border: none;\n",
              "      border-radius: 50%;\n",
              "      cursor: pointer;\n",
              "      display: none;\n",
              "      fill: #1967D2;\n",
              "      height: 32px;\n",
              "      padding: 0 0 0 0;\n",
              "      width: 32px;\n",
              "    }\n",
              "\n",
              "    .colab-df-convert:hover {\n",
              "      background-color: #E2EBFA;\n",
              "      box-shadow: 0px 1px 2px rgba(60, 64, 67, 0.3), 0px 1px 3px 1px rgba(60, 64, 67, 0.15);\n",
              "      fill: #174EA6;\n",
              "    }\n",
              "\n",
              "    [theme=dark] .colab-df-convert {\n",
              "      background-color: #3B4455;\n",
              "      fill: #D2E3FC;\n",
              "    }\n",
              "\n",
              "    [theme=dark] .colab-df-convert:hover {\n",
              "      background-color: #434B5C;\n",
              "      box-shadow: 0px 1px 3px 1px rgba(0, 0, 0, 0.15);\n",
              "      filter: drop-shadow(0px 1px 2px rgba(0, 0, 0, 0.3));\n",
              "      fill: #FFFFFF;\n",
              "    }\n",
              "  </style>\n",
              "\n",
              "      <script>\n",
              "        const buttonEl =\n",
              "          document.querySelector('#df-79e529f1-672f-44c3-878d-2a9e53acab76 button.colab-df-convert');\n",
              "        buttonEl.style.display =\n",
              "          google.colab.kernel.accessAllowed ? 'block' : 'none';\n",
              "\n",
              "        async function convertToInteractive(key) {\n",
              "          const element = document.querySelector('#df-79e529f1-672f-44c3-878d-2a9e53acab76');\n",
              "          const dataTable =\n",
              "            await google.colab.kernel.invokeFunction('convertToInteractive',\n",
              "                                                     [key], {});\n",
              "          if (!dataTable) return;\n",
              "\n",
              "          const docLinkHtml = 'Like what you see? Visit the ' +\n",
              "            '<a target=\"_blank\" href=https://colab.research.google.com/notebooks/data_table.ipynb>data table notebook</a>'\n",
              "            + ' to learn more about interactive tables.';\n",
              "          element.innerHTML = '';\n",
              "          dataTable['output_type'] = 'display_data';\n",
              "          await google.colab.output.renderOutput(dataTable, element);\n",
              "          const docLink = document.createElement('div');\n",
              "          docLink.innerHTML = docLinkHtml;\n",
              "          element.appendChild(docLink);\n",
              "        }\n",
              "      </script>\n",
              "    </div>\n",
              "  </div>\n",
              "  "
            ]
          },
          "metadata": {},
          "execution_count": 30
        }
      ]
    },
    {
      "cell_type": "markdown",
      "source": [
        "Основные поля в прогнозе следующие:\n",
        "\n",
        "- ds — дата прогноза\n",
        "\n",
        "- yhat — спрогнозированное значение\n",
        "\n",
        "- yhat_lower — нижняя граница доверительного интервала для прогноза\n",
        "\n",
        "- yhat_upper — верхняя граница доверительного интервала для прогноза"
      ],
      "metadata": {
        "id": "vHggMI2TVd6Y"
      }
    },
    {
      "cell_type": "code",
      "source": [
        "forecast[['ds', 'yhat', 'yhat_lower', 'yhat_upper']].tail(12) # оставим только нужные"
      ],
      "metadata": {
        "colab": {
          "base_uri": "https://localhost:8080/",
          "height": 426
        },
        "id": "gCm9ybEhVh_9",
        "outputId": "b1b10362-e952-46af-99d0-e0a926a6a7e1"
      },
      "execution_count": 31,
      "outputs": [
        {
          "output_type": "execute_result",
          "data": {
            "text/plain": [
              "           ds       yhat  yhat_lower  yhat_upper\n",
              "72 2021-01-01  83.240204   80.696701   85.886900\n",
              "73 2021-02-01  80.922010   78.425336   83.355616\n",
              "74 2021-03-01  75.684833   73.102803   78.124296\n",
              "75 2021-04-01  70.005214   67.460206   72.214487\n",
              "76 2021-05-01  67.948115   65.381187   70.245018\n",
              "77 2021-06-01  68.148552   65.830848   70.590712\n",
              "78 2021-07-01  67.079790   64.649881   69.524789\n",
              "79 2021-08-01  66.520758   63.949401   68.984613\n",
              "80 2021-09-01  68.280853   65.567415   70.809535\n",
              "81 2021-10-01  69.832416   67.373516   72.247946\n",
              "82 2021-11-01  71.737403   69.277382   74.164838\n",
              "83 2021-12-01  80.435742   77.973533   82.834810"
            ],
            "text/html": [
              "\n",
              "  <div id=\"df-32b9bd2f-0a74-462d-bacd-783d48ca0ba8\">\n",
              "    <div class=\"colab-df-container\">\n",
              "      <div>\n",
              "<style scoped>\n",
              "    .dataframe tbody tr th:only-of-type {\n",
              "        vertical-align: middle;\n",
              "    }\n",
              "\n",
              "    .dataframe tbody tr th {\n",
              "        vertical-align: top;\n",
              "    }\n",
              "\n",
              "    .dataframe thead th {\n",
              "        text-align: right;\n",
              "    }\n",
              "</style>\n",
              "<table border=\"1\" class=\"dataframe\">\n",
              "  <thead>\n",
              "    <tr style=\"text-align: right;\">\n",
              "      <th></th>\n",
              "      <th>ds</th>\n",
              "      <th>yhat</th>\n",
              "      <th>yhat_lower</th>\n",
              "      <th>yhat_upper</th>\n",
              "    </tr>\n",
              "  </thead>\n",
              "  <tbody>\n",
              "    <tr>\n",
              "      <th>72</th>\n",
              "      <td>2021-01-01</td>\n",
              "      <td>83.240204</td>\n",
              "      <td>80.696701</td>\n",
              "      <td>85.886900</td>\n",
              "    </tr>\n",
              "    <tr>\n",
              "      <th>73</th>\n",
              "      <td>2021-02-01</td>\n",
              "      <td>80.922010</td>\n",
              "      <td>78.425336</td>\n",
              "      <td>83.355616</td>\n",
              "    </tr>\n",
              "    <tr>\n",
              "      <th>74</th>\n",
              "      <td>2021-03-01</td>\n",
              "      <td>75.684833</td>\n",
              "      <td>73.102803</td>\n",
              "      <td>78.124296</td>\n",
              "    </tr>\n",
              "    <tr>\n",
              "      <th>75</th>\n",
              "      <td>2021-04-01</td>\n",
              "      <td>70.005214</td>\n",
              "      <td>67.460206</td>\n",
              "      <td>72.214487</td>\n",
              "    </tr>\n",
              "    <tr>\n",
              "      <th>76</th>\n",
              "      <td>2021-05-01</td>\n",
              "      <td>67.948115</td>\n",
              "      <td>65.381187</td>\n",
              "      <td>70.245018</td>\n",
              "    </tr>\n",
              "    <tr>\n",
              "      <th>77</th>\n",
              "      <td>2021-06-01</td>\n",
              "      <td>68.148552</td>\n",
              "      <td>65.830848</td>\n",
              "      <td>70.590712</td>\n",
              "    </tr>\n",
              "    <tr>\n",
              "      <th>78</th>\n",
              "      <td>2021-07-01</td>\n",
              "      <td>67.079790</td>\n",
              "      <td>64.649881</td>\n",
              "      <td>69.524789</td>\n",
              "    </tr>\n",
              "    <tr>\n",
              "      <th>79</th>\n",
              "      <td>2021-08-01</td>\n",
              "      <td>66.520758</td>\n",
              "      <td>63.949401</td>\n",
              "      <td>68.984613</td>\n",
              "    </tr>\n",
              "    <tr>\n",
              "      <th>80</th>\n",
              "      <td>2021-09-01</td>\n",
              "      <td>68.280853</td>\n",
              "      <td>65.567415</td>\n",
              "      <td>70.809535</td>\n",
              "    </tr>\n",
              "    <tr>\n",
              "      <th>81</th>\n",
              "      <td>2021-10-01</td>\n",
              "      <td>69.832416</td>\n",
              "      <td>67.373516</td>\n",
              "      <td>72.247946</td>\n",
              "    </tr>\n",
              "    <tr>\n",
              "      <th>82</th>\n",
              "      <td>2021-11-01</td>\n",
              "      <td>71.737403</td>\n",
              "      <td>69.277382</td>\n",
              "      <td>74.164838</td>\n",
              "    </tr>\n",
              "    <tr>\n",
              "      <th>83</th>\n",
              "      <td>2021-12-01</td>\n",
              "      <td>80.435742</td>\n",
              "      <td>77.973533</td>\n",
              "      <td>82.834810</td>\n",
              "    </tr>\n",
              "  </tbody>\n",
              "</table>\n",
              "</div>\n",
              "      <button class=\"colab-df-convert\" onclick=\"convertToInteractive('df-32b9bd2f-0a74-462d-bacd-783d48ca0ba8')\"\n",
              "              title=\"Convert this dataframe to an interactive table.\"\n",
              "              style=\"display:none;\">\n",
              "        \n",
              "  <svg xmlns=\"http://www.w3.org/2000/svg\" height=\"24px\"viewBox=\"0 0 24 24\"\n",
              "       width=\"24px\">\n",
              "    <path d=\"M0 0h24v24H0V0z\" fill=\"none\"/>\n",
              "    <path d=\"M18.56 5.44l.94 2.06.94-2.06 2.06-.94-2.06-.94-.94-2.06-.94 2.06-2.06.94zm-11 1L8.5 8.5l.94-2.06 2.06-.94-2.06-.94L8.5 2.5l-.94 2.06-2.06.94zm10 10l.94 2.06.94-2.06 2.06-.94-2.06-.94-.94-2.06-.94 2.06-2.06.94z\"/><path d=\"M17.41 7.96l-1.37-1.37c-.4-.4-.92-.59-1.43-.59-.52 0-1.04.2-1.43.59L10.3 9.45l-7.72 7.72c-.78.78-.78 2.05 0 2.83L4 21.41c.39.39.9.59 1.41.59.51 0 1.02-.2 1.41-.59l7.78-7.78 2.81-2.81c.8-.78.8-2.07 0-2.86zM5.41 20L4 18.59l7.72-7.72 1.47 1.35L5.41 20z\"/>\n",
              "  </svg>\n",
              "      </button>\n",
              "      \n",
              "  <style>\n",
              "    .colab-df-container {\n",
              "      display:flex;\n",
              "      flex-wrap:wrap;\n",
              "      gap: 12px;\n",
              "    }\n",
              "\n",
              "    .colab-df-convert {\n",
              "      background-color: #E8F0FE;\n",
              "      border: none;\n",
              "      border-radius: 50%;\n",
              "      cursor: pointer;\n",
              "      display: none;\n",
              "      fill: #1967D2;\n",
              "      height: 32px;\n",
              "      padding: 0 0 0 0;\n",
              "      width: 32px;\n",
              "    }\n",
              "\n",
              "    .colab-df-convert:hover {\n",
              "      background-color: #E2EBFA;\n",
              "      box-shadow: 0px 1px 2px rgba(60, 64, 67, 0.3), 0px 1px 3px 1px rgba(60, 64, 67, 0.15);\n",
              "      fill: #174EA6;\n",
              "    }\n",
              "\n",
              "    [theme=dark] .colab-df-convert {\n",
              "      background-color: #3B4455;\n",
              "      fill: #D2E3FC;\n",
              "    }\n",
              "\n",
              "    [theme=dark] .colab-df-convert:hover {\n",
              "      background-color: #434B5C;\n",
              "      box-shadow: 0px 1px 3px 1px rgba(0, 0, 0, 0.15);\n",
              "      filter: drop-shadow(0px 1px 2px rgba(0, 0, 0, 0.3));\n",
              "      fill: #FFFFFF;\n",
              "    }\n",
              "  </style>\n",
              "\n",
              "      <script>\n",
              "        const buttonEl =\n",
              "          document.querySelector('#df-32b9bd2f-0a74-462d-bacd-783d48ca0ba8 button.colab-df-convert');\n",
              "        buttonEl.style.display =\n",
              "          google.colab.kernel.accessAllowed ? 'block' : 'none';\n",
              "\n",
              "        async function convertToInteractive(key) {\n",
              "          const element = document.querySelector('#df-32b9bd2f-0a74-462d-bacd-783d48ca0ba8');\n",
              "          const dataTable =\n",
              "            await google.colab.kernel.invokeFunction('convertToInteractive',\n",
              "                                                     [key], {});\n",
              "          if (!dataTable) return;\n",
              "\n",
              "          const docLinkHtml = 'Like what you see? Visit the ' +\n",
              "            '<a target=\"_blank\" href=https://colab.research.google.com/notebooks/data_table.ipynb>data table notebook</a>'\n",
              "            + ' to learn more about interactive tables.';\n",
              "          element.innerHTML = '';\n",
              "          dataTable['output_type'] = 'display_data';\n",
              "          await google.colab.output.renderOutput(dataTable, element);\n",
              "          const docLink = document.createElement('div');\n",
              "          docLink.innerHTML = docLinkHtml;\n",
              "          element.appendChild(docLink);\n",
              "        }\n",
              "      </script>\n",
              "    </div>\n",
              "  </div>\n",
              "  "
            ]
          },
          "metadata": {},
          "execution_count": 31
        }
      ]
    },
    {
      "cell_type": "markdown",
      "source": [
        "Также с помощью метода .plot() прогноз можно построить на графике и посмотреть визуально его адекватность.\n",
        "\n",
        "Черные точки — наши данные."
      ],
      "metadata": {
        "id": "COFYjO0MV0bN"
      }
    },
    {
      "cell_type": "code",
      "source": [
        "model.plot(forecast);"
      ],
      "metadata": {
        "colab": {
          "base_uri": "https://localhost:8080/",
          "height": 441
        },
        "id": "YFOavHeXVyEs",
        "outputId": "9c636086-0c64-4346-8f6f-860df635bb43"
      },
      "execution_count": 32,
      "outputs": [
        {
          "output_type": "display_data",
          "data": {
            "text/plain": [
              "<Figure size 720x432 with 1 Axes>"
            ],
            "image/png": "[encoded data removed]"
          },
          "metadata": {}
        }
      ]
    },
    {
      "cell_type": "markdown",
      "source": [
        "Кроме того, Prophet позволяет также наглядно разложить ряд на основные компоненты — тренд и сезонность:\n",
        "\n",
        "plot_components() — возвращает несколько графиков, среди которых тренд и столько сезонностей, сколько он найдет."
      ],
      "metadata": {
        "id": "syazFIFlV_jc"
      }
    },
    {
      "cell_type": "code",
      "source": [
        "model.plot_components(forecast);"
      ],
      "metadata": {
        "colab": {
          "base_uri": "https://localhost:8080/",
          "height": 441
        },
        "id": "YotSkoh_WAcA",
        "outputId": "462c0827-3218-493e-ce22-c1634227923c"
      },
      "execution_count": 33,
      "outputs": [
        {
          "output_type": "display_data",
          "data": {
            "text/plain": [
              "<Figure size 648x432 with 2 Axes>"
            ],
            "image/png": "[encoded data removed]"
          },
          "metadata": {}
        }
      ]
    },
    {
      "cell_type": "markdown",
      "source": [
        "Промежуточные выводы:\n",
        "Видим, что тренд потребления электроэнергии возрастающий и у нас есть годовая сезонность. Видим каким образом изменяется потребление по месяцам."
      ],
      "metadata": {
        "id": "zTo-yY3-WH3P"
      }
    },
    {
      "cell_type": "code",
      "source": [
        "#оцениваем качество модели методом MSE, RMSE, MAE, MAPE\n",
        "\n",
        "mae_error = mean_absolute_error(test_prophet['y'], forecast['yhat'].tail(12))\n",
        "mse_error = mean_squared_error(test_prophet['y'], forecast['yhat'].tail(12))\n",
        "rmse_error = rmse(test_prophet['y'], forecast['yhat'].tail(12))\n",
        "mape_error = np.mean(np.abs(forecast['yhat'] - test_prophet['y'])/test_prophet['y'])*100\n",
        "\n",
        "print(f'Prophet MAE Error: {mae_error:11.10}')\n",
        "print(f'Prophet MSE Error: {mse_error:11.10}')\n",
        "print(f'Prophet RMSE Error: {rmse_error:11.10}')\n",
        "print(f'Prophet MAPE Error: {mape_error:11.10}')"
      ],
      "metadata": {
        "colab": {
          "base_uri": "https://localhost:8080/"
        },
        "id": "HZgHIUkUWme2",
        "outputId": "f3c8d38b-21a3-4a1d-fe83-40c92a3a8a23"
      },
      "execution_count": 34,
      "outputs": [
        {
          "output_type": "stream",
          "name": "stdout",
          "text": [
            "Prophet MAE Error: 3.642359006\n",
            "Prophet MSE Error: 14.07615716\n",
            "Prophet RMSE Error: 3.751820512\n",
            "Prophet MAPE Error: 23.45530511\n"
          ]
        }
      ]
    },
    {
      "cell_type": "code",
      "source": [
        "# делаем прогноз на будущее - 1 год вперед\n",
        "\n",
        "# обучаем модель на всем датасете\n",
        "fut_model_prophet = Prophet(seasonality_mode='additive')\n",
        "fut_model_prophet.fit(df_new_prophet)\n",
        "\n",
        "# говорим профету сделать дата-фрейм на 1 год вперед\n",
        "fut_future_prophet = fut_model_prophet.make_future_dataframe(periods=12)\n",
        "fut_fcast_prophet = fut_model_prophet.predict(fut_future_prophet)"
      ],
      "metadata": {
        "colab": {
          "base_uri": "https://localhost:8080/"
        },
        "id": "ukToYloifBp2",
        "outputId": "ae1f096e-43ed-4eaa-9d53-4b0587242361"
      },
      "execution_count": 35,
      "outputs": [
        {
          "output_type": "stream",
          "name": "stderr",
          "text": [
            "INFO:fbprophet:Disabling weekly seasonality. Run prophet with weekly_seasonality=True to override this.\n",
            "INFO:fbprophet:Disabling daily seasonality. Run prophet with daily_seasonality=True to override this.\n"
          ]
        }
      ]
    },
    {
      "cell_type": "code",
      "source": [
        "# устанавливаем индекс\n",
        "fut_fcast_prophet.index = fut_fcast_prophet.ds"
      ],
      "metadata": {
        "id": "RWEieNjDfyHM"
      },
      "execution_count": 36,
      "outputs": []
    },
    {
      "cell_type": "code",
      "source": [
        "# убедимся в изменениях\n",
        "fut_fcast_prophet.head()"
      ],
      "metadata": {
        "colab": {
          "base_uri": "https://localhost:8080/",
          "height": 388
        },
        "id": "GRAVlKdkf0oU",
        "outputId": "59e14424-66fb-4a24-b348-a32489286bae"
      },
      "execution_count": 37,
      "outputs": [
        {
          "output_type": "execute_result",
          "data": {
            "text/plain": [
              "                   ds      trend  yhat_lower  yhat_upper  trend_lower  \\\n",
              "ds                                                                      \n",
              "2015-01-01 2015-01-01  52.227147   63.530160   69.079714    52.227147   \n",
              "2015-02-01 2015-02-01  52.514599   58.566497   63.977039    52.514599   \n",
              "2015-03-01 2015-03-01  52.774233   52.672746   57.901797    52.774233   \n",
              "2015-04-01 2015-04-01  53.061685   47.853166   53.195350    53.061685   \n",
              "2015-05-01 2015-05-01  53.339864   46.091111   51.536973    53.339864   \n",
              "\n",
              "            trend_upper  additive_terms  additive_terms_lower  \\\n",
              "ds                                                              \n",
              "2015-01-01    52.227147       13.888081             13.888081   \n",
              "2015-02-01    52.514599        8.778983              8.778983   \n",
              "2015-03-01    52.774233        2.551749              2.551749   \n",
              "2015-04-01    53.061685       -2.427485             -2.427485   \n",
              "2015-05-01    53.339864       -4.469533             -4.469533   \n",
              "\n",
              "            additive_terms_upper     yearly  yearly_lower  yearly_upper  \\\n",
              "ds                                                                        \n",
              "2015-01-01             13.888081  13.888081     13.888081     13.888081   \n",
              "2015-02-01              8.778983   8.778983      8.778983      8.778983   \n",
              "2015-03-01              2.551749   2.551749      2.551749      2.551749   \n",
              "2015-04-01             -2.427485  -2.427485     -2.427485     -2.427485   \n",
              "2015-05-01             -4.469533  -4.469533     -4.469533     -4.469533   \n",
              "\n",
              "            multiplicative_terms  multiplicative_terms_lower  \\\n",
              "ds                                                             \n",
              "2015-01-01                   0.0                         0.0   \n",
              "2015-02-01                   0.0                         0.0   \n",
              "2015-03-01                   0.0                         0.0   \n",
              "2015-04-01                   0.0                         0.0   \n",
              "2015-05-01                   0.0                         0.0   \n",
              "\n",
              "            multiplicative_terms_upper       yhat  \n",
              "ds                                                 \n",
              "2015-01-01                         0.0  66.115228  \n",
              "2015-02-01                         0.0  61.293582  \n",
              "2015-03-01                         0.0  55.325982  \n",
              "2015-04-01                         0.0  50.634200  \n",
              "2015-05-01                         0.0  48.870331  "
            ],
            "text/html": [
              "\n",
              "  <div id=\"df-a839bdeb-efa1-4de1-b636-440960807065\">\n",
              "    <div class=\"colab-df-container\">\n",
              "      <div>\n",
              "<style scoped>\n",
              "    .dataframe tbody tr th:only-of-type {\n",
              "        vertical-align: middle;\n",
              "    }\n",
              "\n",
              "    .dataframe tbody tr th {\n",
              "        vertical-align: top;\n",
              "    }\n",
              "\n",
              "    .dataframe thead th {\n",
              "        text-align: right;\n",
              "    }\n",
              "</style>\n",
              "<table border=\"1\" class=\"dataframe\">\n",
              "  <thead>\n",
              "    <tr style=\"text-align: right;\">\n",
              "      <th></th>\n",
              "      <th>ds</th>\n",
              "      <th>trend</th>\n",
              "      <th>yhat_lower</th>\n",
              "      <th>yhat_upper</th>\n",
              "      <th>trend_lower</th>\n",
              "      <th>trend_upper</th>\n",
              "      <th>additive_terms</th>\n",
              "      <th>additive_terms_lower</th>\n",
              "      <th>additive_terms_upper</th>\n",
              "      <th>yearly</th>\n",
              "      <th>yearly_lower</th>\n",
              "      <th>yearly_upper</th>\n",
              "      <th>multiplicative_terms</th>\n",
              "      <th>multiplicative_terms_lower</th>\n",
              "      <th>multiplicative_terms_upper</th>\n",
              "      <th>yhat</th>\n",
              "    </tr>\n",
              "    <tr>\n",
              "      <th>ds</th>\n",
              "      <th></th>\n",
              "      <th></th>\n",
              "      <th></th>\n",
              "      <th></th>\n",
              "      <th></th>\n",
              "      <th></th>\n",
              "      <th></th>\n",
              "      <th></th>\n",
              "      <th></th>\n",
              "      <th></th>\n",
              "      <th></th>\n",
              "      <th></th>\n",
              "      <th></th>\n",
              "      <th></th>\n",
              "      <th></th>\n",
              "      <th></th>\n",
              "    </tr>\n",
              "  </thead>\n",
              "  <tbody>\n",
              "    <tr>\n",
              "      <th>2015-01-01</th>\n",
              "      <td>2015-01-01</td>\n",
              "      <td>52.227147</td>\n",
              "      <td>63.530160</td>\n",
              "      <td>69.079714</td>\n",
              "      <td>52.227147</td>\n",
              "      <td>52.227147</td>\n",
              "      <td>13.888081</td>\n",
              "      <td>13.888081</td>\n",
              "      <td>13.888081</td>\n",
              "      <td>13.888081</td>\n",
              "      <td>13.888081</td>\n",
              "      <td>13.888081</td>\n",
              "      <td>0.0</td>\n",
              "      <td>0.0</td>\n",
              "      <td>0.0</td>\n",
              "      <td>66.115228</td>\n",
              "    </tr>\n",
              "    <tr>\n",
              "      <th>2015-02-01</th>\n",
              "      <td>2015-02-01</td>\n",
              "      <td>52.514599</td>\n",
              "      <td>58.566497</td>\n",
              "      <td>63.977039</td>\n",
              "      <td>52.514599</td>\n",
              "      <td>52.514599</td>\n",
              "      <td>8.778983</td>\n",
              "      <td>8.778983</td>\n",
              "      <td>8.778983</td>\n",
              "      <td>8.778983</td>\n",
              "      <td>8.778983</td>\n",
              "      <td>8.778983</td>\n",
              "      <td>0.0</td>\n",
              "      <td>0.0</td>\n",
              "      <td>0.0</td>\n",
              "      <td>61.293582</td>\n",
              "    </tr>\n",
              "    <tr>\n",
              "      <th>2015-03-01</th>\n",
              "      <td>2015-03-01</td>\n",
              "      <td>52.774233</td>\n",
              "      <td>52.672746</td>\n",
              "      <td>57.901797</td>\n",
              "      <td>52.774233</td>\n",
              "      <td>52.774233</td>\n",
              "      <td>2.551749</td>\n",
              "      <td>2.551749</td>\n",
              "      <td>2.551749</td>\n",
              "      <td>2.551749</td>\n",
              "      <td>2.551749</td>\n",
              "      <td>2.551749</td>\n",
              "      <td>0.0</td>\n",
              "      <td>0.0</td>\n",
              "      <td>0.0</td>\n",
              "      <td>55.325982</td>\n",
              "    </tr>\n",
              "    <tr>\n",
              "      <th>2015-04-01</th>\n",
              "      <td>2015-04-01</td>\n",
              "      <td>53.061685</td>\n",
              "      <td>47.853166</td>\n",
              "      <td>53.195350</td>\n",
              "      <td>53.061685</td>\n",
              "      <td>53.061685</td>\n",
              "      <td>-2.427485</td>\n",
              "      <td>-2.427485</td>\n",
              "      <td>-2.427485</td>\n",
              "      <td>-2.427485</td>\n",
              "      <td>-2.427485</td>\n",
              "      <td>-2.427485</td>\n",
              "      <td>0.0</td>\n",
              "      <td>0.0</td>\n",
              "      <td>0.0</td>\n",
              "      <td>50.634200</td>\n",
              "    </tr>\n",
              "    <tr>\n",
              "      <th>2015-05-01</th>\n",
              "      <td>2015-05-01</td>\n",
              "      <td>53.339864</td>\n",
              "      <td>46.091111</td>\n",
              "      <td>51.536973</td>\n",
              "      <td>53.339864</td>\n",
              "      <td>53.339864</td>\n",
              "      <td>-4.469533</td>\n",
              "      <td>-4.469533</td>\n",
              "      <td>-4.469533</td>\n",
              "      <td>-4.469533</td>\n",
              "      <td>-4.469533</td>\n",
              "      <td>-4.469533</td>\n",
              "      <td>0.0</td>\n",
              "      <td>0.0</td>\n",
              "      <td>0.0</td>\n",
              "      <td>48.870331</td>\n",
              "    </tr>\n",
              "  </tbody>\n",
              "</table>\n",
              "</div>\n",
              "      <button class=\"colab-df-convert\" onclick=\"convertToInteractive('df-a839bdeb-efa1-4de1-b636-440960807065')\"\n",
              "              title=\"Convert this dataframe to an interactive table.\"\n",
              "              style=\"display:none;\">\n",
              "        \n",
              "  <svg xmlns=\"http://www.w3.org/2000/svg\" height=\"24px\"viewBox=\"0 0 24 24\"\n",
              "       width=\"24px\">\n",
              "    <path d=\"M0 0h24v24H0V0z\" fill=\"none\"/>\n",
              "    <path d=\"M18.56 5.44l.94 2.06.94-2.06 2.06-.94-2.06-.94-.94-2.06-.94 2.06-2.06.94zm-11 1L8.5 8.5l.94-2.06 2.06-.94-2.06-.94L8.5 2.5l-.94 2.06-2.06.94zm10 10l.94 2.06.94-2.06 2.06-.94-2.06-.94-.94-2.06-.94 2.06-2.06.94z\"/><path d=\"M17.41 7.96l-1.37-1.37c-.4-.4-.92-.59-1.43-.59-.52 0-1.04.2-1.43.59L10.3 9.45l-7.72 7.72c-.78.78-.78 2.05 0 2.83L4 21.41c.39.39.9.59 1.41.59.51 0 1.02-.2 1.41-.59l7.78-7.78 2.81-2.81c.8-.78.8-2.07 0-2.86zM5.41 20L4 18.59l7.72-7.72 1.47 1.35L5.41 20z\"/>\n",
              "  </svg>\n",
              "      </button>\n",
              "      \n",
              "  <style>\n",
              "    .colab-df-container {\n",
              "      display:flex;\n",
              "      flex-wrap:wrap;\n",
              "      gap: 12px;\n",
              "    }\n",
              "\n",
              "    .colab-df-convert {\n",
              "      background-color: #E8F0FE;\n",
              "      border: none;\n",
              "      border-radius: 50%;\n",
              "      cursor: pointer;\n",
              "      display: none;\n",
              "      fill: #1967D2;\n",
              "      height: 32px;\n",
              "      padding: 0 0 0 0;\n",
              "      width: 32px;\n",
              "    }\n",
              "\n",
              "    .colab-df-convert:hover {\n",
              "      background-color: #E2EBFA;\n",
              "      box-shadow: 0px 1px 2px rgba(60, 64, 67, 0.3), 0px 1px 3px 1px rgba(60, 64, 67, 0.15);\n",
              "      fill: #174EA6;\n",
              "    }\n",
              "\n",
              "    [theme=dark] .colab-df-convert {\n",
              "      background-color: #3B4455;\n",
              "      fill: #D2E3FC;\n",
              "    }\n",
              "\n",
              "    [theme=dark] .colab-df-convert:hover {\n",
              "      background-color: #434B5C;\n",
              "      box-shadow: 0px 1px 3px 1px rgba(0, 0, 0, 0.15);\n",
              "      filter: drop-shadow(0px 1px 2px rgba(0, 0, 0, 0.3));\n",
              "      fill: #FFFFFF;\n",
              "    }\n",
              "  </style>\n",
              "\n",
              "      <script>\n",
              "        const buttonEl =\n",
              "          document.querySelector('#df-a839bdeb-efa1-4de1-b636-440960807065 button.colab-df-convert');\n",
              "        buttonEl.style.display =\n",
              "          google.colab.kernel.accessAllowed ? 'block' : 'none';\n",
              "\n",
              "        async function convertToInteractive(key) {\n",
              "          const element = document.querySelector('#df-a839bdeb-efa1-4de1-b636-440960807065');\n",
              "          const dataTable =\n",
              "            await google.colab.kernel.invokeFunction('convertToInteractive',\n",
              "                                                     [key], {});\n",
              "          if (!dataTable) return;\n",
              "\n",
              "          const docLinkHtml = 'Like what you see? Visit the ' +\n",
              "            '<a target=\"_blank\" href=https://colab.research.google.com/notebooks/data_table.ipynb>data table notebook</a>'\n",
              "            + ' to learn more about interactive tables.';\n",
              "          element.innerHTML = '';\n",
              "          dataTable['output_type'] = 'display_data';\n",
              "          await google.colab.output.renderOutput(dataTable, element);\n",
              "          const docLink = document.createElement('div');\n",
              "          docLink.innerHTML = docLinkHtml;\n",
              "          element.appendChild(docLink);\n",
              "        }\n",
              "      </script>\n",
              "    </div>\n",
              "  </div>\n",
              "  "
            ]
          },
          "metadata": {},
          "execution_count": 37
        }
      ]
    },
    {
      "cell_type": "code",
      "source": [
        "#строим график на будущее\n",
        "\n",
        "ax = df['Consumption'].plot(legend=True, figsize=(10,3),title='Потребление электроэнергии в квартире') \n",
        "fut_fcast_prophet['yhat'].tail(12).plot(legend=True)\n",
        "ax.autoscale(axis='x',tight=True)\n",
        "ax.legend([\"Consumption\", \"PROPHET\"]);"
      ],
      "metadata": {
        "colab": {
          "base_uri": "https://localhost:8080/",
          "height": 229
        },
        "id": "P34UswEDVxMl",
        "outputId": "ecd4e6d0-bf64-4e2a-830c-c6198ae969f7"
      },
      "execution_count": 38,
      "outputs": [
        {
          "output_type": "display_data",
          "data": {
            "text/plain": [
              "<Figure size 720x216 with 1 Axes>"
            ],
            "image/png": "[encoded data removed]"
          },
          "metadata": {
            "needs_background": "light"
          }
        }
      ]
    },
    {
      "cell_type": "markdown",
      "source": [
        "# Выводы работы метода PROPHET:\n",
        "\n",
        "\n",
        "1. Модель показала себя хорошо, RMSE=3.7 кВт/ч, это хороший показатель.\n",
        "2. Но процент рассчитанной ошибки MAPE=23,4%, это плохой результат, такому прогнозу определенно нельзя доверять.\n",
        "\n",
        "\n"
      ],
      "metadata": {
        "id": "gjLLRTInkuJz"
      }
    },
    {
      "cell_type": "markdown",
      "source": [
        "Модель 2: \"Экспоненциальное сглаживание\" (Exponential smoothing)"
      ],
      "metadata": {
        "id": "OOs0tFXZpwEj"
      }
    },
    {
      "cell_type": "code",
      "source": [
        "# создаем модель с подобранными параметрами\n",
        "model_exps = ExponentialSmoothing(train['Consumption'], seasonal_periods=12, trend = 'add') # годовая сезонность"
      ],
      "metadata": {
        "id": "8zeC_QLzp0xW"
      },
      "execution_count": 39,
      "outputs": []
    },
    {
      "cell_type": "code",
      "source": [
        "# обучаем модель на обучающей выборке данных\n",
        "model_exps.fit()"
      ],
      "metadata": {
        "colab": {
          "base_uri": "https://localhost:8080/"
        },
        "id": "kaM7tpfwp9rL",
        "outputId": "f85305bd-6937-4c2f-8410-3ea0bc3f4a28"
      },
      "execution_count": 40,
      "outputs": [
        {
          "output_type": "execute_result",
          "data": {
            "text/plain": [
              "<statsmodels.tsa.holtwinters.results.HoltWintersResultsWrapper at 0x7f4ea1e58d90>"
            ]
          },
          "metadata": {},
          "execution_count": 40
        }
      ]
    },
    {
      "cell_type": "code",
      "source": [
        "# посмотрим на подобранные параметры модели\n",
        "model_exps.params"
      ],
      "metadata": {
        "colab": {
          "base_uri": "https://localhost:8080/"
        },
        "id": "61L_-vfxqG8u",
        "outputId": "87e9c7c7-f7be-4a88-c245-b009021eab67"
      },
      "execution_count": 41,
      "outputs": [
        {
          "output_type": "execute_result",
          "data": {
            "text/plain": [
              "{'damping_trend': nan,\n",
              " 'initial_level': 65.84891214889706,\n",
              " 'initial_seasons': array([], dtype=float64),\n",
              " 'initial_trend': 0.11389291238298985,\n",
              " 'lamda': None,\n",
              " 'remove_bias': False,\n",
              " 'smoothing_level': 0.9999999850988388,\n",
              " 'smoothing_seasonal': nan,\n",
              " 'smoothing_trend': 0.0,\n",
              " 'use_boxcox': False}"
            ]
          },
          "metadata": {},
          "execution_count": 41
        }
      ]
    },
    {
      "cell_type": "code",
      "source": [
        "# предсказываем значения,передав модели results точку начала и окончания\n",
        "prediction_exps = model_exps.predict(model_exps.params, start=test.index[0], end=test.index[-1])"
      ],
      "metadata": {
        "id": "lBcrC7z_qOTq"
      },
      "execution_count": 42,
      "outputs": []
    },
    {
      "cell_type": "code",
      "source": [
        "# определяем точку начала для прогноза\n",
        "test.index[0]"
      ],
      "metadata": {
        "colab": {
          "base_uri": "https://localhost:8080/"
        },
        "id": "4vXUswlJqbFM",
        "outputId": "3fd2febc-4509-463b-cc04-68c679861d57"
      },
      "execution_count": 43,
      "outputs": [
        {
          "output_type": "execute_result",
          "data": {
            "text/plain": [
              "Timestamp('2021-01-01 00:00:00', freq='MS')"
            ]
          },
          "metadata": {},
          "execution_count": 43
        }
      ]
    },
    {
      "cell_type": "code",
      "source": [
        "# определяем точку окончания для прогноза\n",
        "test.index[-1]"
      ],
      "metadata": {
        "colab": {
          "base_uri": "https://localhost:8080/"
        },
        "id": "dXCB1S0Fqhv7",
        "outputId": "1d9c630a-4686-46bd-9cb7-91e78aaa6f0b"
      },
      "execution_count": 44,
      "outputs": [
        {
          "output_type": "execute_result",
          "data": {
            "text/plain": [
              "Timestamp('2021-12-01 00:00:00', freq='MS')"
            ]
          },
          "metadata": {},
          "execution_count": 44
        }
      ]
    },
    {
      "cell_type": "code",
      "source": [
        "prediction_exps"
      ],
      "metadata": {
        "colab": {
          "base_uri": "https://localhost:8080/"
        },
        "id": "epZFf5U1qmud",
        "outputId": "4499c31f-c85e-4533-df54-6f17d90cdbdd"
      },
      "execution_count": 45,
      "outputs": [
        {
          "output_type": "execute_result",
          "data": {
            "text/plain": [
              "array([74.16309284, 74.27698576, 74.39087867, 74.50477158, 74.61866449,\n",
              "       74.7325574 , 74.84645032, 74.96034323, 75.07423614, 75.18812905,\n",
              "       75.30202197, 75.41591488])"
            ]
          },
          "metadata": {},
          "execution_count": 45
        }
      ]
    },
    {
      "cell_type": "code",
      "source": [
        "prediction_exps = pd.DataFrame(prediction_exps)\n",
        "prediction_exps.index = pd.date_range(\"2021-01-01 00:00:00\", periods=12, freq=\"M\")\n",
        "\n",
        "prediction_exps.columns = ['prediction_exps']"
      ],
      "metadata": {
        "id": "ZG31VJsTqyI6"
      },
      "execution_count": 46,
      "outputs": []
    },
    {
      "cell_type": "code",
      "source": [
        "# проверим\n",
        "prediction_exps.head(12)"
      ],
      "metadata": {
        "colab": {
          "base_uri": "https://localhost:8080/",
          "height": 426
        },
        "id": "7V6JURihrFHf",
        "outputId": "c074e05a-6196-4a00-dff8-974bf9c929af"
      },
      "execution_count": 47,
      "outputs": [
        {
          "output_type": "execute_result",
          "data": {
            "text/plain": [
              "            prediction_exps\n",
              "2021-01-31        74.163093\n",
              "2021-02-28        74.276986\n",
              "2021-03-31        74.390879\n",
              "2021-04-30        74.504772\n",
              "2021-05-31        74.618664\n",
              "2021-06-30        74.732557\n",
              "2021-07-31        74.846450\n",
              "2021-08-31        74.960343\n",
              "2021-09-30        75.074236\n",
              "2021-10-31        75.188129\n",
              "2021-11-30        75.302022\n",
              "2021-12-31        75.415915"
            ],
            "text/html": [
              "\n",
              "  <div id=\"df-4364df9d-421e-42fb-b8ba-a41e629ed1cb\">\n",
              "    <div class=\"colab-df-container\">\n",
              "      <div>\n",
              "<style scoped>\n",
              "    .dataframe tbody tr th:only-of-type {\n",
              "        vertical-align: middle;\n",
              "    }\n",
              "\n",
              "    .dataframe tbody tr th {\n",
              "        vertical-align: top;\n",
              "    }\n",
              "\n",
              "    .dataframe thead th {\n",
              "        text-align: right;\n",
              "    }\n",
              "</style>\n",
              "<table border=\"1\" class=\"dataframe\">\n",
              "  <thead>\n",
              "    <tr style=\"text-align: right;\">\n",
              "      <th></th>\n",
              "      <th>prediction_exps</th>\n",
              "    </tr>\n",
              "  </thead>\n",
              "  <tbody>\n",
              "    <tr>\n",
              "      <th>2021-01-31</th>\n",
              "      <td>74.163093</td>\n",
              "    </tr>\n",
              "    <tr>\n",
              "      <th>2021-02-28</th>\n",
              "      <td>74.276986</td>\n",
              "    </tr>\n",
              "    <tr>\n",
              "      <th>2021-03-31</th>\n",
              "      <td>74.390879</td>\n",
              "    </tr>\n",
              "    <tr>\n",
              "      <th>2021-04-30</th>\n",
              "      <td>74.504772</td>\n",
              "    </tr>\n",
              "    <tr>\n",
              "      <th>2021-05-31</th>\n",
              "      <td>74.618664</td>\n",
              "    </tr>\n",
              "    <tr>\n",
              "      <th>2021-06-30</th>\n",
              "      <td>74.732557</td>\n",
              "    </tr>\n",
              "    <tr>\n",
              "      <th>2021-07-31</th>\n",
              "      <td>74.846450</td>\n",
              "    </tr>\n",
              "    <tr>\n",
              "      <th>2021-08-31</th>\n",
              "      <td>74.960343</td>\n",
              "    </tr>\n",
              "    <tr>\n",
              "      <th>2021-09-30</th>\n",
              "      <td>75.074236</td>\n",
              "    </tr>\n",
              "    <tr>\n",
              "      <th>2021-10-31</th>\n",
              "      <td>75.188129</td>\n",
              "    </tr>\n",
              "    <tr>\n",
              "      <th>2021-11-30</th>\n",
              "      <td>75.302022</td>\n",
              "    </tr>\n",
              "    <tr>\n",
              "      <th>2021-12-31</th>\n",
              "      <td>75.415915</td>\n",
              "    </tr>\n",
              "  </tbody>\n",
              "</table>\n",
              "</div>\n",
              "      <button class=\"colab-df-convert\" onclick=\"convertToInteractive('df-4364df9d-421e-42fb-b8ba-a41e629ed1cb')\"\n",
              "              title=\"Convert this dataframe to an interactive table.\"\n",
              "              style=\"display:none;\">\n",
              "        \n",
              "  <svg xmlns=\"http://www.w3.org/2000/svg\" height=\"24px\"viewBox=\"0 0 24 24\"\n",
              "       width=\"24px\">\n",
              "    <path d=\"M0 0h24v24H0V0z\" fill=\"none\"/>\n",
              "    <path d=\"M18.56 5.44l.94 2.06.94-2.06 2.06-.94-2.06-.94-.94-2.06-.94 2.06-2.06.94zm-11 1L8.5 8.5l.94-2.06 2.06-.94-2.06-.94L8.5 2.5l-.94 2.06-2.06.94zm10 10l.94 2.06.94-2.06 2.06-.94-2.06-.94-.94-2.06-.94 2.06-2.06.94z\"/><path d=\"M17.41 7.96l-1.37-1.37c-.4-.4-.92-.59-1.43-.59-.52 0-1.04.2-1.43.59L10.3 9.45l-7.72 7.72c-.78.78-.78 2.05 0 2.83L4 21.41c.39.39.9.59 1.41.59.51 0 1.02-.2 1.41-.59l7.78-7.78 2.81-2.81c.8-.78.8-2.07 0-2.86zM5.41 20L4 18.59l7.72-7.72 1.47 1.35L5.41 20z\"/>\n",
              "  </svg>\n",
              "      </button>\n",
              "      \n",
              "  <style>\n",
              "    .colab-df-container {\n",
              "      display:flex;\n",
              "      flex-wrap:wrap;\n",
              "      gap: 12px;\n",
              "    }\n",
              "\n",
              "    .colab-df-convert {\n",
              "      background-color: #E8F0FE;\n",
              "      border: none;\n",
              "      border-radius: 50%;\n",
              "      cursor: pointer;\n",
              "      display: none;\n",
              "      fill: #1967D2;\n",
              "      height: 32px;\n",
              "      padding: 0 0 0 0;\n",
              "      width: 32px;\n",
              "    }\n",
              "\n",
              "    .colab-df-convert:hover {\n",
              "      background-color: #E2EBFA;\n",
              "      box-shadow: 0px 1px 2px rgba(60, 64, 67, 0.3), 0px 1px 3px 1px rgba(60, 64, 67, 0.15);\n",
              "      fill: #174EA6;\n",
              "    }\n",
              "\n",
              "    [theme=dark] .colab-df-convert {\n",
              "      background-color: #3B4455;\n",
              "      fill: #D2E3FC;\n",
              "    }\n",
              "\n",
              "    [theme=dark] .colab-df-convert:hover {\n",
              "      background-color: #434B5C;\n",
              "      box-shadow: 0px 1px 3px 1px rgba(0, 0, 0, 0.15);\n",
              "      filter: drop-shadow(0px 1px 2px rgba(0, 0, 0, 0.3));\n",
              "      fill: #FFFFFF;\n",
              "    }\n",
              "  </style>\n",
              "\n",
              "      <script>\n",
              "        const buttonEl =\n",
              "          document.querySelector('#df-4364df9d-421e-42fb-b8ba-a41e629ed1cb button.colab-df-convert');\n",
              "        buttonEl.style.display =\n",
              "          google.colab.kernel.accessAllowed ? 'block' : 'none';\n",
              "\n",
              "        async function convertToInteractive(key) {\n",
              "          const element = document.querySelector('#df-4364df9d-421e-42fb-b8ba-a41e629ed1cb');\n",
              "          const dataTable =\n",
              "            await google.colab.kernel.invokeFunction('convertToInteractive',\n",
              "                                                     [key], {});\n",
              "          if (!dataTable) return;\n",
              "\n",
              "          const docLinkHtml = 'Like what you see? Visit the ' +\n",
              "            '<a target=\"_blank\" href=https://colab.research.google.com/notebooks/data_table.ipynb>data table notebook</a>'\n",
              "            + ' to learn more about interactive tables.';\n",
              "          element.innerHTML = '';\n",
              "          dataTable['output_type'] = 'display_data';\n",
              "          await google.colab.output.renderOutput(dataTable, element);\n",
              "          const docLink = document.createElement('div');\n",
              "          docLink.innerHTML = docLinkHtml;\n",
              "          element.appendChild(docLink);\n",
              "        }\n",
              "      </script>\n",
              "    </div>\n",
              "  </div>\n",
              "  "
            ]
          },
          "metadata": {},
          "execution_count": 47
        }
      ]
    },
    {
      "cell_type": "code",
      "source": [
        "# сравниваем прогноз и тестовую выборку\n",
        "\n",
        "title = 'Потребление электроэнергии в квартире' # название графика\n",
        "\n",
        "ax = test['Consumption'].plot(legend=True, figsize=(12,6),title=title)\n",
        "prediction_exps['prediction_exps'].plot(legend=True)\n",
        "ax.autoscale(axis='x',tight=True)"
      ],
      "metadata": {
        "colab": {
          "base_uri": "https://localhost:8080/",
          "height": 416
        },
        "id": "XACIIlcnrc7L",
        "outputId": "93a37dc1-79bc-4dff-e8e1-0c41e3c6b24f"
      },
      "execution_count": 48,
      "outputs": [
        {
          "output_type": "display_data",
          "data": {
            "text/plain": [
              "<Figure size 864x432 with 1 Axes>"
            ],
            "image/png": "[encoded data removed]"
          },
          "metadata": {
            "needs_background": "light"
          }
        }
      ]
    },
    {
      "cell_type": "code",
      "source": [
        "#оцениваем качество модели методом MSE, RMSE, MAE, MAPE\n",
        "mae_error = mean_absolute_error(test['Consumption'], prediction_exps['prediction_exps'])\n",
        "mse_error = mean_squared_error(test['Consumption'], prediction_exps['prediction_exps'])\n",
        "rmse_error = rmse(test['Consumption'], prediction_exps['prediction_exps'])\n",
        "mape_error = np.mean(np.abs(prediction_exps['prediction_exps'] - test['Consumption'])/test['Consumption'])*100\n",
        "\n",
        "print(f'Exponential smoothing MAE Error: {mae_error:11.10}')\n",
        "print(f'Exponential smoothing MSE Error: {mse_error:11.10}')\n",
        "print(f'Exponential smoothing RMSE Error: {rmse_error:11.10}')\n",
        "print(f'Exponential smoothing MAPE Error: {mape_error:11.10}')"
      ],
      "metadata": {
        "colab": {
          "base_uri": "https://localhost:8080/"
        },
        "id": "IO3WZMH0rxy3",
        "outputId": "48eb9523-7876-4172-9577-30ece3e00111"
      },
      "execution_count": 49,
      "outputs": [
        {
          "output_type": "stream",
          "name": "stdout",
          "text": [
            "Exponential smoothing MAE Error: 7.873279948\n",
            "Exponential smoothing MSE Error: 73.98818795\n",
            "Exponential smoothing RMSE Error: 8.601638678\n",
            "Exponential smoothing MAPE Error:         nan\n"
          ]
        }
      ]
    },
    {
      "cell_type": "markdown",
      "source": [
        "Т.к. MAPE = nan,  то для оценки модели будет использован показатель RMSE. "
      ],
      "metadata": {
        "id": "HPjnPWp8iEjN"
      }
    },
    {
      "cell_type": "code",
      "source": [
        "# делаем прогноз на год вперед\n",
        "\n",
        "# обучаем модель на всем датасете\n",
        "fut_model_exps = ExponentialSmoothing(df['Consumption'], seasonal_periods=12, trend = 'add') # годовая сезонность\n",
        "fut_model_exps.fit()\n",
        "\n",
        "# задаем точки будущего\n",
        "fut_fcast_exps = fut_model_exps.predict(fut_model_exps.params, start=len(df)-1, end=len(df)+11)\n",
        "\n",
        "# преобразуем в датафрейм с индексами\n",
        "fut_fcast_exps = pd.DataFrame(fut_fcast_exps)\n",
        "fut_fcast_exps.index = pd.date_range(\"2021-01-01 00:00:00\", periods=13, freq=\"M\")\n",
        "fut_fcast_exps.columns = ['fut_fcast_exps']"
      ],
      "metadata": {
        "id": "4XomtJB-sYRM"
      },
      "execution_count": 50,
      "outputs": []
    },
    {
      "cell_type": "code",
      "source": [
        "#проверим\n",
        "fut_fcast_exps.head(12)"
      ],
      "metadata": {
        "colab": {
          "base_uri": "https://localhost:8080/",
          "height": 426
        },
        "id": "g1HModCXsppg",
        "outputId": "e4ebc4c5-2ae3-44ba-a7d0-601ba731d723"
      },
      "execution_count": 51,
      "outputs": [
        {
          "output_type": "execute_result",
          "data": {
            "text/plain": [
              "            fut_fcast_exps\n",
              "2021-01-31       69.477684\n",
              "2021-02-28       84.626184\n",
              "2021-03-31       84.848368\n",
              "2021-04-30       85.070552\n",
              "2021-05-31       85.292736\n",
              "2021-06-30       85.514920\n",
              "2021-07-31       85.737104\n",
              "2021-08-31       85.959288\n",
              "2021-09-30       86.181472\n",
              "2021-10-31       86.403655\n",
              "2021-11-30       86.625839\n",
              "2021-12-31       86.848023"
            ],
            "text/html": [
              "\n",
              "  <div id=\"df-c5882101-bbaa-4c79-b97b-aef541c7d6b8\">\n",
              "    <div class=\"colab-df-container\">\n",
              "      <div>\n",
              "<style scoped>\n",
              "    .dataframe tbody tr th:only-of-type {\n",
              "        vertical-align: middle;\n",
              "    }\n",
              "\n",
              "    .dataframe tbody tr th {\n",
              "        vertical-align: top;\n",
              "    }\n",
              "\n",
              "    .dataframe thead th {\n",
              "        text-align: right;\n",
              "    }\n",
              "</style>\n",
              "<table border=\"1\" class=\"dataframe\">\n",
              "  <thead>\n",
              "    <tr style=\"text-align: right;\">\n",
              "      <th></th>\n",
              "      <th>fut_fcast_exps</th>\n",
              "    </tr>\n",
              "  </thead>\n",
              "  <tbody>\n",
              "    <tr>\n",
              "      <th>2021-01-31</th>\n",
              "      <td>69.477684</td>\n",
              "    </tr>\n",
              "    <tr>\n",
              "      <th>2021-02-28</th>\n",
              "      <td>84.626184</td>\n",
              "    </tr>\n",
              "    <tr>\n",
              "      <th>2021-03-31</th>\n",
              "      <td>84.848368</td>\n",
              "    </tr>\n",
              "    <tr>\n",
              "      <th>2021-04-30</th>\n",
              "      <td>85.070552</td>\n",
              "    </tr>\n",
              "    <tr>\n",
              "      <th>2021-05-31</th>\n",
              "      <td>85.292736</td>\n",
              "    </tr>\n",
              "    <tr>\n",
              "      <th>2021-06-30</th>\n",
              "      <td>85.514920</td>\n",
              "    </tr>\n",
              "    <tr>\n",
              "      <th>2021-07-31</th>\n",
              "      <td>85.737104</td>\n",
              "    </tr>\n",
              "    <tr>\n",
              "      <th>2021-08-31</th>\n",
              "      <td>85.959288</td>\n",
              "    </tr>\n",
              "    <tr>\n",
              "      <th>2021-09-30</th>\n",
              "      <td>86.181472</td>\n",
              "    </tr>\n",
              "    <tr>\n",
              "      <th>2021-10-31</th>\n",
              "      <td>86.403655</td>\n",
              "    </tr>\n",
              "    <tr>\n",
              "      <th>2021-11-30</th>\n",
              "      <td>86.625839</td>\n",
              "    </tr>\n",
              "    <tr>\n",
              "      <th>2021-12-31</th>\n",
              "      <td>86.848023</td>\n",
              "    </tr>\n",
              "  </tbody>\n",
              "</table>\n",
              "</div>\n",
              "      <button class=\"colab-df-convert\" onclick=\"convertToInteractive('df-c5882101-bbaa-4c79-b97b-aef541c7d6b8')\"\n",
              "              title=\"Convert this dataframe to an interactive table.\"\n",
              "              style=\"display:none;\">\n",
              "        \n",
              "  <svg xmlns=\"http://www.w3.org/2000/svg\" height=\"24px\"viewBox=\"0 0 24 24\"\n",
              "       width=\"24px\">\n",
              "    <path d=\"M0 0h24v24H0V0z\" fill=\"none\"/>\n",
              "    <path d=\"M18.56 5.44l.94 2.06.94-2.06 2.06-.94-2.06-.94-.94-2.06-.94 2.06-2.06.94zm-11 1L8.5 8.5l.94-2.06 2.06-.94-2.06-.94L8.5 2.5l-.94 2.06-2.06.94zm10 10l.94 2.06.94-2.06 2.06-.94-2.06-.94-.94-2.06-.94 2.06-2.06.94z\"/><path d=\"M17.41 7.96l-1.37-1.37c-.4-.4-.92-.59-1.43-.59-.52 0-1.04.2-1.43.59L10.3 9.45l-7.72 7.72c-.78.78-.78 2.05 0 2.83L4 21.41c.39.39.9.59 1.41.59.51 0 1.02-.2 1.41-.59l7.78-7.78 2.81-2.81c.8-.78.8-2.07 0-2.86zM5.41 20L4 18.59l7.72-7.72 1.47 1.35L5.41 20z\"/>\n",
              "  </svg>\n",
              "      </button>\n",
              "      \n",
              "  <style>\n",
              "    .colab-df-container {\n",
              "      display:flex;\n",
              "      flex-wrap:wrap;\n",
              "      gap: 12px;\n",
              "    }\n",
              "\n",
              "    .colab-df-convert {\n",
              "      background-color: #E8F0FE;\n",
              "      border: none;\n",
              "      border-radius: 50%;\n",
              "      cursor: pointer;\n",
              "      display: none;\n",
              "      fill: #1967D2;\n",
              "      height: 32px;\n",
              "      padding: 0 0 0 0;\n",
              "      width: 32px;\n",
              "    }\n",
              "\n",
              "    .colab-df-convert:hover {\n",
              "      background-color: #E2EBFA;\n",
              "      box-shadow: 0px 1px 2px rgba(60, 64, 67, 0.3), 0px 1px 3px 1px rgba(60, 64, 67, 0.15);\n",
              "      fill: #174EA6;\n",
              "    }\n",
              "\n",
              "    [theme=dark] .colab-df-convert {\n",
              "      background-color: #3B4455;\n",
              "      fill: #D2E3FC;\n",
              "    }\n",
              "\n",
              "    [theme=dark] .colab-df-convert:hover {\n",
              "      background-color: #434B5C;\n",
              "      box-shadow: 0px 1px 3px 1px rgba(0, 0, 0, 0.15);\n",
              "      filter: drop-shadow(0px 1px 2px rgba(0, 0, 0, 0.3));\n",
              "      fill: #FFFFFF;\n",
              "    }\n",
              "  </style>\n",
              "\n",
              "      <script>\n",
              "        const buttonEl =\n",
              "          document.querySelector('#df-c5882101-bbaa-4c79-b97b-aef541c7d6b8 button.colab-df-convert');\n",
              "        buttonEl.style.display =\n",
              "          google.colab.kernel.accessAllowed ? 'block' : 'none';\n",
              "\n",
              "        async function convertToInteractive(key) {\n",
              "          const element = document.querySelector('#df-c5882101-bbaa-4c79-b97b-aef541c7d6b8');\n",
              "          const dataTable =\n",
              "            await google.colab.kernel.invokeFunction('convertToInteractive',\n",
              "                                                     [key], {});\n",
              "          if (!dataTable) return;\n",
              "\n",
              "          const docLinkHtml = 'Like what you see? Visit the ' +\n",
              "            '<a target=\"_blank\" href=https://colab.research.google.com/notebooks/data_table.ipynb>data table notebook</a>'\n",
              "            + ' to learn more about interactive tables.';\n",
              "          element.innerHTML = '';\n",
              "          dataTable['output_type'] = 'display_data';\n",
              "          await google.colab.output.renderOutput(dataTable, element);\n",
              "          const docLink = document.createElement('div');\n",
              "          docLink.innerHTML = docLinkHtml;\n",
              "          element.appendChild(docLink);\n",
              "        }\n",
              "      </script>\n",
              "    </div>\n",
              "  </div>\n",
              "  "
            ]
          },
          "metadata": {},
          "execution_count": 51
        }
      ]
    },
    {
      "cell_type": "code",
      "source": [
        "#строим график на будущее\n",
        "title = 'Потребление электроэнергии вквартире' # название графика\n",
        "\n",
        "ax = df['Consumption'].plot(legend=True, figsize=(12,3),title=title) \n",
        "fut_fcast_exps['fut_fcast_exps'].tail(12).plot(legend=True)\n",
        "ax.autoscale(axis='x',tight=True)"
      ],
      "metadata": {
        "colab": {
          "base_uri": "https://localhost:8080/",
          "height": 241
        },
        "id": "zS216gy1s3AV",
        "outputId": "c5c306f3-f429-411a-f9f1-d681d710700c"
      },
      "execution_count": 52,
      "outputs": [
        {
          "output_type": "display_data",
          "data": {
            "text/plain": [
              "<Figure size 864x216 with 1 Axes>"
            ],
            "image/png": "[encoded data removed]"
          },
          "metadata": {
            "needs_background": "light"
          }
        }
      ]
    },
    {
      "cell_type": "markdown",
      "source": [
        "Выводы работы метода \"Экспоненциальное сглаживание\" (Exponential smoothing):\n",
        "1. Модель показала себя плохо, RMSE=8.6 кВт/ч, это не очень хороший показатель, слишком высокий уровень ошибки. Такому прогнозу нельзя доверять.\n"
      ],
      "metadata": {
        "id": "DgX7zo9UrKP2"
      }
    },
    {
      "cell_type": "markdown",
      "source": [
        "# Общие выводы:\n",
        "- Проведен анализ данных с использованием современных методов обработки статистической информации.\n",
        "\n",
        "- Рассчитаны основные статистические метрики, позволяющие судить о характере исследуемого явления.\n",
        "\n",
        "- Результаты анализа представленных данных помогли выявить зависимость потребления электроэнергии в зависимости от сезона года.\n",
        "- Сравнивая три модели прогноза, лучшего всего себя показала модель SARIMAX, согласно показателям ошибок RMSE (2,8 кВт/ч) и MAPE (3%) данная модель делает лучший прогноз, которому можно доверять.\n"
      ],
      "metadata": {
        "id": "1Ezw3oT7usGo"
      }
    }
  ]
}